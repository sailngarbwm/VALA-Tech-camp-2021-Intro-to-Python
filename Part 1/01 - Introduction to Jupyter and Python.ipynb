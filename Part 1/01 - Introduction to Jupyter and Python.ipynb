{
 "cells": [
  {
   "cell_type": "markdown",
   "metadata": {
    "slideshow": {
     "slide_type": "skip"
    }
   },
   "source": [
    "# Introduction to Jupyter Notebook"
   ]
  },
  {
   "cell_type": "code",
   "execution_count": null,
   "metadata": {
    "collapsed": true,
    "slideshow": {
     "slide_type": "skip"
    }
   },
   "outputs": [],
   "source": [
    "import numpy as np"
   ]
  },
  {
   "cell_type": "markdown",
   "metadata": {
    "slideshow": {
     "slide_type": "slide"
    }
   },
   "source": [
    "<h1><center>Why are you learning how to code?</center></h1>"
   ]
  },
  {
   "cell_type": "markdown",
   "metadata": {
    "slideshow": {
     "slide_type": "fragment"
    }
   },
   "source": [
    "###           - All Researchers are data scientists"
   ]
  },
  {
   "cell_type": "markdown",
   "metadata": {
    "slideshow": {
     "slide_type": "fragment"
    }
   },
   "source": [
    "###           - You can go from months to minutes by automating things"
   ]
  },
  {
   "cell_type": "markdown",
   "metadata": {
    "slideshow": {
     "slide_type": "fragment"
    }
   },
   "source": [
    "###           - It leaves a readable list of instructions describing your analysis\n"
   ]
  },
  {
   "cell_type": "markdown",
   "metadata": {
    "slideshow": {
     "slide_type": "slide"
    }
   },
   "source": [
    "### And because you are tired of this I hope?\n",
    "<img src=\"Imbedded Pics/hell_ss.gif\" alt=\"dr_evil\" style=\"width:auto;height:60vh\">"
   ]
  },
  {
   "cell_type": "markdown",
   "metadata": {
    "slideshow": {
     "slide_type": "slide"
    }
   },
   "source": [
    "# You already know how to Code!\n",
    "\n",
    "<img src=\"Imbedded Pics/already_know_howto_code.png\" alt=\"dr_evil\" style=\"width:auto;height:40vh\">"
   ]
  },
  {
   "cell_type": "code",
   "execution_count": null,
   "metadata": {
    "collapsed": true,
    "slideshow": {
     "slide_type": "fragment"
    }
   },
   "outputs": [],
   "source": [
    "# We are just putting our data in different places\n",
    "b = [1,2,3]\n",
    "# And using different commands to do the same things\n",
    "np.mean(b)"
   ]
  },
  {
   "cell_type": "markdown",
   "metadata": {
    "collapsed": true,
    "slideshow": {
     "slide_type": "slide"
    }
   },
   "source": [
    "<h1><center>We just need to learn how to organize our data, and use the commands</center></h1>"
   ]
  },
  {
   "cell_type": "markdown",
   "metadata": {
    "slideshow": {
     "slide_type": "fragment"
    }
   },
   "source": [
    " - The problem is there are so many commands and data structures available to us in Python, we dont have time to cover a tiny bit \n"
   ]
  },
  {
   "cell_type": "markdown",
   "metadata": {
    "collapsed": true,
    "slideshow": {
     "slide_type": "slide"
    }
   },
   "source": [
    "<h1><center>But what will do in 8 hours of class, is build a foundation</center></h1>"
   ]
  },
  {
   "cell_type": "markdown",
   "metadata": {
    "collapsed": true,
    "slideshow": {
     "slide_type": "fragment"
    }
   },
   "source": [
    " - By learning the ***syntax*** around the basic programming structures"
   ]
  },
  {
   "cell_type": "markdown",
   "metadata": {
    "slideshow": {
     "slide_type": "fragment"
    }
   },
   "source": [
    " - And the ***jargon*** that Programmers use to talk about python"
   ]
  },
  {
   "cell_type": "markdown",
   "metadata": {
    "slideshow": {
     "slide_type": "fragment"
    }
   },
   "source": [
    " - And walk through the foundational programming concepts"
   ]
  },
  {
   "cell_type": "markdown",
   "metadata": {
    "slideshow": {
     "slide_type": "fragment"
    }
   },
   "source": [
    "- ...And you will discover that once you know the basics, you will be able pick up more advanced python tools more easily"
   ]
  },
  {
   "cell_type": "markdown",
   "metadata": {
    "slideshow": {
     "slide_type": "slide"
    }
   },
   "source": [
    "<h1><center>With this knowledge it will be easier to teach ourselves exactly what we need for our solution, and google for the answers!</center></h1>"
   ]
  },
  {
   "cell_type": "markdown",
   "metadata": {
    "slideshow": {
     "slide_type": "notes"
    }
   },
   "source": [
    "\n",
    "Here, we're going to go through the Jupyter Notebook interface and figure out exactly how it's used. \n",
    "\n",
    "Each of the \"boxes\" you can see here are called \"cells\", and these allow you to write and run code, or take notes. Every time you make a new cells it defaults to being a \"code\" cell, for programming. \n",
    "\n",
    "However, you'll notice that this section is just plain text. This is known as a \"markdown\" cell, and this can be used to take notes, or even to help format reports. You can change whether a cell is in the markdown or code format using the toggle bar up the top. \n",
    "\n",
    "There are also a range of keyboard shortcuts that allow you to easily perform a variety of actions on these cells. You can find these under the \"help\" menu item, or in the \"command palette\" (looks like a keyboard) on the side of command toggle bar. \n",
    "\n",
    "These shortcuts are extremely helpful, and will allow you to easily do things like create or delete \"cells\", move them around the notebook, run your cells, etc. \n",
    "\n",
    "An external file for jupyter commands can be found on the [github](https://github.com/resbaz/introPython_July2017/blob/master/jupyterNotebook_Cheatsheet.pdf)."
   ]
  },
  {
   "cell_type": "markdown",
   "metadata": {
    "collapsed": true,
    "slideshow": {
     "slide_type": "notes"
    }
   },
   "source": [
    "You may have noticed while playing around that 'running' a code cell usually gives you some errors. This is because the cell didn't contain any *commands* that the computer could recognise."
   ]
  },
  {
   "cell_type": "code",
   "execution_count": null,
   "metadata": {
    "collapsed": true,
    "slideshow": {
     "slide_type": "slide"
    }
   },
   "outputs": [],
   "source": [
    "#To \"run\" a cell, you can use the keyboard command Shift-Enter, \n",
    "# or the control bar \n",
    "Stuff!"
   ]
  },
  {
   "cell_type": "markdown",
   "metadata": {
    "collapsed": true,
    "slideshow": {
     "slide_type": "slide"
    }
   },
   "source": [
    "\n",
    "\n",
    "## Our Python Interpreter is like a well behaved dog\n",
    "\n",
    "![a dog](http://janfennellthedoglistener.com/static/cms/ConfusedDog.png \"When you try to give you computer human words\")\n",
    "\n",
    "\n",
    "\n",
    "\n"
   ]
  },
  {
   "cell_type": "markdown",
   "metadata": {
    "slideshow": {
     "slide_type": "notes"
    }
   },
   "source": [
    "Python, the programming language, is essentially just a system of commands that lets you command the computer to do the tricks that you want it to do. Imagine that your computer is like a very well trained dog that you've adopted from the shelter, and now you need to learn what commands your computer-dog responds to. Unlike the dog though, it's much easier to try and learn the commands that the computer already knows, rather than try to teach the computer how to use, say, English. We'll leave that to the AI developers."
   ]
  },
  {
   "cell_type": "markdown",
   "metadata": {
    "slideshow": {
     "slide_type": "slide"
    }
   },
   "source": [
    "## Scripting is just giving this dog a list of instructions\n",
    "\n",
    "\n",
    "<center><img src=\"Imbedded Pics/puppy-chefs.jpg\" alt=\"dr_evil\" style=\"width:auto;height:70vh\"></center>\n",
    "\n"
   ]
  },
  {
   "cell_type": "markdown",
   "metadata": {
    "slideshow": {
     "slide_type": "slide"
    }
   },
   "source": [
    "### Just like instructions to cook a meal\n",
    "\n",
    "Means we have to write these instructions:\n",
    "\n",
    "    1.) In a logical order\n",
    "    2.) Explicit\n",
    "    2.) written in the dogs language"
   ]
  },
  {
   "cell_type": "markdown",
   "metadata": {
    "slideshow": {
     "slide_type": "slide"
    }
   },
   "source": [
    "### And much like a kitchen, you have *ingredients, or data* \n",
    "\n",
    "``` turkey = data```\n",
    "\n",
    "<center><img src=\"Imbedded Pics\\turkey.jpeg\" alt=\"dr_evil\" style=\"width:auto;height:70vh\"></center>\n"
   ]
  },
  {
   "cell_type": "markdown",
   "metadata": {
    "slideshow": {
     "slide_type": "slide"
    }
   },
   "source": [
    "### And much like a kitchen, you have your cooking tools and actions or *functions, methods, and packages*\n",
    "\n",
    "``` Delish = oven(turkey,temperature = '260 Degs C',time='4 hours')```\n",
    "\n",
    "\n",
    "<center><img src=\"Imbedded Pics/turkey_in_oven.jpg\" alt=\"dr_evil\" style=\"width:auto;height:50vh\"></center>"
   ]
  },
  {
   "cell_type": "markdown",
   "metadata": {
    "collapsed": true,
    "slideshow": {
     "slide_type": "slide"
    }
   },
   "source": [
    "### Learning Objectives:\n",
    "- **discover the basic *\"ingredients\"* i.e. numeric and string data types**\n",
    "- ** Use some basic *\"cooking tools\"* i.e. functions**\n",
    "- Be able to apply type-specific functions to each of:\n",
    "    - ** Numerics: Integers (int) and Floats(float)**: \n",
    "    - **Strings (str)**:\n",
    "- Know how to assign something to a ***variable***, and perform basic operations on it\n",
    "    "
   ]
  },
  {
   "cell_type": "markdown",
   "metadata": {
    "slideshow": {
     "slide_type": "slide"
    }
   },
   "source": [
    "### Data Types - You have seen this before in Excel!\n",
    "<center><img src=\"Imbedded Pics/dtypes_excel.png\" alt=\"dr_evil\" style=\"width:auto;height:40vh\"></center>"
   ]
  },
  {
   "cell_type": "markdown",
   "metadata": {
    "slideshow": {
     "slide_type": "slide"
    }
   },
   "source": [
    "### Data Types: Int and Float\n",
    "\n",
    "There are two different types of ways that Python uses **_numeric_** data\n",
    "- whole number integers (int).\n",
    "- floats (floating point numbers, or decimals). \n",
    "\n",
    "\n",
    "\n",
    "You can do almost the same things with floats as you can with integers, except the results you get will have a greater precision.\n",
    "\n",
    "Using numeric data types, you can do all kinds of simple (and more complex) arithmetic:"
   ]
  },
  {
   "cell_type": "markdown",
   "metadata": {
    "slideshow": {
     "slide_type": "slide"
    }
   },
   "source": [
    "### Python, the Calculator"
   ]
  },
  {
   "cell_type": "code",
   "execution_count": null,
   "metadata": {
    "collapsed": true,
    "slideshow": {
     "slide_type": "fragment"
    }
   },
   "outputs": [],
   "source": [
    "# You can add and subtract numbers\n",
    "5-3"
   ]
  },
  {
   "cell_type": "code",
   "execution_count": null,
   "metadata": {
    "collapsed": true,
    "slideshow": {
     "slide_type": "fragment"
    }
   },
   "outputs": [],
   "source": [
    "# Work with negative numbers\n",
    "-5 + 2"
   ]
  },
  {
   "cell_type": "code",
   "execution_count": null,
   "metadata": {
    "collapsed": true,
    "slideshow": {
     "slide_type": "fragment"
    }
   },
   "outputs": [],
   "source": [
    "# As well as multiply and divide\n",
    "5 * 2 / 5"
   ]
  },
  {
   "cell_type": "code",
   "execution_count": null,
   "metadata": {
    "collapsed": true,
    "slideshow": {
     "slide_type": "fragment"
    }
   },
   "outputs": [],
   "source": [
    "# You can square numbers using the \"power\" command, **\n",
    "2**2"
   ]
  },
  {
   "cell_type": "markdown",
   "metadata": {
    "slideshow": {
     "slide_type": "slide"
    }
   },
   "source": [
    "### Some more interesting commands...."
   ]
  },
  {
   "cell_type": "code",
   "execution_count": null,
   "metadata": {
    "collapsed": true,
    "slideshow": {
     "slide_type": "fragment"
    }
   },
   "outputs": [],
   "source": [
    "# And even use a few different commands, like:\n",
    "#Divide and floor, //\n",
    "7//2\n",
    "7//2+1"
   ]
  },
  {
   "cell_type": "code",
   "execution_count": null,
   "metadata": {
    "collapsed": true
   },
   "outputs": [],
   "source": [
    "# Different than a divide\n",
    "7/2\n",
    "4.+5."
   ]
  },
  {
   "cell_type": "code",
   "execution_count": null,
   "metadata": {
    "collapsed": true,
    "slideshow": {
     "slide_type": "fragment"
    }
   },
   "outputs": [],
   "source": [
    "# and Modulo (a.k.a the remainder), %\n",
    "# Think of this one as a \"divide\" function that \n",
    "# returns you the amount left over after division\n",
    "6%3"
   ]
  },
  {
   "cell_type": "markdown",
   "metadata": {
    "slideshow": {
     "slide_type": "slide"
    }
   },
   "source": [
    " ### Python uses the general Algebraic Order of Operations (BODMAS/PEMDAS) rules (just like Excel)"
   ]
  },
  {
   "cell_type": "code",
   "execution_count": null,
   "metadata": {
    "collapsed": true,
    "slideshow": {
     "slide_type": "fragment"
    }
   },
   "outputs": [],
   "source": [
    "(5 + 4) / (2 * 5)\n"
   ]
  },
  {
   "cell_type": "markdown",
   "metadata": {
    "slideshow": {
     "slide_type": "slide"
    }
   },
   "source": [
    "### Integers vs floats\n",
    "\n",
    "- Why even bother with Integers? \n",
    "- They take up less space\n",
    "- And computations can go much faster\n",
    "- and sometimes the just make more sense\n",
    "\n",
    "\n"
   ]
  },
  {
   "cell_type": "markdown",
   "metadata": {
    "slideshow": {
     "slide_type": "notes"
    }
   },
   "source": [
    "|Integers | ||  |Floats |\n",
    "|-----------|-----------|---|--------|-----------|\n",
    "| Pros | Cons || Pros | Cons | \n",
    "|less memory|no decimals||decimals|more memory|"
   ]
  },
  {
   "cell_type": "markdown",
   "metadata": {
    "slideshow": {
     "slide_type": "slide"
    }
   },
   "source": [
    "### Strings\n",
    "\n",
    "![alt text](http://25.media.tumblr.com/c66c15ce6ad3bb8c4268e254d4d0353d/tumblr_mof2n474yG1s0teago2_400.gif \"Logo Title Text 1\")\n",
    "\n",
    "- The next  essential data type to know about are *strings*. String are essentially just text. You can tell Python that something is a string by wrapping it in \"quote marks\""
   ]
  },
  {
   "cell_type": "markdown",
   "metadata": {
    "slideshow": {
     "slide_type": "slide"
    }
   },
   "source": [
    "## Kind of like Dr. Evil...\n",
    "<center><img src=\"Imbedded Pics/Dr_evil.png\" alt=\"dr_evil\" style=\"width:auto;height:70vh\"></center>"
   ]
  },
  {
   "cell_type": "code",
   "execution_count": null,
   "metadata": {
    "collapsed": true,
    "slideshow": {
     "slide_type": "slide"
    }
   },
   "outputs": [],
   "source": [
    "# You can use two types of quotes: either the double \", or the single '\n",
    "\"This is string\""
   ]
  },
  {
   "cell_type": "code",
   "execution_count": null,
   "metadata": {
    "collapsed": true,
    "slideshow": {
     "slide_type": "fragment"
    }
   },
   "outputs": [],
   "source": [
    "'As is this see single quotes work too!!!!\"'"
   ]
  },
  {
   "cell_type": "code",
   "execution_count": null,
   "metadata": {
    "collapsed": true,
    "slideshow": {
     "slide_type": "fragment"
    }
   },
   "outputs": [],
   "source": [
    "# Just remember to be consistent!\n",
    "'This \"quote\" thing is pretty handy\"'"
   ]
  },
  {
   "cell_type": "code",
   "execution_count": null,
   "metadata": {
    "collapsed": true,
    "slideshow": {
     "slide_type": "fragment"
    }
   },
   "outputs": [],
   "source": [
    "# what happens if we add numbers as strings?\n"
   ]
  },
  {
   "cell_type": "markdown",
   "metadata": {
    "slideshow": {
     "slide_type": "slide"
    }
   },
   "source": [
    "### String Arithmetic, Concatenation\n",
    "\n",
    "- We can concatenate, or Stitch one string onto the end of another"
   ]
  },
  {
   "cell_type": "code",
   "execution_count": null,
   "metadata": {
    "collapsed": true,
    "slideshow": {
     "slide_type": "slide"
    }
   },
   "outputs": [],
   "source": [
    "#Example: \"FirstName\" + \"Last Name\"\n",
    "#Try it yourself! What do you notice when you add two strings?\n",
    "\"My\"+ \" name\""
   ]
  },
  {
   "cell_type": "markdown",
   "metadata": {
    "slideshow": {
     "slide_type": "fragment"
    }
   },
   "source": [
    "- Well crap it didn't add the space for us, we have to do that ourselves"
   ]
  },
  {
   "cell_type": "code",
   "execution_count": null,
   "metadata": {
    "collapsed": true,
    "slideshow": {
     "slide_type": "slide"
    }
   },
   "outputs": [],
   "source": [
    "# We have two options, \"FirstName \" + \"LastName\"\n",
    "\"My\" +\" \" +\"name\""
   ]
  },
  {
   "cell_type": "code",
   "execution_count": null,
   "metadata": {
    "collapsed": true,
    "slideshow": {
     "slide_type": "fragment"
    }
   },
   "outputs": [],
   "source": [
    "# Or \"FirstName\" + \" \" + \"LastName\"\n",
    "'My' +' '+'name'"
   ]
  },
  {
   "cell_type": "markdown",
   "metadata": {
    "slideshow": {
     "slide_type": "slide"
    }
   },
   "source": [
    "### We can also multiply our strings by a number to duplicate it"
   ]
  },
  {
   "cell_type": "code",
   "execution_count": null,
   "metadata": {
    "collapsed": true,
    "slideshow": {
     "slide_type": "fragment"
    }
   },
   "outputs": [],
   "source": [
    "'mine '*5"
   ]
  },
  {
   "cell_type": "markdown",
   "metadata": {
    "slideshow": {
     "slide_type": "slide"
    }
   },
   "source": [
    "^\n",
    "\n",
    "\\* this reminds me a little of finding nemo\\*\n",
    "![seagulls shuouting mine](https://vignette3.wikia.nocookie.net/disney/images/9/99/Nemo-Seagulls_.jpg/revision/latest?cb=20110913023141)"
   ]
  },
  {
   "cell_type": "markdown",
   "metadata": {
    "slideshow": {
     "slide_type": "slide"
    }
   },
   "source": [
    "#### Question\n",
    "What type of value (integer, floating point number, or character string) would you use to represent each of the following? Try to come up with more than one good answer for each problem. For example, in # 1, when would using a decimal make more sense than using an integer?\n",
    "\n",
    "1. Time elapsed since the start of the year.\n",
    "2. Serial number of a piece of lab equipment.\n",
    "3. A lab specimen’s age.\n",
    "4. Current population of a city.\n",
    "5. Average population of a city over time."
   ]
  },
  {
   "attachments": {
    "image.png": {
     "image/png": "[encoded data removed]"
    }
   },
   "cell_type": "markdown",
   "metadata": {
    "slideshow": {
     "slide_type": "slide"
    }
   },
   "source": [
    "## What to do with data? Lets chuck it in a function\n",
    "\n",
    "### You already know how to use functions!\n",
    "![image.png](attachment:image.png)\n",
    "\n",
    "### Basic form of a function in Python:\n",
    "function(object or objects, arguments)"
   ]
  },
  {
   "cell_type": "markdown",
   "metadata": {
    "slideshow": {
     "slide_type": "slide"
    }
   },
   "source": [
    "### Data Type Functions\n",
    "\n",
    "- Sometimes you *need* to know which data type you're working with. You can do this with a **function**, called `type()`.\n",
    "- In this instance, `type()` will output the data type that you're working with."
   ]
  },
  {
   "cell_type": "code",
   "execution_count": null,
   "metadata": {
    "collapsed": true,
    "slideshow": {
     "slide_type": "slide"
    }
   },
   "outputs": [],
   "source": [
    "type(4)"
   ]
  },
  {
   "cell_type": "code",
   "execution_count": null,
   "metadata": {
    "collapsed": true,
    "slideshow": {
     "slide_type": "fragment"
    }
   },
   "outputs": [],
   "source": [
    "type(2.6)"
   ]
  },
  {
   "cell_type": "code",
   "execution_count": null,
   "metadata": {
    "collapsed": true,
    "slideshow": {
     "slide_type": "fragment"
    }
   },
   "outputs": [],
   "source": [
    "type(\"3\")"
   ]
  },
  {
   "cell_type": "markdown",
   "metadata": {
    "slideshow": {
     "slide_type": "slide"
    }
   },
   "source": [
    "### Knowing what type of data (or object) you have is important, because not all functions can take in all data\n",
    "\n",
    "- Some functions, like `type()`, will work on all data types\n",
    "- But that is pretty rare"
   ]
  },
  {
   "cell_type": "markdown",
   "metadata": {
    "slideshow": {
     "slide_type": "fragment"
    }
   },
   "source": [
    "- **Example:** `len()`, will tell you how long your string is"
   ]
  },
  {
   "cell_type": "code",
   "execution_count": null,
   "metadata": {
    "collapsed": true,
    "slideshow": {
     "slide_type": "slide"
    }
   },
   "outputs": [],
   "source": [
    "len(\"Give me a string\")"
   ]
  },
  {
   "cell_type": "code",
   "execution_count": null,
   "metadata": {
    "collapsed": true,
    "slideshow": {
     "slide_type": "fragment"
    }
   },
   "outputs": [],
   "source": [
    "# but if we try to use it on numeric data...\n",
    "len(5000)"
   ]
  },
  {
   "cell_type": "markdown",
   "metadata": {
    "slideshow": {
     "slide_type": "slide"
    }
   },
   "source": [
    "### Errors happen folks.....\n",
    "\n",
    "#### *Some data types and functions just don't get along*\n",
    "\n",
    "**Follow me through the 6 stages of error grief**\n",
    "    - Step 1: (Venting/Catharsis) Say a choice word about what you think about Python\n",
    "    - Step 2: (Reading) Read the error\n",
    "    - Step 3: (google) google the error or the function\n",
    "    - Step 4: (Read some more) read about the error or the function and figure out what went wrong\n",
    "    - Step 5: (Try the fix)\n",
    "    - Step 6: (Repeat) Either get an error and return to step one, or fix it and forget about it in 3 months and make the same mistake again......(if you are me)\n",
    "\n"
   ]
  },
  {
   "cell_type": "code",
   "execution_count": null,
   "metadata": {
    "collapsed": true,
    "slideshow": {
     "slide_type": "slide"
    }
   },
   "outputs": [],
   "source": [
    "# Ok let's try the fix"
   ]
  },
  {
   "cell_type": "markdown",
   "metadata": {
    "slideshow": {
     "slide_type": "fragment"
    }
   },
   "source": [
    "...hmmmmm if only there were a function for changing data types....."
   ]
  },
  {
   "cell_type": "markdown",
   "metadata": {
    "slideshow": {
     "slide_type": "slide"
    }
   },
   "source": [
    "### Data Type Coercion: Make the data the type you want it to be! You are the boss!\n",
    "\n",
    "- You can also convert different data types into another using *type coercion*.\n",
    "```python\n",
    "int(), float(), str()\n",
    "```\n",
    "\n",
    "- i.e., what if we calculate the maximum capacity of an elevator at 3.1459265339?\n",
    "\n"
   ]
  },
  {
   "cell_type": "code",
   "execution_count": null,
   "metadata": {
    "collapsed": true,
    "slideshow": {
     "slide_type": "fragment"
    }
   },
   "outputs": [],
   "source": [
    "# But be warned! This ALWAYS rounds down\n",
    "int(3.14159265359),int(3.6), round(3.4)"
   ]
  },
  {
   "cell_type": "code",
   "execution_count": null,
   "metadata": {
    "collapsed": true,
    "scrolled": false,
    "slideshow": {
     "slide_type": "fragment"
    }
   },
   "outputs": [],
   "source": [
    "# once again we can turn the three back into a float\n",
    "float(3)"
   ]
  },
  {
   "cell_type": "markdown",
   "metadata": {
    "slideshow": {
     "slide_type": "slide"
    }
   },
   "source": [
    "Type conversion will only work where it makes sense to do so. Try to turn a string into a number"
   ]
  },
  {
   "cell_type": "code",
   "execution_count": null,
   "metadata": {
    "collapsed": true,
    "slideshow": {
     "slide_type": "fragment"
    }
   },
   "outputs": [],
   "source": [
    "int(\"3e5\")"
   ]
  },
  {
   "cell_type": "code",
   "execution_count": null,
   "metadata": {
    "collapsed": true,
    "slideshow": {
     "slide_type": "slide"
    }
   },
   "outputs": [],
   "source": [
    "# But this one is perfectly fine\n",
    "int(str(1000000+7))"
   ]
  },
  {
   "cell_type": "markdown",
   "metadata": {
    "slideshow": {
     "slide_type": "notes"
    }
   },
   "source": [
    "This code illustrates the point that Python will default to a string object, since practically any datatype that is represented by characters can be turned into a string right?"
   ]
  },
  {
   "cell_type": "markdown",
   "metadata": {
    "slideshow": {
     "slide_type": "slide"
    }
   },
   "source": [
    "### We can use Coercion to prep data for certain functions\n",
    "- Try to take the `len()` of a number, for example"
   ]
  },
  {
   "cell_type": "code",
   "execution_count": null,
   "metadata": {
    "collapsed": true,
    "scrolled": false,
    "slideshow": {
     "slide_type": "fragment"
    }
   },
   "outputs": [],
   "source": [
    "len(str(3000000))"
   ]
  },
  {
   "cell_type": "code",
   "execution_count": null,
   "metadata": {
    "collapsed": true,
    "slideshow": {
     "slide_type": "fragment"
    }
   },
   "outputs": [],
   "source": [
    "#turn strings into ints to do maths\n",
    "int('35') + float('72.2')"
   ]
  },
  {
   "cell_type": "markdown",
   "metadata": {
    "collapsed": true,
    "slideshow": {
     "slide_type": "slide"
    }
   },
   "source": [
    "#### Challenge 1\n",
    "\n",
    "Which of the following will print 2.0? If they don't, what do they print instead?\n",
    "\n",
    "1. 1.0 + float(\"1\")\n",
    "2. float(\"1\") + float(\"1.1\")\n",
    "3. 1.0 + int(\"3.1\")\n",
    "4. 1.0 + int(float(\"3.1\"))%2\n",
    "5. int(1.0) + int(float(\"1.1\"))\n",
    "6. 2.0 * \"1\""
   ]
  },
  {
   "cell_type": "code",
   "execution_count": null,
   "metadata": {
    "collapsed": true,
    "slideshow": {
     "slide_type": "slide"
    }
   },
   "outputs": [],
   "source": []
  },
  {
   "cell_type": "code",
   "execution_count": null,
   "metadata": {
    "collapsed": true,
    "slideshow": {
     "slide_type": "fragment"
    }
   },
   "outputs": [],
   "source": []
  },
  {
   "cell_type": "code",
   "execution_count": null,
   "metadata": {
    "collapsed": true,
    "slideshow": {
     "slide_type": "fragment"
    }
   },
   "outputs": [],
   "source": []
  },
  {
   "cell_type": "code",
   "execution_count": null,
   "metadata": {
    "collapsed": true,
    "slideshow": {
     "slide_type": "fragment"
    }
   },
   "outputs": [],
   "source": []
  },
  {
   "cell_type": "code",
   "execution_count": null,
   "metadata": {
    "collapsed": true,
    "slideshow": {
     "slide_type": "fragment"
    }
   },
   "outputs": [],
   "source": []
  },
  {
   "cell_type": "code",
   "execution_count": null,
   "metadata": {
    "collapsed": true,
    "slideshow": {
     "slide_type": "fragment"
    }
   },
   "outputs": [],
   "source": []
  },
  {
   "cell_type": "markdown",
   "metadata": {
    "slideshow": {
     "slide_type": "slide"
    }
   },
   "source": [
    "#### Challenge 2\n",
    "\n",
    "What will these do? What will be the final data type in each case?\n",
    "\n",
    "1. `str(4.0)`\n",
    "2. `int(str(4.0))`\n",
    "3. `float(str(3.5))`\n",
    "4. `int(float(str(3.2)))`"
   ]
  },
  {
   "cell_type": "code",
   "execution_count": null,
   "metadata": {
    "collapsed": true,
    "slideshow": {
     "slide_type": "slide"
    }
   },
   "outputs": [],
   "source": []
  },
  {
   "cell_type": "code",
   "execution_count": null,
   "metadata": {
    "collapsed": true,
    "slideshow": {
     "slide_type": "fragment"
    }
   },
   "outputs": [],
   "source": []
  },
  {
   "cell_type": "code",
   "execution_count": null,
   "metadata": {
    "collapsed": true,
    "slideshow": {
     "slide_type": "fragment"
    }
   },
   "outputs": [],
   "source": []
  },
  {
   "cell_type": "code",
   "execution_count": null,
   "metadata": {
    "collapsed": true,
    "scrolled": false,
    "slideshow": {
     "slide_type": "fragment"
    }
   },
   "outputs": [],
   "source": []
  },
  {
   "cell_type": "code",
   "execution_count": null,
   "metadata": {
    "collapsed": true,
    "slideshow": {
     "slide_type": "fragment"
    }
   },
   "outputs": [],
   "source": []
  },
  {
   "cell_type": "code",
   "execution_count": null,
   "metadata": {
    "collapsed": true,
    "slideshow": {
     "slide_type": "fragment"
    }
   },
   "outputs": [],
   "source": []
  },
  {
   "cell_type": "code",
   "execution_count": null,
   "metadata": {
    "collapsed": true,
    "slideshow": {
     "slide_type": "fragment"
    }
   },
   "outputs": [],
   "source": []
  },
  {
   "cell_type": "markdown",
   "metadata": {
    "slideshow": {
     "slide_type": "slide"
    }
   },
   "source": [
    "### Lets look at some more String Specific functions\n",
    "\n",
    " `upper()` - Makes every letter in the string upper case (**Surprise!**)"
   ]
  },
  {
   "cell_type": "code",
   "execution_count": null,
   "metadata": {
    "collapsed": true,
    "scrolled": true,
    "slideshow": {
     "slide_type": "fragment"
    }
   },
   "outputs": [],
   "source": [
    "# Try function(str)\n",
    "upper('This')"
   ]
  },
  {
   "attachments": {
    "image.png": {
     "image/png": "[encoded data removed]"
    }
   },
   "cell_type": "markdown",
   "metadata": {
    "slideshow": {
     "slide_type": "slide"
    }
   },
   "source": [
    "### What happened here?\n",
    "skip to step 4 of error grief:\n",
    "\n",
    "\n",
    "![image.png](attachment:image.png)\n",
    "\n"
   ]
  },
  {
   "cell_type": "markdown",
   "metadata": {
    "slideshow": {
     "slide_type": "fragment"
    }
   },
   "source": [
    "### *Methods* are functions specific to a certain type of object\n",
    "```python\n",
    "object.method(arguments)\n",
    "\n",
    "turkey.carve(arguments)\n",
    "```\n"
   ]
  },
  {
   "cell_type": "code",
   "execution_count": null,
   "metadata": {
    "collapsed": true,
    "slideshow": {
     "slide_type": "slide"
    }
   },
   "outputs": [],
   "source": [
    "# Now try str.function() instead\n",
    "\n",
    "'HI Guys i am SPecial'.upper()"
   ]
  },
  {
   "cell_type": "markdown",
   "metadata": {
    "slideshow": {
     "slide_type": "slide"
    }
   },
   "source": [
    "### There are quite a few string methods *Methods*?:\n",
    "\n",
    "https://docs.python.org/3/library/stdtypes.html#string-methods\n",
    "\n",
    "#### Google-cize 1:\n",
    "Go to the link above, look up the following methods and figure out how they work, and create an example\n",
    "- ```str.upper()```\n",
    "- ```str.title()```\n",
    "- ```str.capitalize()```"
   ]
  },
  {
   "cell_type": "code",
   "execution_count": null,
   "metadata": {
    "collapsed": true,
    "slideshow": {
     "slide_type": "fragment"
    }
   },
   "outputs": [],
   "source": []
  },
  {
   "cell_type": "code",
   "execution_count": null,
   "metadata": {
    "collapsed": true,
    "slideshow": {
     "slide_type": "fragment"
    }
   },
   "outputs": [],
   "source": []
  },
  {
   "cell_type": "code",
   "execution_count": null,
   "metadata": {
    "collapsed": true,
    "slideshow": {
     "slide_type": "fragment"
    }
   },
   "outputs": [],
   "source": []
  },
  {
   "cell_type": "code",
   "execution_count": null,
   "metadata": {
    "collapsed": true,
    "slideshow": {
     "slide_type": "fragment"
    }
   },
   "outputs": [],
   "source": []
  },
  {
   "cell_type": "markdown",
   "metadata": {
    "slideshow": {
     "slide_type": "slide"
    }
   },
   "source": [
    "### The Print() statement\n",
    "\n",
    "- Print statements are a handy little function that takes the data that you put into it, and then output it (as a string) to the console. \n",
    "- This can extremely useful when trying to format some text output in a particular way - such as only usin 2 decimal points of a number.\n",
    "\n",
    "-  **It is a great way to \"look under the hood\" when you are coding**It is also useful when you are looking for issues in the code, you can print out your data where you think things are going wroing"
   ]
  },
  {
   "cell_type": "code",
   "execution_count": null,
   "metadata": {
    "collapsed": true,
    "slideshow": {
     "slide_type": "slide"
    }
   },
   "outputs": [],
   "source": [
    "# You can use commas in print to add different elements together without adding your own spaces\n",
    "# PLUS it auto-coerces data types to strings, AND removes those awkward 'quote' marks from output\n",
    "print(\"Jono\", \"Garbo\",\"looks\",\"so\", \"Awesome\", \"with\",\"a\",\"moustache\", \"!\"*5)\n",
    "\n",
    "5 # usually jupyter notebooks only print out the last thing in the cell"
   ]
  },
  {
   "cell_type": "markdown",
   "metadata": {
    "slideshow": {
     "slide_type": "slide"
    }
   },
   "source": [
    "### This is cool, but what if we wanted to print out a big number with commas every three digits\n",
    "- **Desired output** is 1,000,000.5"
   ]
  },
  {
   "cell_type": "code",
   "execution_count": null,
   "metadata": {
    "collapsed": true,
    "scrolled": true,
    "slideshow": {
     "slide_type": "fragment"
    }
   },
   "outputs": [],
   "source": [
    "print(1,000,000.5)"
   ]
  },
  {
   "cell_type": "markdown",
   "metadata": {
    "slideshow": {
     "slide_type": "slide"
    }
   },
   "source": [
    "### Silent errors\n",
    " - This is an example of a ***semantic***, or silent, error. \n",
    " - Python has still _worked_ - it ran your code, and gave you a valid result\n",
    " - but it hasn't done what you intended it to do."
   ]
  },
  {
   "cell_type": "markdown",
   "metadata": {
    "collapsed": true,
    "slideshow": {
     "slide_type": "slide"
    }
   },
   "source": [
    "### So we know how to input data, what if we want to use it again and again?\n",
    "\n",
    "#### if only we could *assign*  our string a nickname...... It'd be pretty Australian!!\n",
    "\n",
    "<center><img src=\"Imbedded Pics/Aussie_slang.png\" alt=\"aus_slang\" style=\"width:auto;height:70vh\"></center>"
   ]
  },
  {
   "cell_type": "markdown",
   "metadata": {
    "slideshow": {
     "slide_type": "slide"
    }
   },
   "source": [
    "### Variables, Nicknames for our data\n",
    "\n",
    "- Do you want to type out the *same* numbers, and the *same* string every time you want to use it? \n",
    "- What about if you wanted to do some math on the number? \n",
    "- How are you going to save the answer?\n",
    "\n",
    "Simple! What we can do is assign these values to a variable. \n",
    "\n",
    "We can do this using the '=' sign. What this does is use Python to tell the computer to carve out a piece of memory somewhere, give it the name you told it to, and assign it a user-specified (i.e. by you) value. \n",
    "\n",
    "```python\n",
    "dinner = turkey\n",
    "```"
   ]
  },
  {
   "cell_type": "code",
   "execution_count": null,
   "metadata": {
    "collapsed": true,
    "slideshow": {
     "slide_type": "slide"
    }
   },
   "outputs": [],
   "source": [
    "# Makes \"name\", and gives it the value 'mine'\n",
    "Garbo = 'Jonathan Lloyd Garber'\n",
    "\n",
    "# tells the computer to find that piece of memory called \"Garbo\", and then print out the value of it\n",
    "print(Garbo)"
   ]
  },
  {
   "cell_type": "code",
   "execution_count": null,
   "metadata": {
    "collapsed": true,
    "slideshow": {
     "slide_type": "slide"
    }
   },
   "outputs": [],
   "source": [
    "type(Garbo)"
   ]
  },
  {
   "cell_type": "markdown",
   "metadata": {
    "slideshow": {
     "slide_type": "slide"
    }
   },
   "source": [
    "### We can also assign the results of an operation into a new variable too."
   ]
  },
  {
   "cell_type": "code",
   "execution_count": null,
   "metadata": {
    "collapsed": true,
    "scrolled": true,
    "slideshow": {
     "slide_type": "fragment"
    }
   },
   "outputs": [],
   "source": [
    "number = 10\n",
    "\n",
    "times2 = '3'\n",
    "example_operation = number * times2\n",
    "\n",
    "#What will this print out?\n",
    "print(example_operation)"
   ]
  },
  {
   "cell_type": "markdown",
   "metadata": {
    "slideshow": {
     "slide_type": "slide"
    }
   },
   "source": [
    "### And even perform operations and functions on it"
   ]
  },
  {
   "cell_type": "code",
   "execution_count": null,
   "metadata": {
    "collapsed": true,
    "slideshow": {
     "slide_type": "fragment"
    }
   },
   "outputs": [],
   "source": [
    "number = 3.5\n",
    "print(type(number))\n",
    "# What will be the answer here?\n",
    "print(number**2 + 5)"
   ]
  },
  {
   "cell_type": "code",
   "execution_count": null,
   "metadata": {
    "collapsed": true,
    "slideshow": {
     "slide_type": "fragment"
    }
   },
   "outputs": [],
   "source": [
    "str((number**2 + 5)/2)"
   ]
  },
  {
   "cell_type": "code",
   "execution_count": null,
   "metadata": {
    "collapsed": true,
    "slideshow": {
     "slide_type": "skip"
    }
   },
   "outputs": [],
   "source": []
  },
  {
   "cell_type": "code",
   "execution_count": null,
   "metadata": {
    "collapsed": true,
    "slideshow": {
     "slide_type": "skip"
    }
   },
   "outputs": [],
   "source": []
  },
  {
   "cell_type": "markdown",
   "metadata": {
    "slideshow": {
     "slide_type": "slide"
    }
   },
   "source": [
    "### The dark art of variable Names:\n",
    "\n",
    "Python has basically only three rules about naming variables:\n",
    "- names you define must start with a letter (a-z,A-Z) or underscore (_) and can be followed by any number of letters, >digits (0-9), or underscores\n",
    "- names you define cannot be the same as any of Python's reserved words (see below table)\n",
    "- names are case-sensitive: 'YOU', 'you', 'You', and 'yOu' are all different names in Python\n",
    "- Note that '-', '+', '*', and '/' are used by Python for defining operations on data and cannot be used in names\n",
    "\n",
    "\n",
    "Also, try to make your variable names mean something. It can be very confusing for someone else reading your code (or even yourself, after a long break) if you write something filled with a number of different `temp` or `foo1`, `foo2`, etc variables.\n",
    "\n",
    "\n"
   ]
  },
  {
   "cell_type": "markdown",
   "metadata": {
    "slideshow": {
     "slide_type": "slide"
    }
   },
   "source": [
    "| |Reserved | Words | |\n",
    "| --- | --- | --- | --- | \n",
    "|False|True|None|and|\n",
    "|as|assert|break|class|\n",
    "|continue|class|del|def|\n",
    "|if|else|elif|import|\n",
    "|for|from|return|global|\n",
    "|try|except|finally|raise|\n",
    "|while|not|in|is|\n",
    "|or|with|yield|lambda|\n",
    "|pass|nonlocal| | |"
   ]
  },
  {
   "cell_type": "markdown",
   "metadata": {
    "slideshow": {
     "slide_type": "slide"
    }
   },
   "source": [
    "#### Challenge 4\n",
    "\n",
    "In this list of variable names, which ones are legal? Which ones are legal, but generally frowned upon? How could we make these better?\n",
    "\n",
    "1. 76trombones = \"big parade\"\n",
    "2. more$ = 1000000\n",
    "3. class = \"Computer Science 101\"\n",
    "4. Price_of_tea_in_china\n",
    "5. my name = \"Scooby Doo\"\n",
    "6. A_good_grade_is_A+\n",
    "\n"
   ]
  },
  {
   "cell_type": "code",
   "execution_count": null,
   "metadata": {
    "collapsed": true,
    "scrolled": false,
    "slideshow": {
     "slide_type": "slide"
    }
   },
   "outputs": [],
   "source": []
  },
  {
   "cell_type": "markdown",
   "metadata": {
    "slideshow": {
     "slide_type": "slide"
    }
   },
   "source": [
    "\n",
    "#### Challenge 5:\n",
    "\n",
    "Each table here is a team, and all good teams have team names. Sooo I want you to create three variables:\n",
    "- one called team_name that points to the teams name (make that a string maybe?)\n",
    "- on called team_count that stores the number of members on your team\n",
    "- on called team_age that stores the average age of your team\n",
    "\n",
    "**Then print out the following**\n",
    "\"Our team name is TeamName. We have X members and we are, on average, Y years old\""
   ]
  },
  {
   "cell_type": "code",
   "execution_count": null,
   "metadata": {
    "collapsed": true,
    "slideshow": {
     "slide_type": "fragment"
    }
   },
   "outputs": [],
   "source": []
  },
  {
   "cell_type": "code",
   "execution_count": null,
   "metadata": {
    "collapsed": true,
    "slideshow": {
     "slide_type": "skip"
    }
   },
   "outputs": [],
   "source": []
  },
  {
   "attachments": {
    "image.png": {
     "image/png": "[encoded data removed]"
    }
   },
   "cell_type": "markdown",
   "metadata": {
    "slideshow": {
     "slide_type": "skip"
    }
   },
   "source": [
    "#### Optional Challenge \n",
    "\n",
    "You are given two positive integers, `a` and `b`, which each correspond to the sides of a right-angle triangle. \n",
    "\n",
    "Print the integer value corresponding to the square of the hypotenuse of that right triangle.\n",
    "\n",
    "\n",
    "i.e. given sides `a` and `b`, print `c^2`\n",
    "![image.png](attachment:image.png)\n",
    "\n",
    "Hint: if `a = 3` and `b = 5`, then the answer = 34"
   ]
  },
  {
   "cell_type": "code",
   "execution_count": null,
   "metadata": {
    "collapsed": true,
    "slideshow": {
     "slide_type": "slide"
    }
   },
   "outputs": [],
   "source": [
    "TeamName = 'Geography'\n",
    "X = 4\n",
    "Y = 25.976\n",
    "print(\"Our team name is '%s'. We have %i members and we are, on average, %2.2f years old\" %(TeamName, X, Y))\n"
   ]
  },
  {
   "cell_type": "markdown",
   "metadata": {
    "collapsed": true,
    "slideshow": {
     "slide_type": "slide"
    }
   },
   "source": [
    "### Extra stuff"
   ]
  },
  {
   "cell_type": "markdown",
   "metadata": {
    "slideshow": {
     "slide_type": "slide"
    }
   },
   "source": [
    "### Use the % to add other data types and formatting into your print string\n",
    "\n",
    "Another way of using print allow you to format your output in a particular way."
   ]
  },
  {
   "cell_type": "code",
   "execution_count": null,
   "metadata": {
    "collapsed": true,
    "slideshow": {
     "slide_type": "fragment"
    }
   },
   "outputs": [],
   "source": [
    "print(\"'This' is a word with %i letters and %0.2f\" %(len(\"this\"),2.6785))"
   ]
  },
  {
   "cell_type": "markdown",
   "metadata": {
    "slideshow": {
     "slide_type": "slide"
    }
   },
   "source": [
    "What this essentially does is allow you substitute a value within a sentence with some formatting information - what kind of data to expect, how you want it to be presented, etc - and then specify the actual the data that's meant to go into that place afterwards.\n",
    "\n",
    "%i = int  \n",
    "  %f = float. Add numbers/decimals before the f to specify how many numbers you want to be visible  \n",
    "  %s = string\n",
    "  \n",
    "There are plenty more, including using left/right justification of your values. There's no sense in trying to remember it all though - just google \"print formatting\" to find more information on how this can be used. "
   ]
  },
  {
   "cell_type": "markdown",
   "metadata": {
    "slideshow": {
     "slide_type": "slide"
    }
   },
   "source": [
    "_**Question**_\n",
    "\n",
    "What is wrong with the following code?"
   ]
  },
  {
   "cell_type": "code",
   "execution_count": null,
   "metadata": {
    "collapsed": true,
    "slideshow": {
     "slide_type": "fragment"
    }
   },
   "outputs": [],
   "source": [
    "print('Hello world x %s and %i' %(1,2))"
   ]
  },
  {
   "cell_type": "code",
   "execution_count": null,
   "metadata": {
    "collapsed": true,
    "slideshow": {
     "slide_type": "slide"
    }
   },
   "outputs": [],
   "source": []
  },
  {
   "cell_type": "code",
   "execution_count": null,
   "metadata": {
    "collapsed": true,
    "slideshow": {
     "slide_type": "skip"
    }
   },
   "outputs": [],
   "source": []
  },
  {
   "cell_type": "code",
   "execution_count": null,
   "metadata": {
    "collapsed": true,
    "slideshow": {
     "slide_type": "skip"
    }
   },
   "outputs": [],
   "source": []
  },
  {
   "cell_type": "code",
   "execution_count": null,
   "metadata": {
    "collapsed": true,
    "slideshow": {
     "slide_type": "skip"
    }
   },
   "outputs": [],
   "source": []
  }
 ],
 "metadata": {
  "kernelspec": {
   "display_name": "Python 3",
   "language": "python",
   "name": "python3"
  },
  "language_info": {
   "codemirror_mode": {
    "name": "ipython",
    "version": 3
   },
   "file_extension": ".py",
   "mimetype": "text/x-python",
   "name": "python",
   "nbconvert_exporter": "python",
   "pygments_lexer": "ipython3",
   "version": "3.6.3"
  },
  "toc": {
   "colors": {
    "hover_highlight": "#DAA520",
    "navigate_num": "#000000",
    "navigate_text": "#333333",
    "running_highlight": "#FF0000",
    "selected_highlight": "#FFD700",
    "sidebar_border": "#EEEEEE",
    "wrapper_background": "#FFFFFF"
   },
   "moveMenuLeft": true,
   "nav_menu": {
    "height": "246px",
    "width": "252px"
   },
   "navigate_menu": true,
   "number_sections": false,
   "sideBar": false,
   "threshold": 4,
   "toc_cell": true,
   "toc_position": {
    "height": "217px",
    "left": "1127.25px",
    "right": "20px",
    "top": "71px",
    "width": "220px"
   },
   "toc_section_display": "none",
   "toc_window_display": true,
   "widenNotebook": false
  },
  "varInspector": {
   "cols": {
    "lenName": 16,
    "lenType": 16,
    "lenVar": 40
   },
   "kernels_config": {
    "python": {
     "delete_cmd_postfix": "",
     "delete_cmd_prefix": "del ",
     "library": "var_list.py",
     "varRefreshCmd": "print(var_dic_list())"
    },
    "r": {
     "delete_cmd_postfix": ") ",
     "delete_cmd_prefix": "rm(",
     "library": "var_list.r",
     "varRefreshCmd": "cat(var_dic_list()) "
    }
   },
   "types_to_exclude": [
    "module",
    "function",
    "builtin_function_or_method",
    "instance",
    "_Feature"
   ],
   "window_display": false
  }
 },
 "nbformat": 4,
 "nbformat_minor": 2
}
