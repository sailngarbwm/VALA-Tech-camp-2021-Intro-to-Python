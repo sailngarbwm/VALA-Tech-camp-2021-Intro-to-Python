{
 "cells": [
  {
   "cell_type": "markdown",
   "metadata": {
    "slideshow": {
     "slide_type": "slide"
    }
   },
   "source": [
    "## New Data Type: Lists\n",
    "\n",
    "## What we already know\n",
    "\n",
    "- basic data types (ints, floats, strings)\n",
    "- Some functions and methods to manipulate these data types (i.e. type(), len(), str.upper())\n",
    "- how to store our data in variables and manipulate it"
   ]
  },
  {
   "cell_type": "markdown",
   "metadata": {
    "slideshow": {
     "slide_type": "slide"
    }
   },
   "source": [
    "### Learning Objectives\n",
    "\n",
    "- To understand the basic structure of a list\n",
    "- To know how to create, index and subset a list\n",
    "- Learn the difference between mutable and immutable objects\n",
    "- Adding and deleting list elements\n",
    "    - Describe the difference between append(), insert(), del, remove() & pop()\n",
    "- List functions"
   ]
  },
  {
   "cell_type": "markdown",
   "metadata": {
    "slideshow": {
     "slide_type": "slide"
    }
   },
   "source": [
    "## Lists and the all mighty brackets [ ] !!!\n",
    "\n",
    "- A list allows you to store many different values, of many different data types, in the same structure. \n",
    "\n",
    "- We can make a list by putting the values into square brackets, []\n"
   ]
  },
  {
   "cell_type": "code",
   "execution_count": 1,
   "metadata": {
    "slideshow": {
     "slide_type": "slide"
    }
   },
   "outputs": [
    {
     "data": {
      "text/plain": [
       "[]"
      ]
     },
     "execution_count": 1,
     "metadata": {},
     "output_type": "execute_result"
    }
   ],
   "source": [
    "#we can make empty lists\n",
    "[]"
   ]
  },
  {
   "cell_type": "code",
   "execution_count": 2,
   "metadata": {
    "slideshow": {
     "slide_type": "fragment"
    }
   },
   "outputs": [
    {
     "data": {
      "text/plain": [
       "[]"
      ]
     },
     "execution_count": 2,
     "metadata": {},
     "output_type": "execute_result"
    }
   ],
   "source": [
    "# or use a type function,\n",
    "list()"
   ]
  },
  {
   "cell_type": "code",
   "execution_count": 3,
   "metadata": {
    "slideshow": {
     "slide_type": "fragment"
    }
   },
   "outputs": [
    {
     "data": {
      "text/plain": [
       "[1, 2.5, 3, 'This', []]"
      ]
     },
     "execution_count": 3,
     "metadata": {},
     "output_type": "execute_result"
    }
   ],
   "source": [
    "#To save this list though we need to assign it to a variable\n",
    "tempList = [1,2.5,3,\"This\", []]\n",
    "tempList"
   ]
  },
  {
   "cell_type": "markdown",
   "metadata": {
    "slideshow": {
     "slide_type": "slide"
    }
   },
   "source": [
    "### Let's Look at a silly example"
   ]
  },
  {
   "cell_type": "code",
   "execution_count": 4,
   "metadata": {
    "slideshow": {
     "slide_type": "fragment"
    }
   },
   "outputs": [
    {
     "data": {
      "text/plain": [
       "[['doublecoat Tim Tams', 'Tim Tams'], 'snickers', 'whitakers']"
      ]
     },
     "execution_count": 4,
     "metadata": {},
     "output_type": "execute_result"
    }
   ],
   "source": [
    "Candy_cupboard = [['doublecoat Tim Tams','Tim Tams'], 'snickers', 'whitakers']\n",
    "Candy_cupboard"
   ]
  },
  {
   "cell_type": "markdown",
   "metadata": {
    "slideshow": {
     "slide_type": "slide"
    }
   },
   "source": [
    "### Indexing a list\n",
    "Sometimes we only want to access certain *elements*, or data, inside a list. We can do by calling the list *index*, or the position of the data element, from inside the list"
   ]
  },
  {
   "cell_type": "code",
   "execution_count": 5,
   "metadata": {
    "slideshow": {
     "slide_type": "fragment"
    }
   },
   "outputs": [
    {
     "data": {
      "text/plain": [
       "'whitakers'"
      ]
     },
     "execution_count": 5,
     "metadata": {},
     "output_type": "execute_result"
    }
   ],
   "source": [
    "Candy_cupboard[2]"
   ]
  },
  {
   "cell_type": "markdown",
   "metadata": {
    "slideshow": {
     "slide_type": "slide"
    }
   },
   "source": [
    "### Wait, but that's given us the number 2? Why?\n",
    "\n",
    "---\n",
    "\n",
    "This is because Python actually works based on 0-indexing, meaning that it starts counting from 0 instead of 1. \n",
    "\n",
    "This means that if we want to get the first element of our list, we actually have to call list[0], instead of list[1]\n",
    "\n"
   ]
  },
  {
   "cell_type": "markdown",
   "metadata": {
    "slideshow": {
     "slide_type": "slide"
    }
   },
   "source": [
    "**Here is an example of the structure of our templist:**\n",
    "\n",
    "![image.png](https://gitlab.unimelb.edu.au/rescom-training/python/introduction-to-python-for-researchers/-/raw/master/Imbedded%20Pics/list_table_pic.png)"
   ]
  },
  {
   "cell_type": "code",
   "execution_count": 6,
   "metadata": {
    "slideshow": {
     "slide_type": "slide"
    }
   },
   "outputs": [
    {
     "name": "stdout",
     "output_type": "stream",
     "text": [
      "index : item\n",
      "0 : 1\n",
      "1 : 2.5\n",
      "2 : 3\n",
      "3 : This\n",
      "4 : []\n"
     ]
    }
   ],
   "source": [
    "tempList = [1,2.5,3,\"This\", []]\n",
    "print('index',':','item')\n",
    "print(\"0\",':',tempList[0])\n",
    "print(\"1\",':',tempList[1])\n",
    "print(\"2\",':',tempList[2])\n",
    "print(\"3\",':',tempList[3])\n",
    "print('4',':',tempList[4])"
   ]
  },
  {
   "cell_type": "markdown",
   "metadata": {
    "slideshow": {
     "slide_type": "slide"
    }
   },
   "source": [
    "#### Want the last item in a list?\n",
    " -  use *negative* index numbers to start counting from the end of the list instead"
   ]
  },
  {
   "cell_type": "code",
   "execution_count": 7,
   "metadata": {
    "slideshow": {
     "slide_type": "fragment"
    }
   },
   "outputs": [
    {
     "name": "stdout",
     "output_type": "stream",
     "text": [
      "first and last: 1 and []\n",
      "['doublecoat Tim Tams', 'Tim Tams']\n"
     ]
    }
   ],
   "source": [
    "print('first and last:', tempList[0],\"and\", tempList[-1])\n",
    "print(Candy_cupboard[-3])"
   ]
  },
  {
   "cell_type": "markdown",
   "metadata": {
    "collapsed": true,
    "slideshow": {
     "slide_type": "slide"
    }
   },
   "source": [
    "#### Interestingly enough, Strings behave a lot like lists of characters"
   ]
  },
  {
   "cell_type": "code",
   "execution_count": 10,
   "metadata": {
    "slideshow": {
     "slide_type": "fragment"
    }
   },
   "outputs": [
    {
     "data": {
      "text/plain": [
       "'l'"
      ]
     },
     "execution_count": 10,
     "metadata": {},
     "output_type": "execute_result"
    }
   ],
   "source": [
    "Garbo = 'Cool because he brought in candy for the class'\n",
    "\n",
    "#Lets index things just like a list\\\n",
    "Garbo[3]"
   ]
  },
  {
   "cell_type": "markdown",
   "metadata": {
    "slideshow": {
     "slide_type": "fragment"
    }
   },
   "source": [
    " With some differences like......."
   ]
  },
  {
   "cell_type": "markdown",
   "metadata": {
    "slideshow": {
     "slide_type": "slide"
    }
   },
   "source": [
    "### Mutability"
   ]
  },
  {
   "cell_type": "markdown",
   "metadata": {
    "slideshow": {
     "slide_type": "fragment"
    }
   },
   "source": [
    "One of the properties of lists is that you can over-write data inside the list with new values. This means that lists are **_mutable_**, or changeable.\n",
    "\n",
    "In contrast, strings are actually immutable. If you want to change something inside a string, you have to replace it with a whole new one.\n"
   ]
  },
  {
   "cell_type": "code",
   "execution_count": 11,
   "metadata": {
    "slideshow": {
     "slide_type": "slide"
    }
   },
   "outputs": [
    {
     "name": "stdout",
     "output_type": "stream",
     "text": [
      "[['doublecoat Tim Tams', 'Tim Tams'], '', 'whitakers']\n"
     ]
    },
    {
     "ename": "TypeError",
     "evalue": "'str' object does not support item assignment",
     "output_type": "error",
     "traceback": [
      "\u001b[0;31m-----------------------------------------------------------------\u001b[0m",
      "\u001b[0;31mTypeError\u001b[0m                       Traceback (most recent call last)",
      "\u001b[0;32m<ipython-input-11-767d03b49da3>\u001b[0m in \u001b[0;36m<module>\u001b[0;34m\u001b[0m\n\u001b[1;32m      5\u001b[0m \u001b[0;31m#but what happens when we replace a letter in a string?\u001b[0m\u001b[0;34m\u001b[0m\u001b[0;34m\u001b[0m\u001b[0;34m\u001b[0m\u001b[0m\n\u001b[1;32m      6\u001b[0m \u001b[0msuperhero\u001b[0m \u001b[0;34m=\u001b[0m \u001b[0;34m\"superman\"\u001b[0m\u001b[0;34m\u001b[0m\u001b[0;34m\u001b[0m\u001b[0m\n\u001b[0;32m----> 7\u001b[0;31m \u001b[0msuperhero\u001b[0m\u001b[0;34m[\u001b[0m\u001b[0;36m0\u001b[0m\u001b[0;34m]\u001b[0m \u001b[0;34m=\u001b[0m \u001b[0;34m\"S\"\u001b[0m\u001b[0;34m\u001b[0m\u001b[0;34m\u001b[0m\u001b[0m\n\u001b[0m\u001b[1;32m      8\u001b[0m \u001b[0mprint\u001b[0m\u001b[0;34m(\u001b[0m\u001b[0msuperhero\u001b[0m\u001b[0;34m)\u001b[0m\u001b[0;34m\u001b[0m\u001b[0;34m\u001b[0m\u001b[0m\n",
      "\u001b[0;31mTypeError\u001b[0m: 'str' object does not support item assignment"
     ]
    }
   ],
   "source": [
    "# We an replace an item in the list with something else\n",
    "Candy_cupboard[1] = \"\"\n",
    "print(Candy_cupboard)\n",
    "\n",
    "#but what happens when we replace a letter in a string?\n",
    "superhero = \"superman\"\n",
    "superhero[0] = \"S\"\n",
    "print(superhero)"
   ]
  },
  {
   "cell_type": "code",
   "execution_count": 12,
   "metadata": {
    "slideshow": {
     "slide_type": "fragment"
    }
   },
   "outputs": [
    {
     "data": {
      "text/plain": [
       "['S', 'u', 'p', 'e', 'r']"
      ]
     },
     "execution_count": 12,
     "metadata": {},
     "output_type": "execute_result"
    }
   ],
   "source": [
    "# Try it with a list instead\n",
    "\n",
    "characters = ['s','u','p','e','r']\n",
    "characters[0] = 'S'\n",
    "characters"
   ]
  },
  {
   "cell_type": "code",
   "execution_count": null,
   "metadata": {
    "slideshow": {
     "slide_type": "fragment"
    }
   },
   "outputs": [],
   "source": [
    "characters[0]  = 'S'\n",
    "print(characters)"
   ]
  },
  {
   "cell_type": "markdown",
   "metadata": {
    "slideshow": {
     "slide_type": "slide"
    }
   },
   "source": [
    "### Slicing aka, taking more than one item out of a list\n",
    "\n",
    "Slicing allows us to access *sections* of the list, instead of the whole thing, or only a single element.\n",
    "\n",
    "Slicing can be used on a variety of python data structures, including strings. This is because we can think of strings as being a _sequence_ of letters."
   ]
  },
  {
   "cell_type": "code",
   "execution_count": 14,
   "metadata": {
    "slideshow": {
     "slide_type": "fragment"
    }
   },
   "outputs": [
    {
     "name": "stdout",
     "output_type": "stream",
     "text": [
      "Slicing 1:3 is ['Index 1', 'Index 2', 'Index 3']\n"
     ]
    }
   ],
   "source": [
    "indexList = [\"Index 0\", \"Index 1\", \"Index 2\", \"Index 3\"]\n",
    "\n",
    "print('Slicing 1:3 is', indexList[1:4])"
   ]
  },
  {
   "cell_type": "markdown",
   "metadata": {
    "slideshow": {
     "slide_type": "slide"
    }
   },
   "source": [
    "### Note this is an extremely common way to make a mistake!!\n",
    "\n",
    "When doing this you probably noticed that slicing is _non-inclusive_, meaning that in a slice from indexes 0-5, the \"5\" is not included. This is because sequencing in Python looks sort of like this:\n",
    "<center><img src=\"https://gitlab.unimelb.edu.au/rescom-training/python/introduction-to-python-for-researchers/-/raw/master/Imbedded%20Pics/string-slicing.png\" alt=\"aus_slang\"></center>\n",
    "\n",
    "credit: [https://www.learntowish.com/python-strings/](https://www.learntowish.com/python-strings/)"
   ]
  },
  {
   "cell_type": "markdown",
   "metadata": {
    "slideshow": {
     "slide_type": "slide"
    }
   },
   "source": [
    "Mathematically Speaking ```list[x:y]``` means \"select all items in a list where our index >=x and our index < y"
   ]
  },
  {
   "cell_type": "code",
   "execution_count": 15,
   "metadata": {
    "slideshow": {
     "slide_type": "fragment"
    }
   },
   "outputs": [
    {
     "name": "stdout",
     "output_type": "stream",
     "text": [
      "Index 1 to 3 is ['Index 1', 'Index 2', 'Index 3']\n"
     ]
    },
    {
     "ename": "IndexError",
     "evalue": "list index out of range",
     "output_type": "error",
     "traceback": [
      "\u001b[0;31m-----------------------------------------------------------------\u001b[0m",
      "\u001b[0;31mIndexError\u001b[0m                      Traceback (most recent call last)",
      "\u001b[0;32m<ipython-input-15-b89a37247956>\u001b[0m in \u001b[0;36m<module>\u001b[0;34m\u001b[0m\n\u001b[1;32m      2\u001b[0m \u001b[0;34m\u001b[0m\u001b[0m\n\u001b[1;32m      3\u001b[0m \u001b[0;31m# Whereas if we were to try and find index[4], it would be over the edge!\u001b[0m\u001b[0;34m\u001b[0m\u001b[0;34m\u001b[0m\u001b[0;34m\u001b[0m\u001b[0m\n\u001b[0;32m----> 4\u001b[0;31m \u001b[0mprint\u001b[0m\u001b[0;34m(\u001b[0m\u001b[0mindexList\u001b[0m\u001b[0;34m[\u001b[0m\u001b[0;36m4\u001b[0m\u001b[0;34m]\u001b[0m\u001b[0;34m)\u001b[0m\u001b[0;34m\u001b[0m\u001b[0;34m\u001b[0m\u001b[0m\n\u001b[0m",
      "\u001b[0;31mIndexError\u001b[0m: list index out of range"
     ]
    }
   ],
   "source": [
    "print('Index 1 to 3 is', indexList[1:4]) \n",
    "\n",
    "# Whereas if we were to try and find index[4], it would be over the edge!\n",
    "print(indexList[4])\n"
   ]
  },
  {
   "cell_type": "markdown",
   "metadata": {
    "slideshow": {
     "slide_type": "slide"
    }
   },
   "source": [
    "### Want to slice to the end or from the beginning? \n",
    "- We can also \"auto-complete\" our slicing by leaving the front or back of the slice open:"
   ]
  },
  {
   "cell_type": "code",
   "execution_count": 16,
   "metadata": {
    "slideshow": {
     "slide_type": "fragment"
    }
   },
   "outputs": [
    {
     "name": "stdout",
     "output_type": "stream",
     "text": [
      "Index 2 to end is ['Index 2', 'Index 3']\n"
     ]
    }
   ],
   "source": [
    "print('Index 2 to end is', indexList[2:])"
   ]
  },
  {
   "cell_type": "code",
   "execution_count": 17,
   "metadata": {
    "slideshow": {
     "slide_type": "fragment"
    }
   },
   "outputs": [
    {
     "name": "stdout",
     "output_type": "stream",
     "text": [
      "Start to index 2 is: ['Index 0', 'Index 1', 'Index 2']\n"
     ]
    }
   ],
   "source": [
    "print(\"Start to index 2 is:\", indexList[:3])  #autocomplete from teh beginning\n"
   ]
  },
  {
   "cell_type": "code",
   "execution_count": 18,
   "metadata": {
    "slideshow": {
     "slide_type": "slide"
    }
   },
   "outputs": [
    {
     "name": "stdout",
     "output_type": "stream",
     "text": [
      "Index 1 to -1 is ['Index 2']\n"
     ]
    }
   ],
   "source": [
    "#As well as do negative, or wrap-around slicing\n",
    "print('Index 1 to -1 is', indexList[2:-1])"
   ]
  },
  {
   "cell_type": "code",
   "execution_count": 19,
   "metadata": {
    "slideshow": {
     "slide_type": "fragment"
    }
   },
   "outputs": [
    {
     "name": "stdout",
     "output_type": "stream",
     "text": [
      "Index start to end is ['Index 0', 'Index 1', 'Index 2', 'Index 3']\n"
     ]
    }
   ],
   "source": [
    "print('Index start to end is', indexList[:])"
   ]
  },
  {
   "cell_type": "code",
   "execution_count": null,
   "metadata": {
    "slideshow": {
     "slide_type": "fragment"
    }
   },
   "outputs": [],
   "source": [
    "# You can do the same thing on strings\n"
   ]
  },
  {
   "cell_type": "code",
   "execution_count": 20,
   "metadata": {
    "slideshow": {
     "slide_type": "slide"
    }
   },
   "outputs": [
    {
     "name": "stdout",
     "output_type": "stream",
     "text": [
      "[1, 14, 9, 8, 7]\n"
     ]
    }
   ],
   "source": [
    "#You can also use slicing to quickly assign new values to a list\n",
    "odds1 = [1,3,5,7]\n",
    "\n",
    "#change index 1 -> 14, and 2 -> 9\n",
    "odds1[1:3] = [14,9,8] \n",
    "\n",
    "print(odds1)\n",
    "\n",
    "\n",
    "\n"
   ]
  },
  {
   "cell_type": "markdown",
   "metadata": {
    "slideshow": {
     "slide_type": "slide"
    }
   },
   "source": [
    "### List Minichallenge:\n",
    "\n",
    "Lets practice slicing\n",
    "\n",
    "\n",
    "- Create 2 variables\n",
    "    - One that contains the 1st letter in the strings\n",
    "    - ...and one that contains the 17th letter in string S: "
   ]
  },
  {
   "cell_type": "code",
   "execution_count": 22,
   "metadata": {
    "slideshow": {
     "slide_type": "fragment"
    }
   },
   "outputs": [],
   "source": [
    "# Use this S\n",
    "S = 'allmymemoriessgatherroundherminersladystrangettobluewaterdarkanddustypaintedintheskymistytasteofmoonshinebringsateardroptomyeyecountryroadstakemehometotheplaceibelongwestvirginiamountainmamatakemehomecountryroads'\n",
    "\n"
   ]
  },
  {
   "cell_type": "code",
   "execution_count": 26,
   "metadata": {
    "slideshow": {
     "slide_type": "fragment"
    }
   },
   "outputs": [
    {
     "data": {
      "text/plain": [
       "('a', 't')"
      ]
     },
     "execution_count": 26,
     "metadata": {},
     "output_type": "execute_result"
    }
   ],
   "source": [
    "nickname = S[0]\n",
    "nickname2 = S[16]\n",
    "nickname, nickname2"
   ]
  },
  {
   "cell_type": "markdown",
   "metadata": {
    "slideshow": {
     "slide_type": "fragment"
    }
   },
   "source": [
    "- Take the first 3 letters from S and make them a variable. \n",
    "- Then take the last last 5 letters from S and make them another variable\n",
    "- concatenate (\"add\") those two substrings together with a space in between"
   ]
  },
  {
   "cell_type": "code",
   "execution_count": 24,
   "metadata": {
    "slideshow": {
     "slide_type": "slide"
    }
   },
   "outputs": [
    {
     "data": {
      "text/plain": [
       "['all', ' ', 'roads']"
      ]
     },
     "execution_count": 24,
     "metadata": {},
     "output_type": "execute_result"
    }
   ],
   "source": [
    "firstletter=S[:3]\n",
    "firstletter\n",
    "lastletter=S[-5:]\n",
    "lastletter\n",
    "list1=[firstletter,' ',lastletter]\n",
    "list1\n",
    "\n",
    "\n"
   ]
  },
  {
   "cell_type": "markdown",
   "metadata": {
    "slideshow": {
     "slide_type": "slide"
    }
   },
   "source": [
    "- Bonus: Switch around the 2nd and 4th items in the following list i.e. switch around Snickers and Picnic bars\n",
    "Hint: You may want to make a temporary variable"
   ]
  },
  {
   "cell_type": "code",
   "execution_count": null,
   "metadata": {
    "slideshow": {
     "slide_type": "fragment"
    }
   },
   "outputs": [],
   "source": [
    "temp_list = ['tim tams', 'Snickers', 'milo', 'Picnic', 'Mars']\n"
   ]
  },
  {
   "cell_type": "code",
   "execution_count": null,
   "metadata": {
    "slideshow": {
     "slide_type": "fragment"
    }
   },
   "outputs": [],
   "source": []
  },
  {
   "cell_type": "markdown",
   "metadata": {
    "slideshow": {
     "slide_type": "slide"
    }
   },
   "source": [
    "## Mutability and Variable assignment"
   ]
  },
  {
   "cell_type": "markdown",
   "metadata": {},
   "source": [
    "#### Variable names are like nicknames! you can create two variable names for the same data!\n",
    "\n",
    "Say that you want to a copy the values inside a list into a different list, but then want to change one of them.\n",
    "\n",
    "Because of the way that these two lists are stored within your computer's memory, if you just use variable assignment (e.g. list2 = list1), this can cause problems later on."
   ]
  },
  {
   "cell_type": "code",
   "execution_count": null,
   "metadata": {
    "slideshow": {
     "slide_type": "slide"
    }
   },
   "outputs": [],
   "source": [
    "odds1 = [1,3,5,7]\n",
    "odds2 = odds1\n",
    "\n",
    "print(\"Odds1:\",odds1)\n",
    "print(\"Odds2:\", odds2)"
   ]
  },
  {
   "cell_type": "code",
   "execution_count": null,
   "metadata": {
    "slideshow": {
     "slide_type": "fragment"
    }
   },
   "outputs": [],
   "source": [
    "odds1[1] = 1300\n",
    "\n",
    "print(\"Odds1:\",odds1)\n",
    "print(\"Odds2:\", odds2)"
   ]
  },
  {
   "cell_type": "markdown",
   "metadata": {
    "slideshow": {
     "slide_type": "slide"
    }
   },
   "source": [
    "Oh dear, that's not quite what we wanted. \n",
    "\n",
    "**This is kind of what happened**\n",
    "\n",
    "<center><img src=\"https://gitlab.unimelb.edu.au/rescom-training/python/introduction-to-python-for-researchers/-/raw/master/Imbedded%20Pics/turkey_two%20nicknames.jpg\" alt=\"aus_slang\" style=\"width:auto;height:70vh\"></center>"
   ]
  },
  {
   "cell_type": "code",
   "execution_count": null,
   "metadata": {
    "slideshow": {
     "slide_type": "slide"
    }
   },
   "outputs": [],
   "source": [
    "# Live example\n",
    "\n",
    "temp_list = ['tim tams', 'Snickers', 'milo', 'Picnic', 'Mars']\n",
    "temp_list1 = temp_list\n",
    "temp_list1[1] = temp_list[3]\n",
    "temp_list1[3] = temp_list[1]\n",
    "print(temp_list1,temp_list)\n",
    "\n"
   ]
  },
  {
   "cell_type": "markdown",
   "metadata": {
    "slideshow": {
     "slide_type": "slide"
    }
   },
   "source": [
    "**Solutions** What would happen if we just copied everything inside the list instead?"
   ]
  },
  {
   "cell_type": "code",
   "execution_count": null,
   "metadata": {
    "slideshow": {
     "slide_type": "fragment"
    }
   },
   "outputs": [],
   "source": [
    "odds1 = [1,3,5,7]\n",
    " # Lets copy everything inside the list\n",
    "\n",
    "print(\"Odds1:\",odds1)\n",
    "print(\"Odds2:\", odds2)"
   ]
  },
  {
   "cell_type": "code",
   "execution_count": null,
   "metadata": {
    "slideshow": {
     "slide_type": "fragment"
    }
   },
   "outputs": [],
   "source": [
    "odds1[1] = 1300\n",
    "\n",
    "print(\"Odds1:\",odds1)\n",
    "print(\"Odds2:\", odds2)"
   ]
  },
  {
   "cell_type": "code",
   "execution_count": null,
   "metadata": {
    "slideshow": {
     "slide_type": "fragment"
    }
   },
   "outputs": [],
   "source": [
    "## Extra credit, try the copy() method\n",
    "\n",
    "odds1[1] = 50\n",
    "odds3\n"
   ]
  },
  {
   "cell_type": "markdown",
   "metadata": {
    "slideshow": {
     "slide_type": "slide"
    }
   },
   "source": [
    "#### Challenge\n",
    "\n",
    "Given a string, `s`, of length at most 200 letters and a variety of integers, ***print*** the slice of this string from paired indices, ***inclusively***. e.g. `a` through `b`, `c` through `d`, and `e` through `f`, etc. Make sure to include a space between each word. In other words, we should *include* the letters AT s[b] and s[d] in our slice.\n",
    "\n",
    "E.g.\n",
    "\n",
    "`s = \"HumptyDumptysatonawallHumptyDumptyhadagreatfallAlltheKingshorsesandalltheKingsmenCouldntputHumptyDumptytogetheragain\"\n",
    "a = 22; b = 27; c = 97; d = 102`\n",
    "\n",
    "Would print:\n",
    "\n",
    "`Humpty Dumpty`\n"
   ]
  },
  {
   "cell_type": "code",
   "execution_count": null,
   "metadata": {
    "scrolled": false,
    "slideshow": {
     "slide_type": "slide"
    }
   },
   "outputs": [],
   "source": [
    "zen = \"BeautifulisbetterthanuglySimpleisbetterthancomplexComplexisbetterthancomplicated\"\n",
    "\n",
    "#indices for slicing the list\n",
    "#Pair 1\n",
    "a = 50; b = 56\n",
    "# Pair 2\n",
    "c = 31; d = 32\n",
    "# Pair 3\n",
    "e = 21; f = 24\n",
    "\n"
   ]
  },
  {
   "cell_type": "code",
   "execution_count": null,
   "metadata": {
    "slideshow": {
     "slide_type": "fragment"
    }
   },
   "outputs": [],
   "source": [
    "\n"
   ]
  },
  {
   "cell_type": "code",
   "execution_count": null,
   "metadata": {
    "slideshow": {
     "slide_type": "fragment"
    }
   },
   "outputs": [],
   "source": []
  },
  {
   "cell_type": "code",
   "execution_count": null,
   "metadata": {
    "slideshow": {
     "slide_type": "fragment"
    }
   },
   "outputs": [],
   "source": []
  }
 ],
 "metadata": {
  "kernelspec": {
   "display_name": "Python 3",
   "language": "python",
   "name": "python3"
  },
  "language_info": {
   "codemirror_mode": {
    "name": "ipython",
    "version": 3
   },
   "file_extension": ".py",
   "mimetype": "text/x-python",
   "name": "python",
   "nbconvert_exporter": "python",
   "pygments_lexer": "ipython3",
   "version": "3.9.2"
  },
  "toc": {
   "base_numbering": 1,
   "nav_menu": {
    "height": "281px",
    "width": "252px"
   },
   "number_sections": false,
   "sideBar": false,
   "skip_h1_title": false,
   "title_cell": "Table of Contents",
   "title_sidebar": "Contents",
   "toc_cell": false,
   "toc_position": {
    "height": "40px",
    "left": "802.287px",
    "right": "20px",
    "top": "69px",
    "width": "292px"
   },
   "toc_section_display": false,
   "toc_window_display": true
  },
  "varInspector": {
   "cols": {
    "lenName": 16,
    "lenType": 16,
    "lenVar": 40
   },
   "kernels_config": {
    "python": {
     "delete_cmd_postfix": "",
     "delete_cmd_prefix": "del ",
     "library": "var_list.py",
     "varRefreshCmd": "print(var_dic_list())"
    },
    "r": {
     "delete_cmd_postfix": ") ",
     "delete_cmd_prefix": "rm(",
     "library": "var_list.r",
     "varRefreshCmd": "cat(var_dic_list()) "
    }
   },
   "types_to_exclude": [
    "module",
    "function",
    "builtin_function_or_method",
    "instance",
    "_Feature"
   ],
   "window_display": false
  }
 },
 "nbformat": 4,
 "nbformat_minor": 2
}
