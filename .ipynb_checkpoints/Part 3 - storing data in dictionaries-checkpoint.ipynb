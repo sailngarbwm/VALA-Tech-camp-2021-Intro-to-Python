{
 "cells": [
  {
   "cell_type": "markdown",
   "metadata": {
    "toc": true
   },
   "source": [
    "<h1>Table of Contents<span class=\"tocSkip\"></span></h1>\n",
    "<div class=\"toc\"><ul class=\"toc-item\"><li><span><a href=\"#New-Data-Storage-type:-Dictionaries\" data-toc-modified-id=\"New-Data-Storage-type:-Dictionaries-3\"><span class=\"toc-item-num\">3&nbsp;&nbsp;</span>New Data Storage type: Dictionaries</a></span><ul class=\"toc-item\"><li><ul class=\"toc-item\"><li><span><a href=\"#What-we-already-know\" data-toc-modified-id=\"What-we-already-know-3.0.1\"><span class=\"toc-item-num\">3.0.1&nbsp;&nbsp;</span>What we already know</a></span></li><li><span><a href=\"#Learning-Objectives\" data-toc-modified-id=\"Learning-Objectives-3.0.2\"><span class=\"toc-item-num\">3.0.2&nbsp;&nbsp;</span>Learning Objectives</a></span></li></ul></li><li><span><a href=\"#Dictionaries\" data-toc-modified-id=\"Dictionaries-3.1\"><span class=\"toc-item-num\">3.1&nbsp;&nbsp;</span>Dictionaries</a></span><ul class=\"toc-item\"><li><span><a href=\"#Create-a-dictionary-like-so:\" data-toc-modified-id=\"Create-a-dictionary-like-so:-3.1.1\"><span class=\"toc-item-num\">3.1.1&nbsp;&nbsp;</span>Create a dictionary like so:</a></span></li><li><span><a href=\"#Getting-your-data-from-your-dictionary\" data-toc-modified-id=\"Getting-your-data-from-your-dictionary-3.1.2\"><span class=\"toc-item-num\">3.1.2&nbsp;&nbsp;</span>Getting your data from your dictionary</a></span></li><li><span><a href=\"#Dictionary-Challenge\" data-toc-modified-id=\"Dictionary-Challenge-3.1.3\"><span class=\"toc-item-num\">3.1.3&nbsp;&nbsp;</span>Dictionary Challenge</a></span></li></ul></li></ul></li></ul></div>"
   ]
  },
  {
   "cell_type": "markdown",
   "metadata": {
    "slideshow": {
     "slide_type": "slide"
    }
   },
   "source": [
    "# New Data Storage type: Dictionaries\n",
    "\n",
    "\n",
    "\n"
   ]
  },
  {
   "cell_type": "markdown",
   "metadata": {
    "slideshow": {
     "slide_type": "slide"
    }
   },
   "source": [
    "### What we already know\n",
    "- basic data types (ints, floats, strings)\n",
    "- Some functions and methods to manipulate these data types (i.e. type(), len(), str.upper())\n",
    "- where to put our data\n",
    "    - one piece of data within a variable\n",
    "    - multiple pieces of data within a list\n",
    "- and how to manipulate and build these variables and lists"
   ]
  },
  {
   "cell_type": "markdown",
   "metadata": {
    "slideshow": {
     "slide_type": "slide"
    }
   },
   "source": [
    "### Learning Objectives\n",
    "\n",
    "- Understand the underlying structure of a dictionary\n",
    "- Know how to access dictionary elements\n",
    "- Adding and deleting dictionary elements\n",
    "    - Describe the difference between del & pop()\n",
    "- Be able to describe when a situation is best suited for a dictionary vs. a list"
   ]
  },
  {
   "cell_type": "markdown",
   "metadata": {
    "slideshow": {
     "slide_type": "slide"
    }
   },
   "source": [
    "## Dictionaries\n",
    "\n",
    "Dictionaries are another kind of data storage structure used by Python.\n",
    "\n",
    "Remember our List:\n",
    "\n",
    "![image.png](https://github.com/sailngarbwm/VALA-Tech-camp-2021-Intro-to-Python/raw/main/Imbedded%20Pics/list_table_pic.png)\n",
    "\n",
    "in which each item in a list is associated with an index.... In a dictionary, we essentially make our own indices, called keys!\n",
    "\n",
    "\n",
    "\n"
   ]
  },
  {
   "cell_type": "markdown",
   "metadata": {
    "slideshow": {
     "slide_type": "slide"
    }
   },
   "source": [
    "\n",
    "A dictionary is an associative array. Each item in our list is associated with a key \n",
    "\n",
    "![image.png](https://github.com/sailngarbwm/VALA-Tech-camp-2021-Intro-to-Python/raw/main/Imbedded%20Pics/dictionary_table_pic.png)\n"
   ]
  },
  {
   "cell_type": "markdown",
   "metadata": {
    "slideshow": {
     "slide_type": "slide"
    }
   },
   "source": [
    "#### Dictionary fun facts\n",
    "- rather than using an index, like a list, a dictionary uses \"keys\", typically strings or numbers, that you define. \n",
    "\n",
    "- Like a list, a dictionary can contain any kind of data type for it's values, even other dictionaries or lists! \n",
    "\n",
    "- Dictionaries consist of key-value-pairs, and as they can only be accessed using the 'key' names, they are unordered. \n",
    "\n",
    "- You can make a dictionary by using `dict()`, or `{}`\n"
   ]
  },
  {
   "cell_type": "code",
   "execution_count": null,
   "metadata": {
    "slideshow": {
     "slide_type": "slide"
    }
   },
   "outputs": [],
   "source": [
    "# An empty dictionary\n",
    "dict(value_1=5,)\n",
    "{'value_one':5,}"
   ]
  },
  {
   "cell_type": "markdown",
   "metadata": {
    "slideshow": {
     "slide_type": "slide"
    }
   },
   "source": [
    "### Create a dictionary like so:\n",
    "```python\n",
    "dictionary = {'key1':'value1','key2':'value2'......}\n",
    "```"
   ]
  },
  {
   "cell_type": "code",
   "execution_count": null,
   "metadata": {
    "slideshow": {
     "slide_type": "slide"
    }
   },
   "outputs": [],
   "source": [
    "# Live example add key values pairs as {key1:Val}\n",
    "\n",
    "yum = {\n",
    "       'For Slams':['Double coat tim tam','tim tam'],\n",
    "       'because I love peanuts':'Snickers',\n",
    "        'Because I love New Zealand':'Whitakers',\n",
    "      }\n",
    "yum"
   ]
  },
  {
   "cell_type": "code",
   "execution_count": null,
   "metadata": {
    "slideshow": {
     "slide_type": "slide"
    }
   },
   "outputs": [],
   "source": [
    "# An example of a dictionary with keys and values\n",
    "\n",
    "released = {    \n",
    "    \"iphone\" : 2005,\n",
    "    \"iPhone Pod\": 3010,\n",
    "    \"iphone3G\" : str(2004),    \n",
    "    \"iphone3GS\": str(2009),\n",
    "    \"iPhone Smart\": 2001,\n",
    "    \"iphone4\" : 2010,\n",
    "    \"iphone4S\": '2010',\n",
    "    'iPhone 4SS' : 2015\n",
    "}\n",
    "\n",
    "print(released)"
   ]
  },
  {
   "cell_type": "markdown",
   "metadata": {
    "slideshow": {
     "slide_type": "skip"
    }
   },
   "source": [
    "The great thing about dictionaries is that, like lists, the data stored inside of them can be any kind of data type.\n",
    "\n",
    "You can even store a dictionary inside a dictionary!"
   ]
  },
  {
   "cell_type": "markdown",
   "metadata": {
    "slideshow": {
     "slide_type": "slide"
    }
   },
   "source": [
    "### Getting your data from your dictionary\n",
    "- Very similar to a list\n",
    "- Except that you use a key instead of an index \n",
    "```python\n",
    "dictionary['key1'] #gives you value1\n",
    "```"
   ]
  },
  {
   "cell_type": "code",
   "execution_count": null,
   "metadata": {
    "slideshow": {
     "slide_type": "fragment"
    }
   },
   "outputs": [],
   "source": [
    "# Accessing your dictionary\n",
    "yum['Because I love New Zealand']"
   ]
  },
  {
   "cell_type": "code",
   "execution_count": null,
   "metadata": {
    "slideshow": {
     "slide_type": "fragment"
    }
   },
   "outputs": [],
   "source": [
    "#get iphone from released\n",
    "released['iphone']"
   ]
  },
  {
   "cell_type": "markdown",
   "metadata": {
    "slideshow": {
     "slide_type": "slide"
    }
   },
   "source": [
    "In addition, just like a list, dictionaries are mutable! **like what if I got new candy?**"
   ]
  },
  {
   "cell_type": "code",
   "execution_count": null,
   "metadata": {
    "slideshow": {
     "slide_type": "fragment"
    }
   },
   "outputs": [],
   "source": [
    "# Dictionaries are mutable (they can be changed)\n",
    "yum['because I like peanuts even more'] ='picnic'\n",
    "print(yum)\n",
    "\n",
    "yum['because I like peanuts even more'] = 'empty'\n",
    "print(yum)\n",
    "\n"
   ]
  },
  {
   "cell_type": "code",
   "execution_count": null,
   "metadata": {
    "slideshow": {
     "slide_type": "fragment"
    }
   },
   "outputs": [],
   "source": [
    "#adding two values together\n",
    "yum['because I like peanuts even more'] = yum['because I like peanuts even more'] +yum['because I love peanuts']"
   ]
  },
  {
   "cell_type": "code",
   "execution_count": null,
   "metadata": {},
   "outputs": [],
   "source": [
    "yum"
   ]
  },
  {
   "cell_type": "markdown",
   "metadata": {
    "slideshow": {
     "slide_type": "slide"
    }
   },
   "source": [
    "### Adding and deleting from your dictionary <a class=\"tocSkip\">\n",
    "\n",
    "Adding to your dictionary is simple - you just \"call\" your dictionary with a new key name, and assign it a value.\n",
    "\n",
    "```python\n",
    "dictionary_name['new key'] = new_value\n",
    "```\n"
   ]
  },
  {
   "cell_type": "code",
   "execution_count": null,
   "metadata": {
    "slideshow": {
     "slide_type": "fragment"
    }
   },
   "outputs": [],
   "source": [
    "# Adding new elements\n",
    "print('released dict before',released)\n",
    "released['temporary'] = \"Temporary record\"\n",
    "\n",
    "released"
   ]
  },
  {
   "cell_type": "markdown",
   "metadata": {
    "slideshow": {
     "slide_type": "slide"
    }
   },
   "source": [
    "### What about deleting a record? <a class=\"tocSkip\">\n",
    "- Similarly to how we delete items from lists\n",
    "- we can delete records from our dictionary using `del`"
   ]
  },
  {
   "cell_type": "code",
   "execution_count": null,
   "metadata": {},
   "outputs": [],
   "source": [
    "released"
   ]
  },
  {
   "cell_type": "code",
   "execution_count": null,
   "metadata": {
    "slideshow": {
     "slide_type": "fragment"
    }
   },
   "outputs": [],
   "source": [
    "# While del removes the key and value from the dictionary. \n",
    "del released[\"iphone4S\"]\n",
    "\n",
    "print('released without 4s',released)"
   ]
  },
  {
   "cell_type": "markdown",
   "metadata": {
    "slideshow": {
     "slide_type": "slide"
    }
   },
   "source": [
    "### Dictionary Challenge 3.1\n",
    "\n",
    "Match the following list of values:\n",
    "```python\n",
    "dict_values = [\n",
    "                'creators'\n",
    "                'dates' \n",
    "                'descriptions' \n",
    "                'formats' \n",
    "                'rights' \n",
    "                'titles'\n",
    "                'types' \n",
    "             ]\n",
    "```\n",
    "\n",
    "to the following keys:\n",
    "```python\n",
    "new_keys = [\n",
    "            'dc:title'\n",
    "            'dc:description'\n",
    "            'dc:creator'\n",
    "            'dc:type',\n",
    "            'dc:rights',\n",
    "            'dc:format',\n",
    "            'dcterms:created', # note this matches with dates above\n",
    "           ]\n",
    "\n",
    "```\n",
    "**Note:** You can create a new dictionary from scratch, or take these two lists, and line up the values in an empty dictionary using list indexing!"
   ]
  },
  {
   "cell_type": "code",
   "execution_count": null,
   "metadata": {
    "scrolled": true,
    "slideshow": {
     "slide_type": "slide"
    }
   },
   "outputs": [],
   "source": [
    "out_dict = {}\n",
    "\n",
    "dict_values = [\n",
    "                'creators',\n",
    "                'dates' ,\n",
    "                'descriptions', \n",
    "                'formats' ,\n",
    "                'rights' ,\n",
    "                'titles',\n",
    "                'types' ,\n",
    "             ]\n",
    "\n",
    "new_keys = [\n",
    "            'dc:title',\n",
    "            'dc:description',\n",
    "            'dc:creator',\n",
    "            'dc:type',\n",
    "            'dc:rights',\n",
    "            'dc:format',\n",
    "            'dcterms:created', # note this matches with dates above\n",
    "           ]\n"
   ]
  },
  {
   "cell_type": "code",
   "execution_count": null,
   "metadata": {
    "slideshow": {
     "slide_type": "slide"
    }
   },
   "outputs": [],
   "source": [
    "out_dict[new_keys[0]] = dict_values[-1]\n",
    "out_dict"
   ]
  },
  {
   "cell_type": "code",
   "execution_count": null,
   "metadata": {
    "slideshow": {
     "slide_type": "slide"
    }
   },
   "outputs": [],
   "source": []
  },
  {
   "cell_type": "code",
   "execution_count": null,
   "metadata": {},
   "outputs": [],
   "source": [
    "out_dict"
   ]
  },
  {
   "cell_type": "markdown",
   "metadata": {
    "slideshow": {
     "slide_type": "slide"
    }
   },
   "source": [
    "#### What if we want to just see the keys? or just see the values of our  dictionary?\n",
    "\n",
    "##### Our Special dictionary object has special methods to do that\n",
    "\n",
    "```\n",
    "dict.keys()\n",
    "dict.values()\n",
    "\n",
    "``` "
   ]
  },
  {
   "cell_type": "code",
   "execution_count": null,
   "metadata": {
    "slideshow": {
     "slide_type": "fragment"
    }
   },
   "outputs": [],
   "source": [
    "temp_dict = {}\n",
    "temp_dict[\"temp\"] = \"temporary record\""
   ]
  },
  {
   "cell_type": "code",
   "execution_count": null,
   "metadata": {
    "slideshow": {
     "slide_type": "fragment"
    }
   },
   "outputs": [],
   "source": [
    "temp_dict.values()\n",
    "print(list(temp_dict.values()))\n",
    "temp_dict.keys()"
   ]
  },
  {
   "cell_type": "markdown",
   "metadata": {
    "slideshow": {
     "slide_type": "slide"
    }
   },
   "source": [
    "What this does is give you a list that contains all of the values contained within your dictionary. As this is a list, you can thus use in/not in just as you would with a list!"
   ]
  },
  {
   "cell_type": "code",
   "execution_count": null,
   "metadata": {
    "slideshow": {
     "slide_type": "fragment"
    }
   },
   "outputs": [],
   "source": [
    "list(out_dict.keys())"
   ]
  },
  {
   "cell_type": "code",
   "execution_count": null,
   "metadata": {},
   "outputs": [],
   "source": []
  }
 ],
 "metadata": {
  "kernelspec": {
   "display_name": "Python 3",
   "language": "python",
   "name": "python3"
  },
  "language_info": {
   "codemirror_mode": {
    "name": "ipython",
    "version": 3
   },
   "file_extension": ".py",
   "mimetype": "text/x-python",
   "name": "python",
   "nbconvert_exporter": "python",
   "pygments_lexer": "ipython3",
   "version": "3.9.2"
  },
  "toc": {
   "base_numbering": "3",
   "nav_menu": {
    "height": "173px",
    "width": "252px"
   },
   "number_sections": true,
   "sideBar": false,
   "skip_h1_title": false,
   "title_cell": "Table of Contents",
   "title_sidebar": "Contents",
   "toc_cell": true,
   "toc_position": {
    "height": "200.977px",
    "left": "1105.76px",
    "right": "20px",
    "top": "225.988px",
    "width": "581.738px"
   },
   "toc_section_display": true,
   "toc_window_display": true
  },
  "varInspector": {
   "cols": {
    "lenName": 16,
    "lenType": 16,
    "lenVar": 40
   },
   "kernels_config": {
    "python": {
     "delete_cmd_postfix": "",
     "delete_cmd_prefix": "del ",
     "library": "var_list.py",
     "varRefreshCmd": "print(var_dic_list())"
    },
    "r": {
     "delete_cmd_postfix": ") ",
     "delete_cmd_prefix": "rm(",
     "library": "var_list.r",
     "varRefreshCmd": "cat(var_dic_list()) "
    }
   },
   "types_to_exclude": [
    "module",
    "function",
    "builtin_function_or_method",
    "instance",
    "_Feature"
   ],
   "window_display": false
  }
 },
 "nbformat": 4,
 "nbformat_minor": 2
}
