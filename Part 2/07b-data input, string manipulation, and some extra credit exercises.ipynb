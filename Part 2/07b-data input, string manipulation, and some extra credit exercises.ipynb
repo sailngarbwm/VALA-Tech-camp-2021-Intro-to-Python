{
 "cells": [
  {
   "cell_type": "markdown",
   "metadata": {},
   "source": [
    "# 6- Magic Doodads to get you started\n",
    "\n",
    "### What we already know\n",
    "- basic data types (ints, floats, strings)\n",
    "- Some functions and methods to manipulate these data types (i.e. type(), len(), str.upper())\n",
    "- where to put our data\n",
    "    - one piece of data within a variable\n",
    "    - multiple pieces of data within a list\n",
    "- and how to manipulate and build these variables and lists\n",
    "- How to create, store, and use data in a dictionary\n",
    "- Use conditional statements to allow the computer to choose when to execute certain commands\n",
    "- use loops so that the computer can repeat the brilliant code you have written for it\n",
    "- Made your own functions!\n",
    "\n",
    "\n",
    "__Learning Objectives__:\n",
    "\n",
    "- Read in a file and be iterate over each line\n",
    "- Be able to edit a file and clean your data\n",
    "- Write your own data into a new file\n",
    "- Use what we've learned so far within the whole workshop to perform a useful task"
   ]
  },
  {
   "cell_type": "markdown",
   "metadata": {},
   "source": [
    "## File Input/Output"
   ]
  },
  {
   "cell_type": "markdown",
   "metadata": {},
   "source": [
    "Reading in files is an essential part of beingable to do any kind of data analysis, and thankfully Python makes this really easy.\n",
    "\n",
    "You create the varaible that you want your data to be inside, and you use a function called `open()`.\n",
    "\n",
    "`open()` takes three arguments - the file path/file name you want to open, the \"access mode\" (or way that you want to open it), and a buffering value. The last two values are optional though."
   ]
  },
  {
   "cell_type": "markdown",
   "metadata": {
    "collapsed": true
   },
   "source": [
    "There are 3 general \"access_modes\"\n",
    "\n",
    "- \"r\" = read. \n",
    "    - only lets you _read_ the data from the file.\n",
    "- \"w\" = write\n",
    "    - lets you _write_ data into a file\n",
    "- \"a\" = append\n",
    "    - lets you _add_ data to the end of an existing file. \n",
    "- \"r+\" = special read/write\n",
    "    - lets you both read and write to/from the same file. "
   ]
  },
  {
   "cell_type": "markdown",
   "metadata": {},
   "source": [
    "### Be careful using \"w\"/write though! If you open a file using the \"w\" option, anything that used to be inside that file will be erased.  You would only use this when you are making a new files really"
   ]
  },
  {
   "cell_type": "code",
   "execution_count": 2,
   "metadata": {
    "collapsed": true
   },
   "outputs": [],
   "source": [
    "#open(file name , method of opening)\n",
    "file = open(\"Zen_of_Python.txt\",\"r\")\n",
    "\n",
    "#type(file)"
   ]
  },
  {
   "cell_type": "code",
   "execution_count": 3,
   "metadata": {},
   "outputs": [
    {
     "data": {
      "text/plain": [
       "_io.TextIOWrapper"
      ]
     },
     "execution_count": 3,
     "metadata": {},
     "output_type": "execute_result"
    }
   ],
   "source": [
    "type(file)"
   ]
  },
  {
   "cell_type": "markdown",
   "metadata": {},
   "source": [
    "Let's test the \"write\" access mode"
   ]
  },
  {
   "cell_type": "code",
   "execution_count": null,
   "metadata": {
    "collapsed": true
   },
   "outputs": [],
   "source": [
    "example = open(\"example.txt\", \"w\")\n",
    "example.close()"
   ]
  },
  {
   "cell_type": "markdown",
   "metadata": {},
   "source": [
    "Open the file again on your computer. See how this has erased the contents of the file?"
   ]
  },
  {
   "cell_type": "markdown",
   "metadata": {},
   "source": [
    "### File Input - read() function"
   ]
  },
  {
   "cell_type": "markdown",
   "metadata": {},
   "source": [
    "Opening your file is pretty useless if you can't actually see what's in it though"
   ]
  },
  {
   "cell_type": "code",
   "execution_count": null,
   "metadata": {
    "collapsed": true
   },
   "outputs": [],
   "source": [
    "type(file)"
   ]
  },
  {
   "cell_type": "code",
   "execution_count": 1,
   "metadata": {
    "scrolled": true
   },
   "outputs": [
    {
     "data": {
      "text/plain": [
       "\"The Zen of Python -- by Tim Peters\\n\\nBeautiful is better than ugly.\\nExplicit is better than implicit.\\nSimple is better than complex.\\nComplex is better than complicated.\\nFlat is better than nested.\\nSparse is better than dense.\\nReadability counts.\\nSpecial cases are not special enough to break the rules.\\nAlthough practicality beats purity.\\nErrors should never pass silently.\\nUnless explicitly silenced.\\nIn the face of ambiguity, refuse the temptation to guess.\\nThere should be one -- and preferably only one -- obvious way to do it.\\nAlthough that way may not be obvious at first unless you're Dutch.\\nNow is better than never.\\nAlthough never is often better than right now.\\nIf the implementation is hard to explain -- it is a bad idea.\\nIf the implementation is easy to explain -- it may be a good idea.\\nNamespaces are one honking great idea -- let us do more of those!\""
      ]
     },
     "execution_count": 1,
     "metadata": {},
     "output_type": "execute_result"
    }
   ],
   "source": [
    "# This will give me the whole file's contents at once\n",
    "file = open(\"Zen_of_Python.txt\",\"r\")\n",
    "file.read()"
   ]
  },
  {
   "cell_type": "markdown",
   "metadata": {},
   "source": [
    "So there are a few things to examine in here. \n",
    "\n",
    "When you look at the original file, you can see that each of these sentences are on different lines - but here they're all jumbled together. That's because those `\\n` symbols are \"newline\" characters - when the computer is interpreting text, it will use this newline character to tell it to print that text on a new line. \n",
    "\n",
    "We can demonstrate this by using `print()` on this text:"
   ]
  },
  {
   "cell_type": "code",
   "execution_count": 2,
   "metadata": {
    "scrolled": false
   },
   "outputs": [
    {
     "name": "stdout",
     "output_type": "stream",
     "text": [
      "The Zen of Python -- by Tim Peters\n",
      "\n",
      "Beautiful is better than ugly.\n",
      "Explicit is better than implicit.\n",
      "Simple is better than complex.\n",
      "Complex is better than complicated.\n",
      "Flat is better than nested.\n",
      "Sparse is better than dense.\n",
      "Readability counts.\n",
      "Special cases are not special enough to break the rules.\n",
      "Although practicality beats purity.\n",
      "Errors should never pass silently.\n",
      "Unless explicitly silenced.\n",
      "In the face of ambiguity, refuse the temptation to guess.\n",
      "There should be one -- and preferably only one -- obvious way to do it.\n",
      "Although that way may not be obvious at first unless you're Dutch.\n",
      "Now is better than never.\n",
      "Although never is often better than right now.\n",
      "If the implementation is hard to explain -- it is a bad idea.\n",
      "If the implementation is easy to explain -- it may be a good idea.\n",
      "Namespaces are one honking great idea -- let us do more of those!\n"
     ]
    }
   ],
   "source": [
    "file = open(\"Zen_of_Python.txt\",\"r\")\n",
    "file_all = file.read()\n",
    "\n",
    "print(file_all)"
   ]
  },
  {
   "cell_type": "markdown",
   "metadata": {},
   "source": [
    "The most common non-printable characters you need to know are:\n",
    "\n",
    "- \\n : new line. You may also sometimes see \\r\\n on files written by Windows systems.\n",
    "- \\t : tab"
   ]
  },
  {
   "cell_type": "code",
   "execution_count": 5,
   "metadata": {},
   "outputs": [
    {
     "data": {
      "text/plain": [
       "'The Zen of Python -- by Tim Peters\\n\\nBeautiful is better than ugly.\\nExplicit is better than implicit.\\nSimple is better than complex.\\nComplex is better '"
      ]
     },
     "execution_count": 5,
     "metadata": {},
     "output_type": "execute_result"
    }
   ],
   "source": [
    "# Or I can specify the number of \"bytes\", or characters, that I want to read in at once\n",
    "file = open(\"Zen_of_Python.txt\",\"r\")\n",
    "file.read(150)"
   ]
  },
  {
   "cell_type": "code",
   "execution_count": null,
   "metadata": {
    "collapsed": true
   },
   "outputs": [],
   "source": [
    "# If I read the whole file though, the \"pointer\" is set at the bottom of the file. \n",
    "file = open(\"Zen_of_Python.txt\",\"r\")\n",
    "\n",
    "#this reads in the whole file\n",
    "\n",
    "\n",
    "#what if I run it again?\n"
   ]
  },
  {
   "cell_type": "markdown",
   "metadata": {},
   "source": [
    "### File Output\n",
    "\n",
    "Let's first go over how to write to a file\n",
    "\n",
    "This is actually really easy - just use `open` to create a file that you want to write to, and then you can use the `file.write()` function to write any _string_ values into that file."
   ]
  },
  {
   "cell_type": "code",
   "execution_count": 6,
   "metadata": {},
   "outputs": [
    {
     "data": {
      "text/plain": [
       "_io.TextIOWrapper"
      ]
     },
     "execution_count": 6,
     "metadata": {},
     "output_type": "execute_result"
    }
   ],
   "source": [
    "file_out = open(\"example.txt\", \"w\")\n",
    "type(file_out)"
   ]
  },
  {
   "cell_type": "code",
   "execution_count": 9,
   "metadata": {},
   "outputs": [
    {
     "data": {
      "text/plain": [
       "5"
      ]
     },
     "execution_count": 9,
     "metadata": {},
     "output_type": "execute_result"
    }
   ],
   "source": [
    "file_out.write(\"This\\n\") #what happens if I try to \"write\" an int?"
   ]
  },
  {
   "cell_type": "code",
   "execution_count": 10,
   "metadata": {},
   "outputs": [
    {
     "data": {
      "text/plain": [
       "1.3333333333333333"
      ]
     },
     "execution_count": 10,
     "metadata": {},
     "output_type": "execute_result"
    }
   ],
   "source": [
    "\n",
    "int(4)/int(3)"
   ]
  },
  {
   "cell_type": "markdown",
   "metadata": {},
   "source": [
    "Now let's have a look at what's in the file:\n",
    "\n",
    "Oops! It's all on the same line. What could I do to make them be on a separate line?"
   ]
  },
  {
   "cell_type": "markdown",
   "metadata": {},
   "source": [
    "#### Challenge\n",
    "\n",
    "Using the `write()` function, create your own haiku inside a new file, called \"poem.txt\". Give it a title, and make sure there are two lines between the title and the poem text. \n",
    "\n",
    "Example:  \n",
    "\"\"\"   \n",
    "My Poem\n",
    "\n",
    "This is my poem   \n",
    "My poem is amazing   \n",
    "It's the best poem\n",
    "\n",
    "p.s. This poem is terrific. Don't listen to the corrupt media. CNN is fake news.   \n",
    "\"\"\""
   ]
  },
  {
   "cell_type": "code",
   "execution_count": null,
   "metadata": {
    "collapsed": true
   },
   "outputs": [],
   "source": []
  },
  {
   "cell_type": "code",
   "execution_count": null,
   "metadata": {
    "collapsed": true
   },
   "outputs": [],
   "source": []
  },
  {
   "cell_type": "code",
   "execution_count": null,
   "metadata": {
    "collapsed": true
   },
   "outputs": [],
   "source": []
  },
  {
   "cell_type": "markdown",
   "metadata": {},
   "source": [
    "### File Input - Take 2\n",
    "Often though, you only want to read through one line at a time. There are a few ways you can do this:\n",
    "\n",
    "1. You can use the `.readline()` function\n",
    "2. You can use the `.readlines()` function, and loop over it\n",
    "3. A `for` loop"
   ]
  },
  {
   "cell_type": "markdown",
   "metadata": {},
   "source": [
    "**Option 1: `readline()`**\n",
    "\n",
    "This allows you to read a single line of the file each time you run the function, and can be used in a for loop. This is extremely handy if you want to read through two different files (of the same length!) at the same time."
   ]
  },
  {
   "cell_type": "code",
   "execution_count": null,
   "metadata": {
    "collapsed": true
   },
   "outputs": [],
   "source": [
    "file = open(\"Zen_of_Python.txt\",\"r\")"
   ]
  },
  {
   "cell_type": "code",
   "execution_count": 11,
   "metadata": {},
   "outputs": [
    {
     "data": {
      "text/plain": [
       "'than complicated.\\n'"
      ]
     },
     "execution_count": 11,
     "metadata": {},
     "output_type": "execute_result"
    }
   ],
   "source": [
    "file.readline()"
   ]
  },
  {
   "cell_type": "code",
   "execution_count": 12,
   "metadata": {},
   "outputs": [
    {
     "data": {
      "text/plain": [
       "['Flat is better than nested.\\n',\n",
       " 'Sparse is better than dense.\\n',\n",
       " 'Readability counts.\\n',\n",
       " 'Special cases are not special enough to break the rules.\\n',\n",
       " 'Although practicality beats purity.\\n',\n",
       " 'Errors should never pass silently.\\n',\n",
       " 'Unless explicitly silenced.\\n',\n",
       " 'In the face of ambiguity, refuse the temptation to guess.\\n',\n",
       " 'There should be one -- and preferably only one -- obvious way to do it.\\n',\n",
       " \"Although that way may not be obvious at first unless you're Dutch.\\n\",\n",
       " 'Now is better than never.\\n',\n",
       " 'Although never is often better than right now.\\n',\n",
       " 'If the implementation is hard to explain -- it is a bad idea.\\n',\n",
       " 'If the implementation is easy to explain -- it may be a good idea.\\n',\n",
       " 'Namespaces are one honking great idea -- let us do more of those!']"
      ]
     },
     "execution_count": 12,
     "metadata": {},
     "output_type": "execute_result"
    }
   ],
   "source": [
    "file.readlines()"
   ]
  },
  {
   "cell_type": "code",
   "execution_count": null,
   "metadata": {
    "collapsed": true,
    "scrolled": true
   },
   "outputs": [],
   "source": []
  },
  {
   "cell_type": "code",
   "execution_count": null,
   "metadata": {
    "collapsed": true
   },
   "outputs": [],
   "source": []
  },
  {
   "cell_type": "markdown",
   "metadata": {},
   "source": [
    "**Option 2: `readlines()`**\n",
    "\n",
    "Reads the entire file in at once as a list, with each line occupying a list element"
   ]
  },
  {
   "cell_type": "code",
   "execution_count": 85,
   "metadata": {
    "collapsed": true
   },
   "outputs": [],
   "source": [
    "file = open(\"Zen_of_Python.txt\",\"r\")\n",
    "\n",
    "\n",
    "file.close()"
   ]
  },
  {
   "cell_type": "markdown",
   "metadata": {
    "collapsed": true
   },
   "source": [
    " **Option 3: Using a `for` loop**\n",
    " \n",
    " When you `open` a file, the _io.TextIOWrapper_ data type it reads in as is naturally iterable. Just like using the range function, or going through a list, this means that you're able to loop over each element in the file."
   ]
  },
  {
   "cell_type": "code",
   "execution_count": null,
   "metadata": {
    "collapsed": true
   },
   "outputs": [],
   "source": [
    "file = open(\"Zen_of_Python.txt\",\"r\")\n",
    "type(file)"
   ]
  },
  {
   "cell_type": "code",
   "execution_count": null,
   "metadata": {
    "collapsed": true,
    "scrolled": false
   },
   "outputs": [],
   "source": []
  },
  {
   "cell_type": "markdown",
   "metadata": {},
   "source": [
    "---\n",
    "\n",
    "Why it is printing double spaces though?\n",
    "\n",
    "If you remember looking at our `readlines()` function, you'll see that there's actually a `\\n` on the end of every line. We don't see when using the `print()` function, because the computer automatically removes those when rendering the text - they're non-printed characters. \n",
    "\n",
    "However, when we've previously used the `print()` function multiple times in the same cell, you'll notice that each output ends up on a different line:"
   ]
  },
  {
   "cell_type": "code",
   "execution_count": null,
   "metadata": {
    "collapsed": true
   },
   "outputs": [],
   "source": [
    "print(\"Line 1\")\n",
    "print(\"Line 2\")\n",
    "print(\"Line 3\")"
   ]
  },
  {
   "cell_type": "markdown",
   "metadata": {},
   "source": [
    "Although we can't see them in the output, `print()` is actually adding it's _own_ newline characters to end of each line's output as well. That means that when we print our own lines - which already _have_ newlines, we're actually printing double spaces.\n",
    "\n",
    "To remove this issue, we'll want to remove those characters before we print - we can do this using the `strip()` function, which will be covered soon."
   ]
  },
  {
   "cell_type": "markdown",
   "metadata": {},
   "source": [
    "**with open() as name**  \n",
    "Another option while reading our files is open the file as a _handle_, like so:"
   ]
  },
  {
   "cell_type": "code",
   "execution_count": null,
   "metadata": {
    "collapsed": true,
    "scrolled": false
   },
   "outputs": [],
   "source": [
    "with open(\"Zen_of_Python.txt\",\"r\") as file:\n",
    "    for line in file.readlines():\n",
    "        print(line)"
   ]
  },
  {
   "cell_type": "code",
   "execution_count": null,
   "metadata": {
    "collapsed": true
   },
   "outputs": [],
   "source": []
  },
  {
   "cell_type": "markdown",
   "metadata": {},
   "source": [
    "This version is popular because it will automatically `close()` the file once it reaches the end of the document. "
   ]
  },
  {
   "cell_type": "markdown",
   "metadata": {},
   "source": [
    "### Challenge\n",
    "\n",
    "Using the file \"Robin.txt\", print out every second line of the file.  \n",
    "Assume that the lines of the file start counting from 1, not 0. \n"
   ]
  },
  {
   "cell_type": "code",
   "execution_count": null,
   "metadata": {
    "collapsed": true
   },
   "outputs": [],
   "source": []
  },
  {
   "cell_type": "code",
   "execution_count": null,
   "metadata": {
    "collapsed": true
   },
   "outputs": [],
   "source": []
  },
  {
   "cell_type": "code",
   "execution_count": null,
   "metadata": {
    "collapsed": true
   },
   "outputs": [],
   "source": []
  },
  {
   "cell_type": "code",
   "execution_count": null,
   "metadata": {
    "collapsed": true
   },
   "outputs": [],
   "source": []
  },
  {
   "cell_type": "markdown",
   "metadata": {},
   "source": [
    "## String Manipulations\n",
    "\n",
    "We've already seen a couple of string manipulations on Day 1 - functions like `upper()`, `lower()`, `capitalize()` and `title()`. Today, you're going to learn about:\n",
    "\n",
    "- `strip()`, `lstrip()` & `rstrip()`\n",
    "- `split()`\n",
    "- `find()`\n",
    "- `replace()`\n",
    "- `join()`\n"
   ]
  },
  {
   "cell_type": "markdown",
   "metadata": {},
   "source": [
    "#### Strip()\n",
    "\n",
    "`strip()` is that excellent little function that we mentioned earlier. This allows you to essentially \"strip\" off specified values from the starts and ends of your strings.\n",
    "\n",
    "By default, `strip()` will remove all \"whitespace\" characters - things like \\n newline, \\t tab, etc."
   ]
  },
  {
   "cell_type": "code",
   "execution_count": null,
   "metadata": {
    "collapsed": true
   },
   "outputs": [],
   "source": [
    "string = \"\\n This is a string that I want to get rid of stuff from\\tWoot!\\t\\n\"\n",
    "string"
   ]
  },
  {
   "cell_type": "code",
   "execution_count": null,
   "metadata": {
    "collapsed": true
   },
   "outputs": [],
   "source": [
    "# Strip() will remove whitespace and all non-printed characters from either end of a string\n",
    "string.strip()"
   ]
  },
  {
   "cell_type": "code",
   "execution_count": null,
   "metadata": {
    "collapsed": true
   },
   "outputs": [],
   "source": [
    "# You can also specify what you want to remove. It doesn't have to be whitespace either!\n",
    "\n",
    "string = \"\\nThis is a string that I want to get rid of stuff from. Woot!\\t\\n\"\n",
    "string.rstrip(\"\\n\")"
   ]
  },
  {
   "cell_type": "code",
   "execution_count": null,
   "metadata": {
    "collapsed": true
   },
   "outputs": [],
   "source": [
    "string = \"\\nThis is a string that I want to get rid of stuff from. Woot! Woot!\"\n",
    "string.rstrip(\" Woot!\")"
   ]
  },
  {
   "cell_type": "markdown",
   "metadata": {},
   "source": [
    "I can also specify multiple items to strip off"
   ]
  },
  {
   "cell_type": "code",
   "execution_count": null,
   "metadata": {
    "collapsed": true
   },
   "outputs": [],
   "source": [
    "string = \"Exam*%#^ple!*%#^\"\n",
    "string.strip(\"#*^%\") #characters in any order"
   ]
  },
  {
   "cell_type": "markdown",
   "metadata": {
    "collapsed": true
   },
   "source": [
    "Be aware though! As we saw above, strip treats each of the characters you put in as separate, and thus will strip off those characters *in any order*"
   ]
  },
  {
   "cell_type": "code",
   "execution_count": 88,
   "metadata": {},
   "outputs": [
    {
     "data": {
      "text/plain": [
       "'\\nThis is a string that I want to get rid of stuff fr'"
      ]
     },
     "execution_count": 88,
     "metadata": {},
     "output_type": "execute_result"
    }
   ],
   "source": [
    "string = \"\\nThis is a string that I want to get rid of stuff from. Woot! Wot!\"\n",
    "string.strip(\"!W ot.m\")"
   ]
  },
  {
   "cell_type": "code",
   "execution_count": null,
   "metadata": {
    "collapsed": true
   },
   "outputs": [],
   "source": []
  },
  {
   "cell_type": "markdown",
   "metadata": {},
   "source": [
    "#### Split()\n",
    "\n",
    "We can also use the `split()` command to split our strings into a list"
   ]
  },
  {
   "cell_type": "code",
   "execution_count": null,
   "metadata": {
    "collapsed": true
   },
   "outputs": [],
   "source": [
    "string = \"This\\nis,a\\tstring I want to split\"\n",
    "\n",
    "string.split()"
   ]
  },
  {
   "cell_type": "markdown",
   "metadata": {},
   "source": [
    "This works on _all_ whitespace (including non-printed characters) as standard, but you can specify what you want it to split on."
   ]
  },
  {
   "cell_type": "code",
   "execution_count": null,
   "metadata": {
    "collapsed": true
   },
   "outputs": [],
   "source": [
    "string = \"This\\nis a\\tstring I want to split\"\n",
    "\n",
    "string.split(\" \") #will split on the spaces only"
   ]
  },
  {
   "cell_type": "code",
   "execution_count": null,
   "metadata": {
    "collapsed": true
   },
   "outputs": [],
   "source": []
  },
  {
   "cell_type": "markdown",
   "metadata": {},
   "source": [
    "** Find() **\n",
    "\n",
    "Find allows you to...you guessed it! Find something inside your string.\n",
    "\n",
    "The general structure is `\"str to search inside\".find(\"string to find\", start pos, end pos)`\n",
    "\n",
    "The start and end are optional - the default values for those are just the start and end of your first string"
   ]
  },
  {
   "cell_type": "code",
   "execution_count": null,
   "metadata": {
    "collapsed": true
   },
   "outputs": [],
   "source": [
    "str1 = \"This is my long string\"\n",
    "str2 = \"is\""
   ]
  },
  {
   "cell_type": "code",
   "execution_count": null,
   "metadata": {
    "collapsed": true,
    "scrolled": true
   },
   "outputs": [],
   "source": []
  },
  {
   "cell_type": "code",
   "execution_count": null,
   "metadata": {
    "collapsed": true
   },
   "outputs": [],
   "source": [
    "str1.find(str2)"
   ]
  },
  {
   "cell_type": "markdown",
   "metadata": {
    "collapsed": true
   },
   "source": [
    "If the thing you're searching for doesn't exist, `find()` will just return a -1"
   ]
  },
  {
   "cell_type": "code",
   "execution_count": null,
   "metadata": {
    "collapsed": true
   },
   "outputs": [],
   "source": [
    "str1.find(\"k\")"
   ]
  },
  {
   "cell_type": "markdown",
   "metadata": {},
   "source": [
    "#### Team Discussion\n",
    "\n",
    "How do you think you might use `find`? What applications could it be useful for?"
   ]
  },
  {
   "cell_type": "code",
   "execution_count": null,
   "metadata": {
    "collapsed": true
   },
   "outputs": [],
   "source": []
  },
  {
   "cell_type": "markdown",
   "metadata": {},
   "source": [
    "#### Replace()\n",
    "\n",
    "Replace kind of works like \"find and replace all\" in MS Excel. \n",
    "\n",
    "`replace()` takes two arguments - the string to find, and what to replace it with.\n",
    "\n",
    "`\"string\".replace(\"what to replace\", \"what to replace it with\")`"
   ]
  },
  {
   "cell_type": "code",
   "execution_count": null,
   "metadata": {
    "collapsed": true
   },
   "outputs": [],
   "source": [
    "str1 = \"this||day||is||great\""
   ]
  },
  {
   "cell_type": "code",
   "execution_count": null,
   "metadata": {
    "collapsed": true
   },
   "outputs": [],
   "source": [
    "str1.replace(\"is\",\" \")"
   ]
  },
  {
   "cell_type": "code",
   "execution_count": null,
   "metadata": {
    "collapsed": true
   },
   "outputs": [],
   "source": [
    "\"This is a string\".replace(\"is\",\"\")"
   ]
  },
  {
   "cell_type": "code",
   "execution_count": null,
   "metadata": {
    "collapsed": true
   },
   "outputs": [],
   "source": []
  },
  {
   "cell_type": "markdown",
   "metadata": {},
   "source": [
    "#### Join()\n",
    "\n",
    "Join() will take a list and then join all of the elements together to make a single string\n",
    "\n",
    "`\"what to place between each list element\".join(list to join)`"
   ]
  },
  {
   "cell_type": "code",
   "execution_count": null,
   "metadata": {
    "collapsed": true
   },
   "outputs": [],
   "source": [
    "stringList = [\"This\", \"is\", \"my\", \"string\",\"example\"]\n",
    "\n",
    "# Placing spaces between each word\n",
    "\" \".join(stringList)"
   ]
  },
  {
   "cell_type": "code",
   "execution_count": null,
   "metadata": {
    "collapsed": true
   },
   "outputs": [],
   "source": [
    "# Tab characters - could be useful for spreadsheets?\n",
    "\"\\t\".join(stringList)"
   ]
  },
  {
   "cell_type": "code",
   "execution_count": null,
   "metadata": {
    "collapsed": true
   },
   "outputs": [],
   "source": [
    "# commas. Useful for *.csv files?\n",
    "\",\".join(stringList)"
   ]
  },
  {
   "cell_type": "code",
   "execution_count": null,
   "metadata": {
    "collapsed": true
   },
   "outputs": [],
   "source": [
    "# No spaces. Just join the words\n",
    "\"\".join(stringList)"
   ]
  },
  {
   "cell_type": "code",
   "execution_count": null,
   "metadata": {
    "collapsed": true
   },
   "outputs": [],
   "source": [
    "# BUT all list elements MUST be strings\n",
    "stringList = [\"This\", \"is\", \"my\", \"string\",\"example\", 3]\n",
    "\"\".join(stringList)"
   ]
  },
  {
   "cell_type": "markdown",
   "metadata": {},
   "source": [
    "#### Challenge\n",
    "\n",
    "Read in the Zen of Python, and removing all punctuation, count the number of times each word occurs inside the poem.\n",
    "\n",
    "Then, print out both the most common, and the least common word that occurs in the poem.\n",
    "\n",
    "*Hint: remember - Python counts \"Upper\" and \"upper\" as two separate words. How could you fix this?*"
   ]
  },
  {
   "cell_type": "code",
   "execution_count": null,
   "metadata": {
    "collapsed": true
   },
   "outputs": [],
   "source": []
  },
  {
   "cell_type": "code",
   "execution_count": null,
   "metadata": {
    "collapsed": true
   },
   "outputs": [],
   "source": []
  },
  {
   "cell_type": "code",
   "execution_count": null,
   "metadata": {
    "collapsed": true
   },
   "outputs": [],
   "source": []
  },
  {
   "cell_type": "code",
   "execution_count": null,
   "metadata": {
    "collapsed": true
   },
   "outputs": [],
   "source": []
  },
  {
   "cell_type": "markdown",
   "metadata": {},
   "source": [
    "# Packages\n",
    "\n",
    "Packages. Make. Life. Easier.\n",
    "\n",
    "Mostly.\n",
    "\n",
    "Packages tend to contain functions that other programmers thought would be useful to use at some point. This can include things that we've already seen - like generating a random integer.\n",
    "\n",
    "We could even do things like, say, counting how many times particular words occur?"
   ]
  },
  {
   "cell_type": "code",
   "execution_count": null,
   "metadata": {
    "collapsed": true
   },
   "outputs": [],
   "source": [
    "import nltk\n",
    "import collections\n",
    "from nltk.tokenize.casual import casual_tokenize"
   ]
  },
  {
   "cell_type": "code",
   "execution_count": null,
   "metadata": {
    "collapsed": true
   },
   "outputs": [],
   "source": [
    "with open('Zen_of_Python.txt', 'r') as f:\n",
    "    text = f.read()"
   ]
  },
  {
   "cell_type": "code",
   "execution_count": null,
   "metadata": {
    "collapsed": true
   },
   "outputs": [],
   "source": [
    "text = text.lower()\n",
    "text"
   ]
  },
  {
   "cell_type": "code",
   "execution_count": null,
   "metadata": {
    "collapsed": true
   },
   "outputs": [],
   "source": [
    "text_tok = casual_tokenize(text)\n",
    "\n",
    "text_tok"
   ]
  },
  {
   "cell_type": "code",
   "execution_count": null,
   "metadata": {
    "collapsed": true
   },
   "outputs": [],
   "source": [
    "from collections import Counter\n",
    "\n",
    "#Counter lets you quickly count how many times a word occurs"
   ]
  },
  {
   "cell_type": "code",
   "execution_count": null,
   "metadata": {
    "collapsed": true
   },
   "outputs": [],
   "source": [
    "# Used on a string, it just counts the individual letters\n",
    "Counter('')"
   ]
  },
  {
   "cell_type": "code",
   "execution_count": null,
   "metadata": {
    "collapsed": true
   },
   "outputs": [],
   "source": [
    "Counter([\"What\",'about','a', 'list'])"
   ]
  },
  {
   "cell_type": "code",
   "execution_count": null,
   "metadata": {
    "collapsed": true
   },
   "outputs": [],
   "source": [
    "text_tok_counted = Counter(text_tok)\n",
    "text_tok_counted"
   ]
  },
  {
   "cell_type": "code",
   "execution_count": null,
   "metadata": {
    "collapsed": true
   },
   "outputs": [],
   "source": [
    "text_tok_counted.most_common(1)"
   ]
  },
  {
   "cell_type": "markdown",
   "metadata": {},
   "source": [
    "Another way to do this, while removing any punctuation characters, is by removing the items from the dictionary, or creating a new one without the offending characters"
   ]
  },
  {
   "cell_type": "code",
   "execution_count": null,
   "metadata": {
    "collapsed": true
   },
   "outputs": [],
   "source": [
    "import string\n",
    "\n",
    "string.punctuation"
   ]
  },
  {
   "cell_type": "code",
   "execution_count": null,
   "metadata": {
    "collapsed": true
   },
   "outputs": [],
   "source": [
    "temp = Counter('')\n",
    "tlist = Counter()\n",
    "type(temp)\n",
    "\n",
    "for k,v in temp.items():\n",
    "    if (k not in string.punctuation) and (k != \" \"):\n",
    "        tlist[k] = v\n",
    "        \n",
    "print(tlist)"
   ]
  },
  {
   "cell_type": "markdown",
   "metadata": {},
   "source": [
    "We could do something similar for the Zen of Python too - significantly shortening the amount of code, typing and effort required to perform the last challenge."
   ]
  },
  {
   "cell_type": "markdown",
   "metadata": {},
   "source": [
    "There are also many packages out there that make life MUCH simpler while trying to read in files"
   ]
  },
  {
   "cell_type": "code",
   "execution_count": 89,
   "metadata": {},
   "outputs": [
    {
     "data": {
      "text/plain": [
       "<_csv.reader at 0x17c49c2fad8>"
      ]
     },
     "execution_count": 89,
     "metadata": {},
     "output_type": "execute_result"
    }
   ],
   "source": [
    "import csv\n",
    "\n",
    "file = open(\"iris.csv\",\"r\")\n",
    "iris = csv.reader(file, dialect = \"excel\")\n",
    "iris"
   ]
  },
  {
   "cell_type": "code",
   "execution_count": null,
   "metadata": {
    "collapsed": true
   },
   "outputs": [],
   "source": [
    "#printing the first 10 lines\n"
   ]
  },
  {
   "cell_type": "markdown",
   "metadata": {},
   "source": [
    "While handy for a lot of things, pandas is the gold standard for reading in spreadsheets in Python these days"
   ]
  },
  {
   "cell_type": "code",
   "execution_count": null,
   "metadata": {
    "collapsed": true
   },
   "outputs": [],
   "source": [
    "import pandas as pd\n",
    "\n",
    "df = pd.read_csv(\"iris.csv\")\n",
    "\n",
    "df.head()"
   ]
  },
  {
   "cell_type": "code",
   "execution_count": null,
   "metadata": {
    "collapsed": true
   },
   "outputs": [],
   "source": []
  },
  {
   "cell_type": "markdown",
   "metadata": {},
   "source": [
    "# CONGRATULATIONS FOR REACHING THE END"
   ]
  },
  {
   "cell_type": "markdown",
   "metadata": {},
   "source": [
    "And thus begins the start of your journey into the world of Python. The coming weeks and months are going to be frustrating - you know that you *can* do something, but you *just can't quite* remember how it's done. Or maybe you need to keep looking up the simple things. And general syntax is going to be horrendous to remember.\n"
   ]
  },
  {
   "attachments": {
    "image.png": {
     "image/png": "[encoded data removed]"
    }
   },
   "cell_type": "markdown",
   "metadata": {
    "collapsed": true
   },
   "source": [
    "![image.png](attachment:image.png)"
   ]
  },
  {
   "cell_type": "markdown",
   "metadata": {},
   "source": [
    "It's all part of the fun. I swear. It gets easier.\n",
    "\n",
    "Programming is like learning any new skill - it's going to to take time, and a little bit of practise before you're able to program something that's less painful than listening to my high school attempt at playing \"Twinkle Twinkle Little Star\" on the violin.\n",
    "\n",
    "But before long, if you keep at it and trying new things, you could be the next concert virtuoso"
   ]
  }
 ],
 "metadata": {
  "kernelspec": {
   "display_name": "Python 3",
   "language": "python",
   "name": "python3"
  },
  "language_info": {
   "codemirror_mode": {
    "name": "ipython",
    "version": 3
   },
   "file_extension": ".py",
   "mimetype": "text/x-python",
   "name": "python",
   "nbconvert_exporter": "python",
   "pygments_lexer": "ipython3",
   "version": "3.8.2"
  },
  "toc": {
   "base_numbering": 1,
   "nav_menu": {
    "height": "288px",
    "width": "252px"
   },
   "number_sections": false,
   "sideBar": false,
   "skip_h1_title": false,
   "title_cell": "Table of Contents",
   "title_sidebar": "Contents",
   "toc_cell": false,
   "toc_position": {
    "height": "40px",
    "left": "630.135px",
    "right": "20px",
    "top": "66px",
    "width": "241px"
   },
   "toc_section_display": false,
   "toc_window_display": true
  },
  "varInspector": {
   "cols": {
    "lenName": 16,
    "lenType": 16,
    "lenVar": 40
   },
   "kernels_config": {
    "python": {
     "delete_cmd_postfix": "",
     "delete_cmd_prefix": "del ",
     "library": "var_list.py",
     "varRefreshCmd": "print(var_dic_list())"
    },
    "r": {
     "delete_cmd_postfix": ") ",
     "delete_cmd_prefix": "rm(",
     "library": "var_list.r",
     "varRefreshCmd": "cat(var_dic_list()) "
    }
   },
   "types_to_exclude": [
    "module",
    "function",
    "builtin_function_or_method",
    "instance",
    "_Feature"
   ],
   "window_display": false
  }
 },
 "nbformat": 4,
 "nbformat_minor": 2
}
