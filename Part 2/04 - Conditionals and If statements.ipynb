{
 "cells": [
  {
   "cell_type": "markdown",
   "metadata": {
    "slideshow": {
     "slide_type": "slide"
    }
   },
   "source": [
    "## Conditional logic and if statements"
   ]
  },
  {
   "cell_type": "markdown",
   "metadata": {
    "slideshow": {
     "slide_type": "fragment"
    }
   },
   "source": [
    "### What we already know\n",
    "- basic data types (ints, floats, strings)\n",
    "- Some functions and methods to manipulate these data types (i.e. type(), len(), str.upper())\n",
    "- where to put our data\n",
    "    - one piece of data within a variable\n",
    "    - multiple pieces of data within a list\n",
    "- and how to manipulate and build these variables and lists\n",
    "- How to create, store, and use data in a dictionary"
   ]
  },
  {
   "cell_type": "markdown",
   "metadata": {
    "slideshow": {
     "slide_type": "slide"
    }
   },
   "source": [
    "### Learning Objectives\n",
    "\n",
    "- Write conditional statements including `if`, `elif`, and `else` branches\n",
    "- Correctly evaluate expressions containing `and` and `or`\n",
    "- Correctly write and interpret code containing nested conditionals\n",
    "- Learn how to make the computer repeat instructions with loops"
   ]
  },
  {
   "cell_type": "markdown",
   "metadata": {
    "slideshow": {
     "slide_type": "slide"
    }
   },
   "source": [
    "### All we are doing is making our Pydog decide whether or not to run some code\n",
    "- Based on whether or not something is **True**"
   ]
  },
  {
   "cell_type": "markdown",
   "metadata": {
    "slideshow": {
     "slide_type": "fragment"
    }
   },
   "source": [
    "### Food recipe example:\n",
    "- \"bake for twenty minutes, **if** the crust is golden brown, then remove from the oven, if not then bake another 5 minutes\""
   ]
  },
  {
   "cell_type": "markdown",
   "metadata": {
    "slideshow": {
     "slide_type": "slide"
    }
   },
   "source": [
    "### But don't we live in a post truth world?\n",
    "\n",
    "<center><img src=\"https://gitlab.unimelb.edu.au/rescom-training/python/introduction-to-python-for-researchers/-/raw/master/Imbedded%20Pics/spock.png\" alt=\"aus_slang\" style=\"width:auto;height:70vh\"></center>\n"
   ]
  },
  {
   "cell_type": "markdown",
   "metadata": {
    "slideshow": {
     "slide_type": "slide"
    }
   },
   "source": [
    "### Meet our newest data type: The Boolean\n",
    "- it can either be True or False\n",
    "- you can make Variables with Boolean Values\n",
    "- fill lists and dictionaries with boolean values"
   ]
  },
  {
   "cell_type": "code",
   "execution_count": null,
   "metadata": {
    "collapsed": true,
    "slideshow": {
     "slide_type": "fragment"
    }
   },
   "outputs": [],
   "source": [
    "print(True, ' is', type(True), \"so is\", False)"
   ]
  },
  {
   "cell_type": "markdown",
   "metadata": {
    "slideshow": {
     "slide_type": "slide"
    }
   },
   "source": [
    "### We can also \"calculate\" booleans using Spock's logic operators:\n",
    "\n",
    "- `<`, less than\n",
    "- `>`, greater than\n",
    "- `<=` less than or equal to\n",
    "- `>=` greater than or equal to\n",
    "- `==`, equals\n",
    "- `!=`, does not equal\n",
    "- `is`, `in` and `not`\n",
    "\n",
    "Let's try using these in our cells"
   ]
  },
  {
   "cell_type": "code",
   "execution_count": null,
   "metadata": {
    "collapsed": true,
    "slideshow": {
     "slide_type": "slide"
    }
   },
   "outputs": [],
   "source": [
    "# less/greater than\n",
    "3>5"
   ]
  },
  {
   "cell_type": "code",
   "execution_count": null,
   "metadata": {
    "collapsed": true,
    "scrolled": true,
    "slideshow": {
     "slide_type": "slide"
    }
   },
   "outputs": [],
   "source": [
    "#example\n",
    "test = True\n",
    "\n",
    "# Can test True/False in a few ways. Using ==, or is/not.\n",
    "print(test == True)\n",
    "print(test is True)\n",
    "print(test != True)\n",
    "print(test is not True)"
   ]
  },
  {
   "cell_type": "code",
   "execution_count": null,
   "metadata": {
    "collapsed": true,
    "slideshow": {
     "slide_type": "slide"
    }
   },
   "outputs": [],
   "source": [
    "# Can use in to test whether something exists in a data structure like a list\n",
    "odds = [1,3,5,7,['a','b',9]]\n",
    "\n"
   ]
  },
  {
   "cell_type": "code",
   "execution_count": null,
   "metadata": {
    "collapsed": true,
    "slideshow": {
     "slide_type": "fragment"
    }
   },
   "outputs": [],
   "source": [
    "#we can use 'in' and 'not in; to check whether a value is in a list\n",
    "print(1 in odds)\n",
    "print('a' in odds)  # will it look in the list within a list?"
   ]
  },
  {
   "cell_type": "code",
   "execution_count": null,
   "metadata": {
    "collapsed": true,
    "slideshow": {
     "slide_type": "fragment"
    }
   },
   "outputs": [],
   "source": [
    "## Or not in a list\n",
    "\n",
    "'a' not in odds[-1]"
   ]
  },
  {
   "cell_type": "code",
   "execution_count": null,
   "metadata": {
    "collapsed": true,
    "slideshow": {
     "slide_type": "fragment"
    }
   },
   "outputs": [],
   "source": [
    "# it works on a list, will it work on a string?\n",
    "\n",
    "'tm' not in 'team'"
   ]
  },
  {
   "cell_type": "markdown",
   "metadata": {
    "slideshow": {
     "slide_type": "slide"
    }
   },
   "source": [
    "### Checking if a Dictionary Key Exists\n",
    "\n",
    "As with a list, sometimes you need to check whether or not something exists within your dictionary. This could be so that you don't accidentally over-write it, or more commonly, to avoid being thrown an error if you try to access a key that doesn't exist"
   ]
  },
  {
   "cell_type": "code",
   "execution_count": null,
   "metadata": {
    "collapsed": true,
    "slideshow": {
     "slide_type": "slide"
    }
   },
   "outputs": [],
   "source": [
    "#creating an empty dictionary\n",
    "temp_dict = {}\n",
    "\n",
    "# Trying to access a non-existent key\n",
    "temp_dict[\"temp\"]"
   ]
  },
  {
   "cell_type": "code",
   "execution_count": null,
   "metadata": {
    "collapsed": true,
    "slideshow": {
     "slide_type": "fragment"
    }
   },
   "outputs": [],
   "source": [
    "# Looking at the keys\n",
    "'temp' not in temp_dict"
   ]
  },
  {
   "cell_type": "code",
   "execution_count": null,
   "metadata": {
    "collapsed": true,
    "slideshow": {
     "slide_type": "fragment"
    }
   },
   "outputs": [],
   "source": [
    "temp_dict['temp'] = 'something'\n",
    "'temp' in temp_dict"
   ]
  },
  {
   "cell_type": "markdown",
   "metadata": {
    "slideshow": {
     "slide_type": "slide"
    }
   },
   "source": [
    "### Minichallenge: Let's practice Logic\n",
    "In this exercise will will create some simple logical expressions:\n",
    "\n",
    "- Is there an i in team?\n",
    "- is ```15*(30/17)+80``` greater than ```13*(33/14.5)+115```?\n",
    "- is ```15*(30/17)+80``` divisible by 7? *hint: use modulo (%)!*"
   ]
  },
  {
   "cell_type": "code",
   "execution_count": null,
   "metadata": {
    "collapsed": true,
    "slideshow": {
     "slide_type": "fragment"
    }
   },
   "outputs": [],
   "source": []
  },
  {
   "cell_type": "code",
   "execution_count": null,
   "metadata": {
    "collapsed": true,
    "slideshow": {
     "slide_type": "fragment"
    }
   },
   "outputs": [],
   "source": []
  },
  {
   "cell_type": "code",
   "execution_count": null,
   "metadata": {
    "collapsed": true,
    "slideshow": {
     "slide_type": "fragment"
    }
   },
   "outputs": [],
   "source": []
  },
  {
   "cell_type": "markdown",
   "metadata": {
    "slideshow": {
     "slide_type": "skip"
    }
   },
   "source": [
    "Now that we've got some basics behind booleans, lets use them to guide our Pydog"
   ]
  },
  {
   "cell_type": "markdown",
   "metadata": {
    "slideshow": {
     "slide_type": "slide"
    }
   },
   "source": [
    "### But what can we do with the truth?\n",
    "\n",
    "We can use logical expressions to make our Pydong decide ***IF*** if should run some code!"
   ]
  },
  {
   "cell_type": "markdown",
   "metadata": {
    "slideshow": {
     "slide_type": "slide"
    }
   },
   "source": [
    " ### Real life example using If statements to define your morning routine!!!\n",
    "\n",
    "- It's early morning. I wake up, and need to get ready for the day. \n",
    "- What decisions should I make? What should I check before I leave?"
   ]
  },
  {
   "cell_type": "markdown",
   "metadata": {
    "collapsed": true,
    "slideshow": {
     "slide_type": "slide"
    }
   },
   "source": [
    "### If statement in Plain Talk:\n",
    "\n",
    "If a condition is true, then do this action to this thing\n",
    "\n",
    "### Python Talk:\n",
    "\n",
    "```python\n",
    "if condition is True:\n",
    "\n",
    "    action(thing)\n",
    "```\n",
    "\n"
   ]
  },
  {
   "cell_type": "code",
   "execution_count": null,
   "metadata": {
    "collapsed": true,
    "slideshow": {
     "slide_type": "slide"
    }
   },
   "outputs": [],
   "source": [
    "summer = True \n",
    "\n",
    "if summer == False:\n",
    "    print(\"Turn on the heater\")\n",
    "\n",
    "print(\"Outside the if block\")"
   ]
  },
  {
   "cell_type": "markdown",
   "metadata": {
    "slideshow": {
     "slide_type": "slide"
    }
   },
   "source": [
    "### What if we want to do something if the if statement isn't satisfied?\n",
    "- if x isn't true then do something else etc...\n",
    "\n",
    "- This is where we use `else` statements - i.e. if your `if` condition isn't true, we perform the `else` action instead"
   ]
  },
  {
   "cell_type": "code",
   "execution_count": null,
   "metadata": {
    "collapsed": true,
    "slideshow": {
     "slide_type": "fragment"
    }
   },
   "outputs": [],
   "source": [
    "summer = False\n",
    "if summer == False:\n",
    "    print(\"Turn on the heater\")\n",
    "\n",
    "else:\n",
    "    print(\"Turn on the cooler\")\n",
    "\n",
    "print(\"Outside the if block\")"
   ]
  },
  {
   "cell_type": "code",
   "execution_count": null,
   "metadata": {
    "collapsed": true,
    "slideshow": {
     "slide_type": "slide"
    }
   },
   "outputs": [],
   "source": [
    "# and if it isn't summer"
   ]
  },
  {
   "cell_type": "code",
   "execution_count": null,
   "metadata": {
    "collapsed": true,
    "slideshow": {
     "slide_type": "skip"
    }
   },
   "outputs": [],
   "source": []
  },
  {
   "cell_type": "code",
   "execution_count": null,
   "metadata": {
    "collapsed": true,
    "slideshow": {
     "slide_type": "skip"
    }
   },
   "outputs": [],
   "source": []
  },
  {
   "cell_type": "markdown",
   "metadata": {
    "slideshow": {
     "slide_type": "slide"
    }
   },
   "source": [
    "### If there are more than 2 possibilities you want Pydog to consider, then use Elif\n",
    "- i.e. If y is true, do b, elif y is true and b is false, then do b, else just do the last thing!"
   ]
  },
  {
   "cell_type": "code",
   "execution_count": null,
   "metadata": {
    "collapsed": true,
    "slideshow": {
     "slide_type": "slide"
    }
   },
   "outputs": [],
   "source": [
    "season = \"Spring\"\n",
    "if season == \"Winter\":\n",
    "    print(\"Turn on the heater\")\n",
    "\n",
    "elif season is \"Spring\":\n",
    "    print(\"Just make the goddamn coffee already\")\n",
    "    \n",
    "else:\n",
    "    print(\"Turn on the cooler\")\n",
    "\n",
    "print(\"Outside the if block\")"
   ]
  },
  {
   "cell_type": "code",
   "execution_count": null,
   "metadata": {
    "collapsed": true,
    "slideshow": {
     "slide_type": "slide"
    }
   },
   "outputs": [],
   "source": [
    "# make season winter"
   ]
  },
  {
   "cell_type": "code",
   "execution_count": null,
   "metadata": {
    "collapsed": true,
    "slideshow": {
     "slide_type": "slide"
    }
   },
   "outputs": [],
   "source": [
    "# make season footy"
   ]
  },
  {
   "cell_type": "markdown",
   "metadata": {
    "slideshow": {
     "slide_type": "slide"
    }
   },
   "source": [
    "### Be careful how you structure these statements\n",
    "- your pydog will take the first if statement thats true and forget the rest"
   ]
  },
  {
   "cell_type": "code",
   "execution_count": null,
   "metadata": {
    "collapsed": true,
    "slideshow": {
     "slide_type": "fragment"
    }
   },
   "outputs": [],
   "source": [
    "# Where count is only ever 0 - 100\n",
    "count = 20\n",
    "\n",
    "if count < 50:\n",
    "    print(\"Less than 50\")\n",
    "elif count < 100:\n",
    "    print(\"Less than 100\")\n",
    "\n",
    "print(\"Outside the if block\")"
   ]
  },
  {
   "cell_type": "code",
   "execution_count": null,
   "metadata": {
    "collapsed": true,
    "slideshow": {
     "slide_type": "slide"
    }
   },
   "outputs": [],
   "source": [
    "#reverse the conditions"
   ]
  },
  {
   "cell_type": "markdown",
   "metadata": {
    "slideshow": {
     "slide_type": "slide"
    }
   },
   "source": [
    "### We can also place conditional statements within a conditional statement. This is known as nesting.\n",
    "- Every Indention is a new layer"
   ]
  },
  {
   "cell_type": "markdown",
   "metadata": {
    "collapsed": true,
    "slideshow": {
     "slide_type": "fragment"
    }
   },
   "source": [
    "``` python\n",
    "if condition1:\n",
    "    if condition2:\n",
    "        do thing\n",
    "```"
   ]
  },
  {
   "cell_type": "code",
   "execution_count": null,
   "metadata": {
    "collapsed": true,
    "slideshow": {
     "slide_type": "slide"
    }
   },
   "outputs": [],
   "source": [
    "count = 60\n",
    "\n",
    "if count < 50:\n",
    "    print(\"Less than 50\")\n",
    "    \n",
    "    if count < 100:\n",
    "        print(\"Less than 1000\")\n",
    "\n",
    "print(\"Outside the if block\")"
   ]
  },
  {
   "cell_type": "markdown",
   "metadata": {
    "slideshow": {
     "slide_type": "slide"
    }
   },
   "source": [
    "### Combining boolean operators\n",
    "- You can also combine multiple conditions in a single line using the `and` or `or` statements, like so:\n",
    "\n",
    "- We can also use & instead of `and`, and `|` instead of `or`"
   ]
  },
  {
   "cell_type": "code",
   "execution_count": null,
   "metadata": {
    "collapsed": true,
    "slideshow": {
     "slide_type": "slide"
    }
   },
   "outputs": [],
   "source": [
    "winter = True #this is a Boolean type. Booleans are True or False.\n",
    "coffee = None\n",
    "\n",
    "\n",
    "\n",
    "if (winter is True) ^ (coffee == None):\n",
    "    print (\"This is alright I guess\")\n",
    "\n",
    "elif (winter is True) & (coffee == None):\n",
    "    print (\"Kill everything\")\n"
   ]
  },
  {
   "cell_type": "code",
   "execution_count": null,
   "metadata": {
    "collapsed": true,
    "slideshow": {
     "slide_type": "skip"
    }
   },
   "outputs": [],
   "source": []
  },
  {
   "cell_type": "code",
   "execution_count": null,
   "metadata": {
    "collapsed": true,
    "slideshow": {
     "slide_type": "skip"
    }
   },
   "outputs": [],
   "source": []
  },
  {
   "cell_type": "markdown",
   "metadata": {
    "slideshow": {
     "slide_type": "slide"
    }
   },
   "source": [
    "#### Challenge 9\n",
    "\n",
    "Create an set of if statements that define your morning routine \"I.E. if it is cold, stay in bed and watch netflix\"\n",
    "Please use an elif statement and a next if statement to show me what you got!!!\n",
    "\n",
    "```python\n",
    "if I am cold:\n",
    "    print('Stay in bed and watch netflix')\n",
    "    if sad:\n",
    "        print('watch something sad on netflix')\n",
    "```\n"
   ]
  },
  {
   "cell_type": "code",
   "execution_count": null,
   "metadata": {
    "collapsed": true,
    "slideshow": {
     "slide_type": "slide"
    }
   },
   "outputs": [],
   "source": [
    "\n",
    "\n",
    "\n"
   ]
  },
  {
   "cell_type": "code",
   "execution_count": null,
   "metadata": {
    "collapsed": true,
    "slideshow": {
     "slide_type": "slide"
    }
   },
   "outputs": [],
   "source": []
  },
  {
   "cell_type": "code",
   "execution_count": null,
   "metadata": {
    "collapsed": true,
    "slideshow": {
     "slide_type": "slide"
    }
   },
   "outputs": [],
   "source": []
  },
  {
   "cell_type": "code",
   "execution_count": null,
   "metadata": {
    "collapsed": true,
    "slideshow": {
     "slide_type": "slide"
    }
   },
   "outputs": [],
   "source": []
  },
  {
   "cell_type": "code",
   "execution_count": null,
   "metadata": {
    "collapsed": true,
    "slideshow": {
     "slide_type": "slide"
    }
   },
   "outputs": [],
   "source": []
  },
  {
   "cell_type": "markdown",
   "metadata": {
    "collapsed": true,
    "slideshow": {
     "slide_type": "slide"
    }
   },
   "source": [
    "#### _Optional Challenge_ 9b\n",
    "\n",
    "The bosses of a particular company recently evaluated their staff's salaries, and found that many weren't falling in line with the industry standard. To fix this, they decided that:\n",
    "\n",
    "- all people earning below \\$45,000 would get a 10% raise\n",
    "- all people earning below \\$60,000 would get a 5% raise\n",
    "- all others would get a 2% raise\n",
    "\n",
    "\n",
    "Your challenge now is to write a series of if, elif and else statements to adjust the employee salaries.\n"
   ]
  },
  {
   "cell_type": "code",
   "execution_count": null,
   "metadata": {
    "collapsed": true,
    "slideshow": {
     "slide_type": "slide"
    }
   },
   "outputs": [],
   "source": [
    "from numpy import random\n",
    "\n",
    "#This will randomly generate a number between 42000 and 130000\n",
    "salary = random.randint(40000,130000)\n",
    "\n",
    "print(salary)\n"
   ]
  },
  {
   "cell_type": "code",
   "execution_count": null,
   "metadata": {
    "collapsed": true,
    "slideshow": {
     "slide_type": "slide"
    }
   },
   "outputs": [],
   "source": []
  },
  {
   "cell_type": "code",
   "execution_count": null,
   "metadata": {
    "collapsed": true,
    "slideshow": {
     "slide_type": "slide"
    }
   },
   "outputs": [],
   "source": [
    "\n",
    "\n"
   ]
  },
  {
   "cell_type": "code",
   "execution_count": null,
   "metadata": {
    "collapsed": true,
    "slideshow": {
     "slide_type": "slide"
    }
   },
   "outputs": [],
   "source": []
  },
  {
   "cell_type": "markdown",
   "metadata": {
    "slideshow": {
     "slide_type": "slide"
    }
   },
   "source": [
    "However they realised that after the adjustments, some people weren’t being paid appropriately. Someone who previously earned 61,000 dollars would only get a 2% raise to 62220, while someone who was earning 60,000 would get a 5% raise to 63000. \n",
    "\n",
    "To adjust for this, everyone with a salary between (inclusive):\n",
    "- 60,000 and 62,000 will have their salary adjusted to 63,000\n",
    "- 45,000 and 48,000 will have their wage adjusted to 50,000.\n",
    "\n",
    "Edit your previous code to take these new adjustments into account"
   ]
  },
  {
   "cell_type": "code",
   "execution_count": null,
   "metadata": {
    "collapsed": true,
    "slideshow": {
     "slide_type": "slide"
    }
   },
   "outputs": [],
   "source": []
  },
  {
   "cell_type": "code",
   "execution_count": null,
   "metadata": {
    "collapsed": true,
    "slideshow": {
     "slide_type": "skip"
    }
   },
   "outputs": [],
   "source": []
  }
 ],
 "metadata": {
  "kernelspec": {
   "display_name": "Python 3",
   "language": "python",
   "name": "python3"
  },
  "language_info": {
   "codemirror_mode": {
    "name": "ipython",
    "version": 3
   },
   "file_extension": ".py",
   "mimetype": "text/x-python",
   "name": "python",
   "nbconvert_exporter": "python",
   "pygments_lexer": "ipython3",
   "version": "3.8.2"
  },
  "toc": {
   "base_numbering": 1,
   "nav_menu": {
    "height": "246px",
    "width": "252px"
   },
   "number_sections": false,
   "sideBar": false,
   "skip_h1_title": false,
   "title_cell": "Table of Contents",
   "title_sidebar": "Contents",
   "toc_cell": false,
   "toc_position": {
    "height": "40px",
    "left": "780px",
    "right": "20px",
    "top": "72px",
    "width": "312px"
   },
   "toc_section_display": false,
   "toc_window_display": true
  },
  "varInspector": {
   "cols": {
    "lenName": 16,
    "lenType": 16,
    "lenVar": 40
   },
   "kernels_config": {
    "python": {
     "delete_cmd_postfix": "",
     "delete_cmd_prefix": "del ",
     "library": "var_list.py",
     "varRefreshCmd": "print(var_dic_list())"
    },
    "r": {
     "delete_cmd_postfix": ") ",
     "delete_cmd_prefix": "rm(",
     "library": "var_list.r",
     "varRefreshCmd": "cat(var_dic_list()) "
    }
   },
   "types_to_exclude": [
    "module",
    "function",
    "builtin_function_or_method",
    "instance",
    "_Feature"
   ],
   "window_display": false
  }
 },
 "nbformat": 4,
 "nbformat_minor": 2
}
