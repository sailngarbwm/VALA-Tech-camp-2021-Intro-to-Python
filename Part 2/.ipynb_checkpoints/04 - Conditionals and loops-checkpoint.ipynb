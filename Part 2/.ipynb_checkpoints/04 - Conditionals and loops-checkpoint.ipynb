{
 "cells": [
  {
   "cell_type": "markdown",
   "metadata": {
    "slideshow": {
     "slide_type": "slide"
    }
   },
   "source": [
    "## Conditionals and loops"
   ]
  },
  {
   "cell_type": "markdown",
   "metadata": {
    "slideshow": {
     "slide_type": "fragment"
    }
   },
   "source": [
    "### What we already know\n",
    "- basic data types (ints, floats, strings)\n",
    "- Some functions and methods to manipulate these data types (i.e. type(), len(), str.upper())\n",
    "- where to put our data\n",
    "    - one piece of data within a variable\n",
    "    - multiple pieces of data within a list\n",
    "- and how to manipulate and build these variables and lists\n",
    "- How to create, store, and use data in a dictionary"
   ]
  },
  {
   "cell_type": "markdown",
   "metadata": {
    "slideshow": {
     "slide_type": "slide"
    }
   },
   "source": [
    "### Learning Objectives\n",
    "\n",
    "- Write conditional statements including `if`, `elif`, and `else` branches\n",
    "- Correctly evaluate expressions containing `and` and `or`\n",
    "- Correctly write and interpret code containing nested conditionals\n",
    "- Learn how to make the computer repeat instructions with loops"
   ]
  },
  {
   "cell_type": "markdown",
   "metadata": {
    "slideshow": {
     "slide_type": "slide"
    }
   },
   "source": [
    "### All we are doing is making our Pydog decide whether or not to run some code\n",
    "- Based on whether or not something is **True**"
   ]
  },
  {
   "cell_type": "markdown",
   "metadata": {
    "slideshow": {
     "slide_type": "fragment"
    }
   },
   "source": [
    "### Food recipe example:\n",
    "- \"bake for twenty minutes, **if** the crust is golden brown, then remove from the oven, if not then bake another 5 minutes\""
   ]
  },
  {
   "cell_type": "markdown",
   "metadata": {
    "slideshow": {
     "slide_type": "slide"
    }
   },
   "source": [
    "### But don't we live in a post truth world?\n",
    "\n",
    "<center><img src=\"Imbedded Pics/spock.png\" alt=\"aus_slang\" style=\"width:auto;height:70vh\"></center>\n"
   ]
  },
  {
   "cell_type": "markdown",
   "metadata": {
    "slideshow": {
     "slide_type": "slide"
    }
   },
   "source": [
    "### Meet our newest data type: The Boolean\n",
    "- it can either be True or False\n",
    "- you can make Variables with Boolean Values\n",
    "- fill lists and dictionaries with boolean values"
   ]
  },
  {
   "cell_type": "code",
   "execution_count": null,
   "metadata": {
    "collapsed": true,
    "slideshow": {
     "slide_type": "fragment"
    }
   },
   "outputs": [],
   "source": [
    "print(True, ' is', type(True), \"so is\", False)"
   ]
  },
  {
   "cell_type": "markdown",
   "metadata": {
    "slideshow": {
     "slide_type": "slide"
    }
   },
   "source": [
    "### We can also \"calculate\" booleans using Spock's logic operators:\n",
    "\n",
    "- `<`, less than\n",
    "- `>`, greater than\n",
    "- `<=` less than or equal to\n",
    "- `>=` greater than or equal to\n",
    "- `==`, equals\n",
    "- `!=`, does not equal\n",
    "- `is`, `in` and `not`\n",
    "\n",
    "Let's try using these in our cells"
   ]
  },
  {
   "cell_type": "code",
   "execution_count": null,
   "metadata": {
    "collapsed": true,
    "slideshow": {
     "slide_type": "slide"
    }
   },
   "outputs": [],
   "source": [
    "# less/greater than\n",
    "3>5"
   ]
  },
  {
   "cell_type": "code",
   "execution_count": null,
   "metadata": {
    "collapsed": true,
    "scrolled": true,
    "slideshow": {
     "slide_type": "slide"
    }
   },
   "outputs": [],
   "source": [
    "#example\n",
    "test = True\n",
    "\n",
    "# Can test True/False in a few ways. Using ==, or is/not.\n",
    "print(test == True)\n",
    "print(test is True)\n",
    "print(test != True)\n",
    "print(test is not True)"
   ]
  },
  {
   "cell_type": "code",
   "execution_count": null,
   "metadata": {
    "collapsed": true,
    "slideshow": {
     "slide_type": "slide"
    }
   },
   "outputs": [],
   "source": [
    "# Can use in to test whether something exists in a data structure like a list\n",
    "odds = [1,3,5,7,['a','b',9]]\n",
    "\n"
   ]
  },
  {
   "cell_type": "code",
   "execution_count": null,
   "metadata": {
    "collapsed": true,
    "slideshow": {
     "slide_type": "fragment"
    }
   },
   "outputs": [],
   "source": [
    "#we can use 'in' and 'not in; to check whether a value is in a list\n",
    "print(1 in odds)\n",
    "print('a' in odds)  # will it look in the list within a list?"
   ]
  },
  {
   "cell_type": "code",
   "execution_count": null,
   "metadata": {
    "collapsed": true,
    "slideshow": {
     "slide_type": "fragment"
    }
   },
   "outputs": [],
   "source": [
    "## Or not in a list\n",
    "\n",
    "'a' not in odds[-1]"
   ]
  },
  {
   "cell_type": "code",
   "execution_count": null,
   "metadata": {
    "collapsed": true,
    "slideshow": {
     "slide_type": "fragment"
    }
   },
   "outputs": [],
   "source": [
    "# it works on a list, will it work on a string?\n",
    "\n",
    "'tm' not in 'team'"
   ]
  },
  {
   "cell_type": "markdown",
   "metadata": {
    "slideshow": {
     "slide_type": "slide"
    }
   },
   "source": [
    "### Checking if a Dictionary Key Exists\n",
    "\n",
    "As with a list, sometimes you need to check whether or not something exists within your dictionary. This could be so that you don't accidentally over-write it, or more commonly, to avoid being thrown an error if you try to access a key that doesn't exist"
   ]
  },
  {
   "cell_type": "code",
   "execution_count": null,
   "metadata": {
    "collapsed": true,
    "slideshow": {
     "slide_type": "slide"
    }
   },
   "outputs": [],
   "source": [
    "#creating an empty dictionary\n",
    "temp_dict = {}\n",
    "\n",
    "# Trying to access a non-existent key\n",
    "temp_dict[\"temp\"]"
   ]
  },
  {
   "cell_type": "code",
   "execution_count": null,
   "metadata": {
    "collapsed": true,
    "slideshow": {
     "slide_type": "fragment"
    }
   },
   "outputs": [],
   "source": [
    "# Looking at the keys\n",
    "'temp' not in temp_dict"
   ]
  },
  {
   "cell_type": "code",
   "execution_count": null,
   "metadata": {
    "collapsed": true,
    "slideshow": {
     "slide_type": "fragment"
    }
   },
   "outputs": [],
   "source": [
    "temp_dict['temp'] = 'something'\n",
    "'temp' in temp_dict"
   ]
  },
  {
   "cell_type": "markdown",
   "metadata": {
    "slideshow": {
     "slide_type": "slide"
    }
   },
   "source": [
    "### Minichallenge: Let's practice Logic\n",
    "In this exercise will will create some simple logical expressions:\n",
    "\n",
    "- Is there an i in team?\n",
    "- is ```15*(30/17)+80``` greater than ```13*(33/14.5)+115```?\n",
    "- is ```15*(30/17)+80``` divisible by 7? *hint: use modulo (%)!*"
   ]
  },
  {
   "cell_type": "code",
   "execution_count": null,
   "metadata": {
    "collapsed": true,
    "slideshow": {
     "slide_type": "fragment"
    }
   },
   "outputs": [],
   "source": []
  },
  {
   "cell_type": "code",
   "execution_count": null,
   "metadata": {
    "collapsed": true,
    "slideshow": {
     "slide_type": "fragment"
    }
   },
   "outputs": [],
   "source": []
  },
  {
   "cell_type": "code",
   "execution_count": null,
   "metadata": {
    "collapsed": true,
    "slideshow": {
     "slide_type": "fragment"
    }
   },
   "outputs": [],
   "source": []
  },
  {
   "cell_type": "markdown",
   "metadata": {
    "slideshow": {
     "slide_type": "skip"
    }
   },
   "source": [
    "Now that we've got some basics behind booleans, lets use them to guide our Pydog"
   ]
  },
  {
   "cell_type": "markdown",
   "metadata": {
    "slideshow": {
     "slide_type": "slide"
    }
   },
   "source": [
    "### But what can we do with the truth?\n",
    "\n",
    "We can use logical expressions to make our Pydong decide ***IF*** if should run some code!"
   ]
  },
  {
   "cell_type": "markdown",
   "metadata": {
    "slideshow": {
     "slide_type": "slide"
    }
   },
   "source": [
    " ### Real life example using If statements to define your morning routine!!!\n",
    "\n",
    "- It's early morning. I wake up, and need to get ready for the day. \n",
    "- What decisions should I make? What should I check before I leave?"
   ]
  },
  {
   "cell_type": "markdown",
   "metadata": {
    "collapsed": true,
    "slideshow": {
     "slide_type": "slide"
    }
   },
   "source": [
    "### If statement in Plain Talk:\n",
    "\n",
    "If a condition is true, then do this action to this thing\n",
    "\n",
    "### Python Talk:\n",
    "\n",
    "```python\n",
    "if condition is True:\n",
    "\n",
    "    action(thing)\n",
    "```\n",
    "\n"
   ]
  },
  {
   "cell_type": "code",
   "execution_count": null,
   "metadata": {
    "collapsed": true,
    "slideshow": {
     "slide_type": "slide"
    }
   },
   "outputs": [],
   "source": [
    "summer = True \n",
    "\n",
    "if summer == False:\n",
    "    print(\"Turn on the heater\")\n",
    "\n",
    "print(\"Outside the if block\")"
   ]
  },
  {
   "cell_type": "markdown",
   "metadata": {
    "slideshow": {
     "slide_type": "slide"
    }
   },
   "source": [
    "### What if we want to do something if the if statement isn't satisfied?\n",
    "- if x isn't true then do something else etc...\n",
    "\n",
    "- This is where we use `else` statements - i.e. if your `if` condition isn't true, we perform the `else` action instead"
   ]
  },
  {
   "cell_type": "code",
   "execution_count": null,
   "metadata": {
    "collapsed": true,
    "slideshow": {
     "slide_type": "fragment"
    }
   },
   "outputs": [],
   "source": [
    "summer = False\n",
    "if summer == False:\n",
    "    print(\"Turn on the heater\")\n",
    "\n",
    "else:\n",
    "    print(\"Turn on the cooler\")\n",
    "\n",
    "print(\"Outside the if block\")"
   ]
  },
  {
   "cell_type": "code",
   "execution_count": null,
   "metadata": {
    "collapsed": true,
    "slideshow": {
     "slide_type": "slide"
    }
   },
   "outputs": [],
   "source": [
    "# and if it isn't summer"
   ]
  },
  {
   "cell_type": "code",
   "execution_count": null,
   "metadata": {
    "collapsed": true,
    "slideshow": {
     "slide_type": "skip"
    }
   },
   "outputs": [],
   "source": []
  },
  {
   "cell_type": "code",
   "execution_count": null,
   "metadata": {
    "collapsed": true,
    "slideshow": {
     "slide_type": "skip"
    }
   },
   "outputs": [],
   "source": []
  },
  {
   "cell_type": "markdown",
   "metadata": {
    "slideshow": {
     "slide_type": "slide"
    }
   },
   "source": [
    "### If there are more than 2 possibilities you want Pydog to consider, then use Elif\n",
    "- i.e. If y is true, do b, elif y is true and b is false, then do b, else just do the last thing!"
   ]
  },
  {
   "cell_type": "code",
   "execution_count": null,
   "metadata": {
    "collapsed": true,
    "slideshow": {
     "slide_type": "slide"
    }
   },
   "outputs": [],
   "source": [
    "season = \"Spring\"\n",
    "if season == \"Winter\":\n",
    "    print(\"Turn on the heater\")\n",
    "\n",
    "elif season is \"Spring\":\n",
    "    print(\"Just make the goddamn coffee already\")\n",
    "    \n",
    "else:\n",
    "    print(\"Turn on the cooler\")\n",
    "\n",
    "print(\"Outside the if block\")"
   ]
  },
  {
   "cell_type": "code",
   "execution_count": null,
   "metadata": {
    "collapsed": true,
    "slideshow": {
     "slide_type": "slide"
    }
   },
   "outputs": [],
   "source": [
    "# make season winter"
   ]
  },
  {
   "cell_type": "code",
   "execution_count": null,
   "metadata": {
    "collapsed": true,
    "slideshow": {
     "slide_type": "slide"
    }
   },
   "outputs": [],
   "source": [
    "# make season footy"
   ]
  },
  {
   "cell_type": "markdown",
   "metadata": {
    "slideshow": {
     "slide_type": "slide"
    }
   },
   "source": [
    "### Be careful how you structure these statements\n",
    "- your pydog will take the first if statement thats true and forget the rest"
   ]
  },
  {
   "cell_type": "code",
   "execution_count": null,
   "metadata": {
    "collapsed": true,
    "slideshow": {
     "slide_type": "fragment"
    }
   },
   "outputs": [],
   "source": [
    "# Where count is only ever 0 - 100\n",
    "count = 20\n",
    "\n",
    "if count < 50:\n",
    "    print(\"Less than 50\")\n",
    "elif count < 100:\n",
    "    print(\"Less than 100\")\n",
    "\n",
    "print(\"Outside the if block\")"
   ]
  },
  {
   "cell_type": "code",
   "execution_count": null,
   "metadata": {
    "collapsed": true,
    "slideshow": {
     "slide_type": "slide"
    }
   },
   "outputs": [],
   "source": [
    "#reverse the conditions"
   ]
  },
  {
   "cell_type": "markdown",
   "metadata": {
    "slideshow": {
     "slide_type": "slide"
    }
   },
   "source": [
    "### We can also place conditional statements within a conditional statement. This is known as nesting.\n",
    "- Every Indention is a new layer"
   ]
  },
  {
   "cell_type": "markdown",
   "metadata": {
    "collapsed": true,
    "slideshow": {
     "slide_type": "fragment"
    }
   },
   "source": [
    "``` python\n",
    "if condition1:\n",
    "    if condition2:\n",
    "        do thing\n",
    "```"
   ]
  },
  {
   "cell_type": "code",
   "execution_count": null,
   "metadata": {
    "collapsed": true,
    "slideshow": {
     "slide_type": "slide"
    }
   },
   "outputs": [],
   "source": [
    "count = 60\n",
    "\n",
    "if count < 50:\n",
    "    print(\"Less than 50\")\n",
    "    \n",
    "    if count < 100:\n",
    "        print(\"Less than 1000\")\n",
    "\n",
    "print(\"Outside the if block\")"
   ]
  },
  {
   "cell_type": "markdown",
   "metadata": {
    "slideshow": {
     "slide_type": "slide"
    }
   },
   "source": [
    "### Combining boolean operators\n",
    "- You can also combine multiple conditions in a single line using the `and` or `or` statements, like so:\n",
    "\n",
    "- We can also use & instead of `and`, and `|` instead of `or`"
   ]
  },
  {
   "cell_type": "code",
   "execution_count": null,
   "metadata": {
    "collapsed": true,
    "slideshow": {
     "slide_type": "slide"
    }
   },
   "outputs": [],
   "source": [
    "winter = True #this is a Boolean type. Booleans are True or False.\n",
    "coffee = None\n",
    "\n",
    "\n",
    "\n",
    "if (winter is True) ^ (coffee == None):\n",
    "    print (\"This is alright I guess\")\n",
    "\n",
    "elif (winter is True) & (coffee == None):\n",
    "    print (\"Kill everything\")\n"
   ]
  },
  {
   "cell_type": "code",
   "execution_count": null,
   "metadata": {
    "collapsed": true,
    "slideshow": {
     "slide_type": "skip"
    }
   },
   "outputs": [],
   "source": []
  },
  {
   "cell_type": "code",
   "execution_count": null,
   "metadata": {
    "collapsed": true,
    "slideshow": {
     "slide_type": "skip"
    }
   },
   "outputs": [],
   "source": []
  },
  {
   "cell_type": "markdown",
   "metadata": {
    "slideshow": {
     "slide_type": "slide"
    }
   },
   "source": [
    "#### Challenge 9\n",
    "\n",
    "Create an set of if statements that define your morning routine \"I.E. if it is cold, stay in bed and watch netflix\"\n",
    "Please use an elif statement and a next if statement to show me what you got!!!\n",
    "\n",
    "```python\n",
    "if I am cold:\n",
    "    print('Stay in bed and watch netflix')\n",
    "    if sad:\n",
    "        print('watch something sad on netflix')\n",
    "```\n"
   ]
  },
  {
   "cell_type": "code",
   "execution_count": null,
   "metadata": {
    "collapsed": true,
    "slideshow": {
     "slide_type": "slide"
    }
   },
   "outputs": [],
   "source": [
    "\n",
    "\n",
    "\n"
   ]
  },
  {
   "cell_type": "code",
   "execution_count": null,
   "metadata": {
    "collapsed": true,
    "slideshow": {
     "slide_type": "slide"
    }
   },
   "outputs": [],
   "source": []
  },
  {
   "cell_type": "code",
   "execution_count": null,
   "metadata": {
    "collapsed": true,
    "slideshow": {
     "slide_type": "slide"
    }
   },
   "outputs": [],
   "source": []
  },
  {
   "cell_type": "code",
   "execution_count": null,
   "metadata": {
    "collapsed": true,
    "slideshow": {
     "slide_type": "slide"
    }
   },
   "outputs": [],
   "source": []
  },
  {
   "cell_type": "code",
   "execution_count": null,
   "metadata": {
    "collapsed": true,
    "slideshow": {
     "slide_type": "slide"
    }
   },
   "outputs": [],
   "source": []
  },
  {
   "cell_type": "markdown",
   "metadata": {
    "collapsed": true,
    "slideshow": {
     "slide_type": "slide"
    }
   },
   "source": [
    "#### _Optional Challenge_ 9b\n",
    "\n",
    "The bosses of a particular company recently evaluated their staff's salaries, and found that many weren't falling in line with the industry standard. To fix this, they decided that:\n",
    "\n",
    "- all people earning below \\$45,000 would get a 10% raise\n",
    "- all people earning below \\$60,000 would get a 5% raise\n",
    "- all others would get a 2% raise\n",
    "\n",
    "\n",
    "Your challenge now is to write a series of if, elif and else statements to adjust the employee salaries.\n"
   ]
  },
  {
   "cell_type": "code",
   "execution_count": null,
   "metadata": {
    "collapsed": true,
    "slideshow": {
     "slide_type": "slide"
    }
   },
   "outputs": [],
   "source": [
    "from numpy import random\n",
    "\n",
    "#This will randomly generate a number between 42000 and 130000\n",
    "salary = random.randint(40000,130000)\n",
    "\n",
    "print(salary)\n"
   ]
  },
  {
   "cell_type": "code",
   "execution_count": null,
   "metadata": {
    "collapsed": true,
    "slideshow": {
     "slide_type": "slide"
    }
   },
   "outputs": [],
   "source": []
  },
  {
   "cell_type": "code",
   "execution_count": null,
   "metadata": {
    "collapsed": true,
    "slideshow": {
     "slide_type": "slide"
    }
   },
   "outputs": [],
   "source": [
    "\n",
    "\n"
   ]
  },
  {
   "cell_type": "code",
   "execution_count": null,
   "metadata": {
    "collapsed": true,
    "slideshow": {
     "slide_type": "slide"
    }
   },
   "outputs": [],
   "source": []
  },
  {
   "cell_type": "markdown",
   "metadata": {
    "slideshow": {
     "slide_type": "slide"
    }
   },
   "source": [
    "However they realised that after the adjustments, some people weren’t being paid appropriately. Someone who previously earned \\$61,000 dollars would only get a 2% raise to \\$62220, while someone who was earning \\$60,000 would get a 5% raise to \\$63000. \n",
    "\n",
    "To adjust for this, everyone with a salary between (inclusive):\n",
    "- \\$60,000 and \\$62,000 will have their salary adjusted to \\$63,000\n",
    "- \\$45,000 and \\$48,000 will have their wage adjusted to \\$50,000.\n",
    "\n",
    "Edit your previous code to take these new adjustments into account"
   ]
  },
  {
   "cell_type": "code",
   "execution_count": null,
   "metadata": {
    "collapsed": true,
    "slideshow": {
     "slide_type": "slide"
    }
   },
   "outputs": [],
   "source": []
  },
  {
   "cell_type": "code",
   "execution_count": null,
   "metadata": {
    "collapsed": true,
    "slideshow": {
     "slide_type": "skip"
    }
   },
   "outputs": [],
   "source": []
  },
  {
   "cell_type": "markdown",
   "metadata": {
    "slideshow": {
     "slide_type": "slide"
    }
   },
   "source": [
    "# For Loops: So you don't have to write the same line twice!!\n",
    "\n",
    "- Explain what a for loop does.\n",
    "- Correctly write for loops to repeat simple calculations.\n",
    "- Trace changes to a loop variable as the loop runs.\n",
    "- Trace changes to other variables as they are updated by a for loop.\n",
    "\n",
    "\n"
   ]
  },
  {
   "cell_type": "markdown",
   "metadata": {
    "slideshow": {
     "slide_type": "slide"
    }
   },
   "source": [
    "### Suppose we want to print each character in the word \"lead\" on a line of its own. \n",
    "- One way is to use four print statements:"
   ]
  },
  {
   "cell_type": "code",
   "execution_count": null,
   "metadata": {
    "collapsed": true,
    "slideshow": {
     "slide_type": "fragment"
    }
   },
   "outputs": [],
   "source": [
    "element = \"lead\"\n",
    "print(element[0])\n",
    "print(element[1])\n",
    "print(element[2])\n",
    "print(element[3])"
   ]
  },
  {
   "cell_type": "markdown",
   "metadata": {
    "slideshow": {
     "slide_type": "slide"
    }
   },
   "source": [
    "### Would you want to do that for a paragraph? or the entire text of \"War and Peace?\""
   ]
  },
  {
   "cell_type": "markdown",
   "metadata": {
    "slideshow": {
     "slide_type": "skip"
    }
   },
   "source": [
    "But that's a bad approach. Firstly, you're doing a lot more typing than you need to, and it doesn't scale well. If you wanted to print every single letter in a sentence, or paragraph, you'd spend more time programming it than if you had just copied it out yourself. \n",
    "\n",
    "Secondly, if you were trying to automate something - so that it does something without you needing to be there every step of the way - this approach wouldn't work at all. Not every string, or list, or dictionary, is going to be the exact same size. You would need to program a new code every time you got new data."
   ]
  },
  {
   "cell_type": "markdown",
   "metadata": {
    "slideshow": {
     "slide_type": "slide"
    }
   },
   "source": [
    "### Hack that task with the For loop, the Boomerang of our \"Py\"nstagram!\n",
    "- Instead, we can use `for` loops. This lets us ***iterate*** over your strings and other data structures.\n",
    "- All we are doing is telling Python to repeat some Instructions of code a specific number of times"
   ]
  },
  {
   "cell_type": "markdown",
   "metadata": {},
   "source": [
    "### Loops are great for automating the boring stuff, but can get a first time programmer turned around. \n",
    "#### so check out this youtube video where we give a live action demonstration of a loop happening in the python kitchen!\n",
    "\n",
    "https://youtu.be/-NM7jO_QXa0"
   ]
  },
  {
   "cell_type": "markdown",
   "metadata": {
    "slideshow": {
     "slide_type": "slide"
    }
   },
   "source": [
    "### Plain English Please:\n",
    "for each variable in a collection, perform an action on that variable\n",
    "\n",
    "### Python Structure:\n",
    "\n",
    "The general structure of a `for` loop looks like this\n",
    "\n",
    "```python\n",
    "for variable in collection:\n",
    "    action(variable)\n",
    "```"
   ]
  },
  {
   "cell_type": "code",
   "execution_count": null,
   "metadata": {
    "collapsed": true,
    "slideshow": {
     "slide_type": "slide"
    }
   },
   "outputs": [],
   "source": [
    "# and with strings! Any kind of \"iterable\" data type\n",
    "\n",
    "element = 'lead'\n",
    "\n",
    "for l in element:\n",
    "    print(l)"
   ]
  },
  {
   "cell_type": "code",
   "execution_count": null,
   "metadata": {
    "collapsed": true,
    "scrolled": true,
    "slideshow": {
     "slide_type": "slide"
    }
   },
   "outputs": [],
   "source": [
    "# We can do this with both lists\n",
    "p_list = [1,3,'This']\n",
    "\n",
    "for p in p_list:\n",
    "    print(p)"
   ]
  },
  {
   "cell_type": "markdown",
   "metadata": {
    "slideshow": {
     "slide_type": "fragment"
    }
   },
   "source": [
    "**Note** the l, and p variables we created above in the loop, still exist at the end of the loop ***Be Careful about this***"
   ]
  },
  {
   "cell_type": "code",
   "execution_count": null,
   "metadata": {
    "collapsed": true,
    "slideshow": {
     "slide_type": "slide"
    }
   },
   "outputs": [],
   "source": [
    "name = \"Jon\"\n",
    "print(name)\n",
    "\n",
    "# This is going to re-write \"name\"\n",
    "for name in 'abc':\n",
    "    print(name)\n",
    "\n",
    "print('after the loop, name is', name)"
   ]
  },
  {
   "cell_type": "markdown",
   "metadata": {
    "slideshow": {
     "slide_type": "slide"
    }
   },
   "source": [
    "### Combining loops and conditionals\n",
    "- Chuck an ```if``` statement into a ```for``` loop\n",
    "- It is just like nesting if statements"
   ]
  },
  {
   "cell_type": "code",
   "execution_count": null,
   "metadata": {
    "collapsed": true,
    "slideshow": {
     "slide_type": "fragment"
    }
   },
   "outputs": [],
   "source": [
    "# We can do this with both lists\n",
    "p_list = [1,3,'This']\n",
    "\n",
    "for p in p_list:\n",
    "    if type(p) is str: #notice that we used our str function without Parentheses to compare types!\n",
    "        print('its a string with length', len(p))\n",
    "    else:\n",
    "        print('not a string', p)\n",
    "print('done with loop!')\n",
    "p"
   ]
  },
  {
   "cell_type": "markdown",
   "metadata": {
    "slideshow": {
     "slide_type": "slide"
    }
   },
   "source": [
    "#### Challenge 10\n",
    "\n",
    "Iterate through a given list of numbers. Add **odd** numbers to another list, called odd. Add **even** numbers to another list called even. Then, sort and print out both odd and even lists.\n",
    "\n",
    "Hint: remember modulo, %?, remember our list methods for adding items?"
   ]
  },
  {
   "cell_type": "code",
   "execution_count": null,
   "metadata": {
    "collapsed": true,
    "slideshow": {
     "slide_type": "fragment"
    }
   },
   "outputs": [],
   "source": [
    "numberList = [1,4,3,6,5,9,8,2,7,10]\n"
   ]
  },
  {
   "cell_type": "code",
   "execution_count": null,
   "metadata": {
    "collapsed": true,
    "slideshow": {
     "slide_type": "slide"
    }
   },
   "outputs": [],
   "source": [
    "\n"
   ]
  },
  {
   "cell_type": "code",
   "execution_count": null,
   "metadata": {
    "collapsed": true,
    "slideshow": {
     "slide_type": "slide"
    }
   },
   "outputs": [],
   "source": [
    "\n"
   ]
  },
  {
   "cell_type": "markdown",
   "metadata": {
    "collapsed": true,
    "slideshow": {
     "slide_type": "slide"
    }
   },
   "source": [
    "#### _Optional Challenge_ 10b\n",
    "\n",
    "Given the list, veg = ['onion', 'potato', 'ginger', 'cucumber'], iterate over the list, but ONLY print out the first letter in the string, unless the string is potato, then print out the whole thing"
   ]
  },
  {
   "cell_type": "code",
   "execution_count": null,
   "metadata": {
    "collapsed": true,
    "slideshow": {
     "slide_type": "slide"
    }
   },
   "outputs": [],
   "source": [
    "veg = ['onion', 'potato', 'ginger', 'cucumber']"
   ]
  },
  {
   "cell_type": "code",
   "execution_count": null,
   "metadata": {
    "collapsed": true,
    "slideshow": {
     "slide_type": "slide"
    }
   },
   "outputs": [],
   "source": []
  },
  {
   "cell_type": "code",
   "execution_count": null,
   "metadata": {
    "collapsed": true,
    "slideshow": {
     "slide_type": "slide"
    }
   },
   "outputs": [],
   "source": []
  },
  {
   "cell_type": "markdown",
   "metadata": {
    "collapsed": true,
    "slideshow": {
     "slide_type": "slide"
    }
   },
   "source": [
    "### In Python, all objects are special, and one thing that makes a *lists* and *strings* special is because they are:\n",
    "\n",
    "## *Iterable*\n",
    "\n",
    " Which means we can use the for loop like we have been doing, thought what if we don't have a list (or something like it) and want to iterate over it?"
   ]
  },
  {
   "cell_type": "markdown",
   "metadata": {
    "slideshow": {
     "slide_type": "slide"
    }
   },
   "source": [
    "### Range:  quick and dirty iterable for the hard working Pythoneer\n",
    "- Because sometimes you still want to loop when you don't have a list or string\n",
    "- or maybe you want to skip a few items in a list?"
   ]
  },
  {
   "cell_type": "markdown",
   "metadata": {
    "slideshow": {
     "slide_type": "skip"
    }
   },
   "source": [
    "Generally speaking, you can iterate, or loop, over most data types that act as collections or sequences. We are able to loop over the elements of strings because, inside Python, they are treated as a _sequence of letters_, just as a list is a _sequence of objects_. \n",
    "\n",
    "However, sometimes you want to loop over an object that is not an *iterable* object according to Python, or you may even want to use the list (or string) **indexes** instead of the list item itself. \n",
    "\n",
    "e.g. where list = [1,2,3,4,5], I might only want to print out the elements 2, 3 and 4. Rather than programming an `if` statement like:"
   ]
  },
  {
   "cell_type": "markdown",
   "metadata": {
    "slideshow": {
     "slide_type": "fragment"
    }
   },
   "source": [
    "**Example:** where list = [1,2,3,4,5], I might only want to print out the elements 2, 3 and 4. Rather than programming an if statement like:"
   ]
  },
  {
   "cell_type": "code",
   "execution_count": null,
   "metadata": {
    "collapsed": true,
    "slideshow": {
     "slide_type": "fragment"
    }
   },
   "outputs": [],
   "source": [
    "#e.g. where list = [1,2,3,4,5], I might only want to print out the elements 2, 3 and 4. Rather than programming an `if` statement like\n",
    "listed = [1,2,3,4,5]\n",
    "\n",
    "for num in listed:\n",
    "    if (num == 2) or (num == 3) or (num == 4):\n",
    "        print (num)\n"
   ]
  },
  {
   "cell_type": "markdown",
   "metadata": {
    "slideshow": {
     "slide_type": "slide"
    }
   },
   "source": [
    "I can instead use the list indexes to get the data I want:"
   ]
  },
  {
   "cell_type": "code",
   "execution_count": null,
   "metadata": {
    "collapsed": true,
    "slideshow": {
     "slide_type": "fragment"
    }
   },
   "outputs": [],
   "source": [
    "for i in [1,2,3]:\n",
    "    print(listed[i])"
   ]
  },
  {
   "cell_type": "markdown",
   "metadata": {
    "slideshow": {
     "slide_type": "slide"
    }
   },
   "source": [
    "### What if our list had 1000 items and we wanted the middle 3rd of the indices (333-666)?\n",
    "- Would you want to type that out?"
   ]
  },
  {
   "cell_type": "code",
   "execution_count": null,
   "metadata": {
    "collapsed": true,
    "slideshow": {
     "slide_type": "fragment"
    }
   },
   "outputs": [],
   "source": [
    "for num in range(2,5):\n",
    "    print(num)\n"
   ]
  },
  {
   "cell_type": "markdown",
   "metadata": {
    "slideshow": {
     "slide_type": "slide"
    }
   },
   "source": [
    "`range()` works with anywhere between 1 to 3 \"arguments\", or options; start, stop and step. "
   ]
  },
  {
   "cell_type": "code",
   "execution_count": null,
   "metadata": {
    "collapsed": true,
    "scrolled": true,
    "slideshow": {
     "slide_type": "fragment"
    }
   },
   "outputs": [],
   "source": [
    "# 1 value = range(stop)\n",
    "for num in range(10):\n",
    "    print(num)"
   ]
  },
  {
   "cell_type": "code",
   "execution_count": null,
   "metadata": {
    "collapsed": true,
    "scrolled": true,
    "slideshow": {
     "slide_type": "fragment"
    }
   },
   "outputs": [],
   "source": [
    "# if we look at this as a list we get:\n",
    "rangelist = []\n",
    "for num in range(5,10):\n",
    "    rangelist.append(num)\n",
    "    \n",
    "print(rangelist)\n",
    "    "
   ]
  },
  {
   "cell_type": "code",
   "execution_count": null,
   "metadata": {
    "collapsed": true,
    "slideshow": {
     "slide_type": "slide"
    }
   },
   "outputs": [],
   "source": [
    "# 2 values = range(start, stop)\n"
   ]
  },
  {
   "cell_type": "code",
   "execution_count": null,
   "metadata": {
    "collapsed": true,
    "slideshow": {
     "slide_type": "fragment"
    }
   },
   "outputs": [],
   "source": [
    "#3 values = range(start, stop, step)\n",
    "rangelist_2 = []\n",
    "for num in range(10,30,2):\n",
    "    rangelist_2.append(num)\n",
    "\n",
    "print(rangelist_2)"
   ]
  },
  {
   "cell_type": "markdown",
   "metadata": {
    "slideshow": {
     "slide_type": "slide"
    }
   },
   "source": [
    "Inside a for loop, the iterator produced by `range()` works in much the same way as a list does."
   ]
  },
  {
   "cell_type": "code",
   "execution_count": null,
   "metadata": {
    "collapsed": true,
    "scrolled": true,
    "slideshow": {
     "slide_type": "fragment"
    }
   },
   "outputs": [],
   "source": [
    "# now implement in for loop\n",
    "for i in range(5, 16, 2):\n",
    "    print (i)\n",
    "\n",
    "list(range(5, 16, 2))"
   ]
  },
  {
   "cell_type": "markdown",
   "metadata": {
    "slideshow": {
     "slide_type": "slide"
    }
   },
   "source": [
    "By combinging `range()` with our `len()` function, we've now got a convenient way to iterate over the length of our lists"
   ]
  },
  {
   "cell_type": "code",
   "execution_count": null,
   "metadata": {
    "collapsed": true,
    "slideshow": {
     "slide_type": "fragment"
    }
   },
   "outputs": [],
   "source": [
    "# from 0 to 3 (non inclusive)\n",
    "odds = [1,3,5,7]\n",
    "\n",
    "for i in range(0,len(odds),2):\n",
    "    print(\"index i =\",i)\n",
    "    print(\"odds at i =\",odds[i])"
   ]
  },
  {
   "cell_type": "code",
   "execution_count": null,
   "metadata": {
    "collapsed": true,
    "slideshow": {
     "slide_type": "slide"
    }
   },
   "outputs": [],
   "source": [
    "# We can do the same with strings two, another iterable object\n",
    "string = \"This. Is. Python!\"\n",
    "for l in range(0,len(string),3):\n",
    "    print(string[l], l)\n"
   ]
  },
  {
   "cell_type": "code",
   "execution_count": null,
   "metadata": {
    "collapsed": true,
    "slideshow": {
     "slide_type": "skip"
    }
   },
   "outputs": [],
   "source": []
  },
  {
   "cell_type": "code",
   "execution_count": null,
   "metadata": {
    "collapsed": true,
    "slideshow": {
     "slide_type": "skip"
    }
   },
   "outputs": [],
   "source": []
  },
  {
   "cell_type": "markdown",
   "metadata": {
    "slideshow": {
     "slide_type": "slide"
    }
   },
   "source": [
    "#### Pro tip, Range is the simple and most elegant iterable operator, but there are a whole heap of premade iterators that can make your life easier check it out at:\n",
    "\n",
    "https://docs.python.org/3.6/library/itertools.html"
   ]
  },
  {
   "cell_type": "markdown",
   "metadata": {
    "slideshow": {
     "slide_type": "slide"
    }
   },
   "source": [
    "#### Challenge 10\n",
    "\n",
    "In your groups (or individually), write a program which will find all such numbers which are divisible by 7 but are not a multiple of 5,\n",
    "between 2000 and 3200 (both included).\n",
    "The numbers obtained should be printed as a list.\n",
    "\n",
    "*Hint: This will require to you combine range with some modulo conditions.*"
   ]
  },
  {
   "cell_type": "code",
   "execution_count": null,
   "metadata": {
    "collapsed": true,
    "slideshow": {
     "slide_type": "slide"
    }
   },
   "outputs": [],
   "source": [
    "\n",
    "\n"
   ]
  },
  {
   "cell_type": "markdown",
   "metadata": {
    "collapsed": true,
    "slideshow": {
     "slide_type": "slide"
    }
   },
   "source": [
    "### Iterating Over Dictionaries\n",
    "\n",
    "Because dictionaries actually exist as key and value **pairs**, trying to loop over them in the same way that we would a list doesn't quite work:"
   ]
  },
  {
   "cell_type": "code",
   "execution_count": null,
   "metadata": {
    "collapsed": true,
    "slideshow": {
     "slide_type": "fragment"
    }
   },
   "outputs": [],
   "source": [
    "# dictionary\n",
    "stats = {'mean':5.5,'Stdev':0.5, 'median':5,'mode':4}"
   ]
  },
  {
   "cell_type": "code",
   "execution_count": null,
   "metadata": {
    "collapsed": true,
    "slideshow": {
     "slide_type": "fragment"
    }
   },
   "outputs": [],
   "source": [
    "# This will only give me the keys!!\n",
    "for item in stats:\n",
    "    print(item)"
   ]
  },
  {
   "cell_type": "code",
   "execution_count": null,
   "metadata": {
    "collapsed": true,
    "slideshow": {
     "slide_type": "slide"
    }
   },
   "outputs": [],
   "source": [
    "# How would we get the values or both? Maybe sith some special methods?"
   ]
  },
  {
   "cell_type": "markdown",
   "metadata": {
    "slideshow": {
     "slide_type": "slide"
    }
   },
   "source": [
    "####  Optional Challenge 10b\n",
    "\n",
    "We want to create a dictionary that counts how many times a word occurs inside a list. For example, where\n",
    "\n",
    "`sentence = ['list', 'of', 'words', 'list', \"!\"]`\n",
    "\n",
    "The dictionary we should get back would be:\n",
    "\n",
    "```python\n",
    "\n",
    "counts = {'list' : 2, \"of\" : 1, \"words\": 1, \"!\": 1}\n",
    "```\n",
    "\n",
    "Within the code, we'd have to run through the words in the sentence, and increment the dictionary count for that word by 1 each time, like so:\n",
    "\n",
    "` counts[\"of\"] += 1`\n",
    "\n",
    "In your group, try to iterate over the list `sentence`, defined below, to create your own `counts` dictionary. Output the word which occured the most amount of times."
   ]
  },
  {
   "cell_type": "code",
   "execution_count": null,
   "metadata": {
    "collapsed": true,
    "slideshow": {
     "slide_type": "slide"
    }
   },
   "outputs": [],
   "source": [
    "sentence = ['How', 'many', 'words', 'is', 'this', 'so', 'far', '?', \"!\", 'Too', 'many','I', \"say\", \"!\", 'Computer', 'science', 'has', 'gone', 'too', 'far', '!']\n",
    "\n",
    "counts = {}"
   ]
  },
  {
   "cell_type": "code",
   "execution_count": null,
   "metadata": {
    "collapsed": true,
    "slideshow": {
     "slide_type": "slide"
    }
   },
   "outputs": [],
   "source": []
  },
  {
   "attachments": {
    "image.png": {
     "image/png": "[encoded data removed]"
    }
   },
   "cell_type": "markdown",
   "metadata": {
    "slideshow": {
     "slide_type": "slide"
    }
   },
   "source": [
    "#### _Optional Challenge_ 10c\n",
    "\n",
    "A robot moves in a plane starting from the original point (0,0). The robot can move toward UP, DOWN, LEFT and RIGHT with a given steps. The trace of robot movement is shown as the following:\n",
    "UP 5\n",
    "DOWN 3\n",
    "LEFT 3\n",
    "RIGHT 2\n",
    "\n",
    "The numbers after the direction are steps. Please write a program to compute the distance from current position after a sequence of movement and original point. If the distance is a float, then just print the nearest integer.\n",
    "\n",
    "Example:\n",
    "If the following dictionary is given to the program - \n",
    "\n",
    "`directions = {\"UP\": 5, \"DOWN\": 3, \"LEFT\": 3, \"RIGHT\": 2}`\n",
    "\n",
    "Then, the output of the program should be: 2\n",
    "\n",
    "Hint: distance is computed as `round(math.sqrt(pos[1]**2+pos[0]**2))`\n",
    "\n",
    "![image.png](attachment:image.png)"
   ]
  },
  {
   "cell_type": "code",
   "execution_count": null,
   "metadata": {
    "collapsed": true,
    "slideshow": {
     "slide_type": "slide"
    }
   },
   "outputs": [],
   "source": [
    "from numpy import random\n",
    "\n",
    "# pos[x axis, y axis]\n",
    "pos = [0,0]\n",
    "\n",
    "directions = {\"UP\": random.randint(0,10),\n",
    "              \"DOWN\": random.randint(0,10),\n",
    "              \"LEFT\": random.randint(0,10),\n",
    "              \"RIGHT\": random.randint(0,10)}\n",
    "\n",
    "\n"
   ]
  },
  {
   "cell_type": "code",
   "execution_count": null,
   "metadata": {
    "collapsed": true,
    "slideshow": {
     "slide_type": "slide"
    }
   },
   "outputs": [],
   "source": []
  },
  {
   "cell_type": "markdown",
   "metadata": {
    "slideshow": {
     "slide_type": "slide"
    }
   },
   "source": [
    "# While Loops\n",
    "\n",
    "The while statement allows you to repeatedly execute a block of statements as long as a condition is true. A while statement can have an optional else clause.\n",
    "\n"
   ]
  },
  {
   "cell_type": "markdown",
   "metadata": {
    "slideshow": {
     "slide_type": "slide"
    }
   },
   "source": [
    "### Plain English Please:\n",
    "while each a condition is true, keep repeating this action\n",
    "\n",
    "### Python Structure:\n",
    "\n",
    "The general structure of a `for` loop looks like this\n",
    "\n",
    "```python\n",
    "while condition is True:\n",
    "    action() #repeatedly\n",
    "```"
   ]
  },
  {
   "cell_type": "code",
   "execution_count": null,
   "metadata": {
    "collapsed": true,
    "slideshow": {
     "slide_type": "slide"
    }
   },
   "outputs": [],
   "source": [
    "n = 0\n",
    "\n",
    "while n < 10:\n",
    "    print('n is less than ten', 'n = ', n)\n",
    "    n+=1 # The same as n = n+1\n",
    "\n"
   ]
  },
  {
   "cell_type": "markdown",
   "metadata": {
    "slideshow": {
     "slide_type": "slide"
    }
   },
   "source": [
    "### Warning: This is the loop that never ends......\n",
    "While loops can be quite dangerous though - what happens if you choose a really bad stop condition (that never occurs??)"
   ]
  },
  {
   "cell_type": "code",
   "execution_count": null,
   "metadata": {
    "collapsed": true,
    "scrolled": false,
    "slideshow": {
     "slide_type": "fragment"
    }
   },
   "outputs": [],
   "source": [
    "# Be prepared to press the stop button on this...\n",
    "\n",
    "var = True\n",
    "n = 0\n",
    "\n",
    "while (var == True) or (n < 50):\n",
    "    n += 1                       #note y += x is a shorthand code for y adding x to itself can be done for most maths\n",
    "    print(n)"
   ]
  },
  {
   "cell_type": "markdown",
   "metadata": {
    "slideshow": {
     "slide_type": "slide"
    }
   },
   "source": [
    "### *While* they are risky, While  loops are great when you don't actually how many times you want to repeat you block of code, To that end we are going to do an interesting challenge"
   ]
  },
  {
   "attachments": {
    "image.png": {
     "image/png": "[encoded data removed]"
    }
   },
   "cell_type": "markdown",
   "metadata": {
    "slideshow": {
     "slide_type": "slide"
    }
   },
   "source": [
    "### Challenge 11a\n",
    "\n",
    "We are going to go through the sequence of triangular numbers, and fine how many steps we need to go through to get past a large, randomly assigned number\n",
    "\n",
    "![image.png](attachment:image.png)\n",
    "\n",
    "\n",
    "Hint: You will need to keep updating two number variables in the loop, the sum thats being added up, and the count of steps and adder"
   ]
  },
  {
   "cell_type": "code",
   "execution_count": null,
   "metadata": {
    "collapsed": true
   },
   "outputs": [],
   "source": [
    "# making us the random numbers\n",
    "from numpy import random\n",
    "\n",
    "num = random.randint(10000,1000000)\n",
    "\n",
    "print(num)"
   ]
  },
  {
   "cell_type": "code",
   "execution_count": null,
   "metadata": {
    "collapsed": true
   },
   "outputs": [],
   "source": []
  },
  {
   "cell_type": "code",
   "execution_count": null,
   "metadata": {
    "collapsed": true
   },
   "outputs": [],
   "source": []
  },
  {
   "cell_type": "markdown",
   "metadata": {},
   "source": [
    "### Optional Challenge 11b"
   ]
  },
  {
   "cell_type": "code",
   "execution_count": null,
   "metadata": {
    "collapsed": true,
    "slideshow": {
     "slide_type": "slide"
    }
   },
   "outputs": [],
   "source": [
    "# Loading up Bohemian Rhapsody List Don't worry about this we will go through more of this later\n",
    "from get_rhap import get_rhap # I made another python program to get us them lyrics!\n",
    "\n",
    "#Also, some bonus knowledge, I am bringing in code from another python file in my folder\n",
    "\n",
    "\n",
    "bohemian_list = get_rhap()"
   ]
  },
  {
   "cell_type": "code",
   "execution_count": null,
   "metadata": {
    "collapsed": true,
    "slideshow": {
     "slide_type": "slide"
    }
   },
   "outputs": [],
   "source": [
    "print(bohemian_list[0:9])\n",
    "'beelzebub' in bohemian_list"
   ]
  },
  {
   "cell_type": "markdown",
   "metadata": {
    "slideshow": {
     "slide_type": "slide"
    }
   },
   "source": [
    "### Thats right we have all the words in The classic rock ballad, Bohemian Rhapsody conveniently organized into a list in order (Do not sort it mates!)\n",
    "\n",
    "<center><img src=\"Imbedded Pics/Bohemian_rhapsody.jpg\" alt=\"aus_slang\" style=\"width:auto;height:70vh\"></center>\n",
    "\n",
    "Courtesy of thechive.com"
   ]
  },
  {
   "cell_type": "markdown",
   "metadata": {
    "slideshow": {
     "slide_type": "slide"
    }
   },
   "source": [
    "#### I want to know how many words Freddy Mercury sings before he sings 'beelzebub', using a While loop\n",
    "\n",
    "Hints: You will need a counter variable changing every iteration right? that will tell you how many words you have looked at, note the clever rescom who made this made all of the words lower case\n"
   ]
  },
  {
   "cell_type": "markdown",
   "metadata": {
    "slideshow": {
     "slide_type": "fragment"
    }
   },
   "source": [
    "You have 6 minutes and 7 seconds - the length of the song"
   ]
  },
  {
   "cell_type": "code",
   "execution_count": null,
   "metadata": {
    "collapsed": true,
    "slideshow": {
     "slide_type": "slide"
    }
   },
   "outputs": [],
   "source": [
    "# put your answers here:\n",
    "\n",
    "#Triangular numbers:\n",
    "from numpy import random\n",
    "num = random.randint(10000,1000000)\n"
   ]
  },
  {
   "cell_type": "code",
   "execution_count": null,
   "metadata": {
    "collapsed": true,
    "slideshow": {
     "slide_type": "slide"
    }
   },
   "outputs": [],
   "source": [
    "# Bohemian Rhapsody"
   ]
  },
  {
   "cell_type": "markdown",
   "metadata": {
    "slideshow": {
     "slide_type": "fragment"
    }
   },
   "source": [
    "#### Optional Challenge: Change your code above to record how many times They say \"go\"  before they say beelzebub"
   ]
  },
  {
   "cell_type": "code",
   "execution_count": null,
   "metadata": {
    "collapsed": true,
    "slideshow": {
     "slide_type": "fragment"
    }
   },
   "outputs": [],
   "source": []
  },
  {
   "cell_type": "markdown",
   "metadata": {
    "slideshow": {
     "slide_type": "slide"
    }
   },
   "source": [
    "###  Optional Challenge 11c: Lets Explore the Fibbonaci sequence:\n",
    "\n",
    "<center><img src=\"Imbedded Pics/NAUTILUS.jpg\" alt=\"dr_evil\" style=\"width:auto;height:70vh\"></center>\n"
   ]
  },
  {
   "cell_type": "markdown",
   "metadata": {
    "slideshow": {
     "slide_type": "slide"
    }
   },
   "source": [
    "### The maths:\n",
    "i is the step\n",
    "n at step i = n[i-1] + n[i-2]\n",
    "\n",
    "if n[0] = 0 and n[1] = 1\n",
    "\n",
    "then\n",
    "\n",
    "- n[2] = n[0] + n[1] = 0+1 = 1,\n",
    "- n[3] = n[2] + n[1] = 1+1 = 2,\n",
    "- n[4] = n[3] + n[2] = 2+1 = 3,\n",
    "...\n",
    " "
   ]
  },
  {
   "cell_type": "markdown",
   "metadata": {
    "slideshow": {
     "slide_type": "slide"
    }
   },
   "source": [
    "#### Challenge\n",
    "\n",
    "Using a while loop, write a program that tells you how many iterations of the fibonacci sequence it takes to get to a randomly selected number greater than 10,000\n",
    "\n"
   ]
  },
  {
   "cell_type": "code",
   "execution_count": null,
   "metadata": {
    "collapsed": true,
    "slideshow": {
     "slide_type": "fragment"
    }
   },
   "outputs": [],
   "source": [
    "from numpy import random\n",
    "\n",
    "num = random.randint(10000,1000000)\n",
    "\n",
    "print(num)\n"
   ]
  },
  {
   "cell_type": "code",
   "execution_count": null,
   "metadata": {
    "collapsed": true,
    "slideshow": {
     "slide_type": "slide"
    }
   },
   "outputs": [],
   "source": [
    "\n"
   ]
  },
  {
   "cell_type": "code",
   "execution_count": null,
   "metadata": {
    "collapsed": true,
    "slideshow": {
     "slide_type": "slide"
    }
   },
   "outputs": [],
   "source": [
    "\n"
   ]
  },
  {
   "cell_type": "code",
   "execution_count": null,
   "metadata": {
    "collapsed": true,
    "slideshow": {
     "slide_type": "skip"
    }
   },
   "outputs": [],
   "source": []
  },
  {
   "cell_type": "markdown",
   "metadata": {
    "collapsed": true,
    "slideshow": {
     "slide_type": "slide"
    }
   },
   "source": [
    "#### Optional Discussion Question\n",
    "For the following, when would you use a for loop, and when would you use a while loop? When would you use a list comprehension?\n",
    "For extra credit, would you need an if statement or a range as well?\n",
    " - 1.) You have a data set as a list or dictionary, and you want to check for corrupt data (that doesn't satisfy your quality controls) and tally how many \n",
    "- 2.) You are running simulation a of a chemical reaction process through time, and you want to know how long it takes to reach a \"steady state\"\n",
    "- 3.) You want to filter out every 3rd data point in a list to serve as a training dataset for a predictive model\n",
    "- 4.) You have a list of words in a book (in order) and you want to figure out when a character is first mentioned (is it in teh first 50% of the words?)\n",
    "\n"
   ]
  },
  {
   "cell_type": "markdown",
   "metadata": {
    "slideshow": {
     "slide_type": "slide"
    }
   },
   "source": [
    "#### _Optional Challenge_ 11c\n",
    "\n",
    "Write a `while` loop that takes a string, and produces a new string with the characters in reverse order, without using the `.reverse()` function:\n",
    "i.e. 'Newton' becomes 'notweN'."
   ]
  },
  {
   "cell_type": "code",
   "execution_count": null,
   "metadata": {
    "collapsed": true,
    "slideshow": {
     "slide_type": "slide"
    }
   },
   "outputs": [],
   "source": [
    "#HINT\n",
    "word = \"\"\n",
    "\n",
    "word = \"a\" + word\n",
    "print(word)\n",
    "word = \"b\" + word\n",
    "print(word)"
   ]
  },
  {
   "cell_type": "code",
   "execution_count": null,
   "metadata": {
    "collapsed": true,
    "slideshow": {
     "slide_type": "slide"
    }
   },
   "outputs": [],
   "source": [
    "word = \"Newton\"\n",
    "\n"
   ]
  },
  {
   "cell_type": "code",
   "execution_count": null,
   "metadata": {
    "collapsed": true,
    "slideshow": {
     "slide_type": "slide"
    }
   },
   "outputs": [],
   "source": []
  }
 ],
 "metadata": {
  "kernelspec": {
   "display_name": "Python 3",
   "language": "python",
   "name": "python3"
  },
  "language_info": {
   "codemirror_mode": {
    "name": "ipython",
    "version": 3
   },
   "file_extension": ".py",
   "mimetype": "text/x-python",
   "name": "python",
   "nbconvert_exporter": "python",
   "pygments_lexer": "ipython3",
   "version": "3.8.2"
  },
  "toc": {
   "base_numbering": 1,
   "nav_menu": {
    "height": "246px",
    "width": "252px"
   },
   "number_sections": false,
   "sideBar": false,
   "skip_h1_title": false,
   "title_cell": "Table of Contents",
   "title_sidebar": "Contents",
   "toc_cell": false,
   "toc_position": {
    "height": "40px",
    "left": "780px",
    "right": "20px",
    "top": "72px",
    "width": "312px"
   },
   "toc_section_display": false,
   "toc_window_display": true
  },
  "varInspector": {
   "cols": {
    "lenName": 16,
    "lenType": 16,
    "lenVar": 40
   },
   "kernels_config": {
    "python": {
     "delete_cmd_postfix": "",
     "delete_cmd_prefix": "del ",
     "library": "var_list.py",
     "varRefreshCmd": "print(var_dic_list())"
    },
    "r": {
     "delete_cmd_postfix": ") ",
     "delete_cmd_prefix": "rm(",
     "library": "var_list.r",
     "varRefreshCmd": "cat(var_dic_list()) "
    }
   },
   "types_to_exclude": [
    "module",
    "function",
    "builtin_function_or_method",
    "instance",
    "_Feature"
   ],
   "window_display": false
  }
 },
 "nbformat": 4,
 "nbformat_minor": 2
}
