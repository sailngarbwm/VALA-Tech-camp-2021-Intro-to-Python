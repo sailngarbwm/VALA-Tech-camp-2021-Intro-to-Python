{
 "cells": [
  {
   "cell_type": "markdown",
   "metadata": {
    "toc": true
   },
   "source": [
    "<h1>Table of Contents<span class=\"tocSkip\"></span></h1>\n",
    "<div class=\"toc\"><ul class=\"toc-item\"><li><span><a href=\"#DIY-Functions!!\" data-toc-modified-id=\"DIY-Functions!!-6\"><span class=\"toc-item-num\">6&nbsp;&nbsp;</span>DIY Functions!!</a></span><ul class=\"toc-item\"><li><ul class=\"toc-item\"><li><span><a href=\"#What-we-already-know\" data-toc-modified-id=\"What-we-already-know-6.0.1\"><span class=\"toc-item-num\">6.0.1&nbsp;&nbsp;</span>What we already know</a></span></li><li><span><a href=\"#Learning-Objectives\" data-toc-modified-id=\"Learning-Objectives-6.0.2\"><span class=\"toc-item-num\">6.0.2&nbsp;&nbsp;</span>Learning Objectives</a></span></li><li><span><a href=\"#Defining-a-function-using-the-def-command\" data-toc-modified-id=\"Defining-a-function-using-the-def-command-6.0.3\"><span class=\"toc-item-num\">6.0.3&nbsp;&nbsp;</span>Defining a function using the def command</a></span></li><li><span><a href=\"#An-Introduction-to-scope\" data-toc-modified-id=\"An-Introduction-to-scope-6.0.4\"><span class=\"toc-item-num\">6.0.4&nbsp;&nbsp;</span>An Introduction to scope</a></span></li></ul></li><li><span><a href=\"#Function-Default-arguments\" data-toc-modified-id=\"Function-Default-arguments-6.1\"><span class=\"toc-item-num\">6.1&nbsp;&nbsp;</span>Function Default arguments</a></span><ul class=\"toc-item\"><li><span><a href=\"#Challenge-13:-Function-Challenge:-Write-a-function-from-something-we-have-already-done:\" data-toc-modified-id=\"Challenge-13:-Function-Challenge:-Write-a-function-from-something-we-have-already-done:-6.1.1\"><span class=\"toc-item-num\">6.1.1&nbsp;&nbsp;</span>Challenge 13: Function Challenge: Write a function from something we have already done:</a></span></li></ul></li><li><span><a href=\"#User-Input\" data-toc-modified-id=\"User-Input-6.2\"><span class=\"toc-item-num\">6.2&nbsp;&nbsp;</span>User Input</a></span><ul class=\"toc-item\"><li><span><a href=\"#Challenge-13\" data-toc-modified-id=\"Challenge-13-6.2.1\"><span class=\"toc-item-num\">6.2.1&nbsp;&nbsp;</span>Challenge 13</a></span></li></ul></li></ul></li></ul></div>"
   ]
  },
  {
   "cell_type": "markdown",
   "metadata": {
    "slideshow": {
     "slide_type": "slide"
    }
   },
   "source": [
    "# DIY Functions!!"
   ]
  },
  {
   "cell_type": "markdown",
   "metadata": {
    "slideshow": {
     "slide_type": "slide"
    }
   },
   "source": [
    "### What we already know\n",
    "- basic data types (ints, floats, strings, booleans)\n",
    "- Some functions and methods to manipulate these data types (i.e. type(), len(), str.upper())\n",
    "- where to put our data into Variables, Lists, and Dictionaries\n",
    "- and how to manipulate and build these variables and lists\n",
    "- How to create, store, and use data in a dictionary\n",
    "- Use conditional statements to allow the computer to choose when to execute certain commands\n",
    "- use loops so that the computer can repeat tasks\n"
   ]
  },
  {
   "cell_type": "markdown",
   "metadata": {
    "slideshow": {
     "slide_type": "slide"
    }
   },
   "source": [
    "### Learning Objectives\n",
    "- Define a function that takes parameters.\n",
    "- Return a value from a function.\n",
    "- Test and debug a function.\n",
    "- Set default values for function parameters.\n",
    "- Explain why we should divide programs into small, single-purpose functions"
   ]
  },
  {
   "cell_type": "markdown",
   "metadata": {
    "slideshow": {
     "slide_type": "slide"
    }
   },
   "source": [
    "### Ever wish there were a function to do exactly what you wanted to do in Python? <a class=\"tocSkip\">"
   ]
  },
  {
   "cell_type": "markdown",
   "metadata": {
    "slideshow": {
     "slide_type": "slide"
    }
   },
   "source": [
    "### Well Fret no more, because if you want it bad enough, you can make your own function?  <a class=\"tocSkip\">"
   ]
  },
  {
   "cell_type": "markdown",
   "metadata": {
    "slideshow": {
     "slide_type": "fragment"
    }
   },
   "source": [
    "- Even with loops, we end up copying and pasting those a bunch\n",
    "- We can replace all that repetition by creating functions at the beginning of our scripts, to encapsulate a long but repeated list of instructions into ***one line of code!!!***"
   ]
  },
  {
   "cell_type": "markdown",
   "metadata": {
    "slideshow": {
     "slide_type": "skip"
    }
   },
   "source": [
    "Imagine now that you're writing a piece of code...and you're writing up the exact same `if` statements, and the same loops, in multiple areas inside your program.\n",
    "\n",
    "Instead of doing this, what we can do is make our own **functions** - where we can define our own command that performs the actions that we want it to. \n",
    "\n",
    "We've already encountered functions before - list.sort(), for example, is a function that takes your list, reorders the data inside it, and then gives it back to you.\n",
    "\n",
    "Similarly, type() is a function that takes the data that you give it, tests which data type it is, and then prints out a statement that tells you what it is."
   ]
  },
  {
   "cell_type": "markdown",
   "metadata": {
    "slideshow": {
     "slide_type": "slide"
    }
   },
   "source": [
    "### Defining a function using the def command\n",
    "- We can make a function using the `def`, or \"definition\" command, followed by what we would like our function to be called.\n",
    "- The rest of the syntax should be quite familiar"
   ]
  },
  {
   "cell_type": "markdown",
   "metadata": {
    "slideshow": {
     "slide_type": "slide"
    }
   },
   "source": [
    "### Plain Talk  <a class=\"tocSkip\">\n",
    "\n",
    "**Define** a function named \"examplefunction\" that will do an action on x input\n",
    "\n",
    "### Python Talk  <a class=\"tocSkip\">\n",
    "\n",
    "```python\n",
    "def examplefunction(x):\n",
    "    action on x\n",
    "```"
   ]
  },
  {
   "cell_type": "code",
   "execution_count": null,
   "metadata": {
    "slideshow": {
     "slide_type": "fragment"
    }
   },
   "outputs": [],
   "source": [
    "# Simplest example, no inputs at all\n",
    "def functionName(): #we also need these bracket on \n",
    "                    #the end\n",
    "    print(\"let's make some code\")"
   ]
  },
  {
   "cell_type": "code",
   "execution_count": null,
   "metadata": {
    "slideshow": {
     "slide_type": "fragment"
    }
   },
   "outputs": [],
   "source": [
    "# I can then run this code inside the function by \"calling\" the function\n",
    "functionName()"
   ]
  },
  {
   "cell_type": "code",
   "execution_count": null,
   "metadata": {
    "slideshow": {
     "slide_type": "skip"
    }
   },
   "outputs": [],
   "source": []
  },
  {
   "cell_type": "markdown",
   "metadata": {
    "slideshow": {
     "slide_type": "slide"
    }
   },
   "source": [
    "### A function with some inputs  <a class=\"tocSkip\">\n",
    "- We can also make it so that our function has to take some *parameters* when we call it."
   ]
  },
  {
   "cell_type": "code",
   "execution_count": null,
   "metadata": {
    "slideshow": {
     "slide_type": "fragment"
    }
   },
   "outputs": [],
   "source": [
    "def add(x,y):\n",
    "    z = x + y\n",
    "    print(z)\n",
    "    "
   ]
  },
  {
   "cell_type": "markdown",
   "metadata": {
    "slideshow": {
     "slide_type": "slide"
    }
   },
   "source": [
    "- x and y would be the variables that I use inside the function, and are thus the *parameters* of the `add()` function.\n",
    "- If your function has parameters you need to provide them when you use it"
   ]
  },
  {
   "cell_type": "code",
   "execution_count": null,
   "metadata": {
    "slideshow": {
     "slide_type": "fragment"
    }
   },
   "outputs": [],
   "source": [
    "add(2,3)"
   ]
  },
  {
   "cell_type": "code",
   "execution_count": null,
   "metadata": {
    "slideshow": {
     "slide_type": "fragment"
    }
   },
   "outputs": [],
   "source": [
    "# but it also works in situations we didn't expect - oops!\n",
    "add(\"5\",'6')"
   ]
  },
  {
   "cell_type": "code",
   "execution_count": null,
   "metadata": {
    "slideshow": {
     "slide_type": "fragment"
    }
   },
   "outputs": [],
   "source": [
    "# if we try to use this without parameters...\n",
    "add()"
   ]
  },
  {
   "cell_type": "markdown",
   "metadata": {
    "slideshow": {
     "slide_type": "slide"
    }
   },
   "source": [
    "### They look like loops but do they act like loops?  <a class=\"tocSkip\">"
   ]
  },
  {
   "cell_type": "code",
   "execution_count": null,
   "metadata": {
    "slideshow": {
     "slide_type": "slide"
    }
   },
   "outputs": [],
   "source": [
    "def add(x,y):\n",
    "    z = x + y\n",
    "    print(z)\n",
    "\n",
    "# what if I define an \"z\" outside of the function though?\n",
    "x = 1\n",
    "y = 4\n",
    "z = 20 #but dont we have a z inside of our function?\n",
    "print(\"Add(1,4) makes z:\")\n",
    "add(x,y)\n",
    "\n",
    "\n",
    "print(\"but z is still\", z )\n",
    "\n"
   ]
  },
  {
   "cell_type": "markdown",
   "metadata": {
    "slideshow": {
     "slide_type": "slide"
    }
   },
   "source": [
    "This is because the parameter names that we define inside the function **only exist inside the function**\n",
    "\n",
    "If I make a new variable inside add, for example, that variable **will not exist outside of that function**"
   ]
  },
  {
   "cell_type": "markdown",
   "metadata": {
    "slideshow": {
     "slide_type": "slide"
    }
   },
   "source": [
    "###  An Introduction to scope\n",
    "\n",
    "In Python there is\n",
    "- **Global Scope** = Prett much every piece of data we have put in here\n",
    "- **local scope** - variables that are created temporarily and only used in a code bloc (i.e. variables created within a function)\n"
   ]
  },
  {
   "cell_type": "markdown",
   "metadata": {
    "slideshow": {
     "slide_type": "slide"
    }
   },
   "source": [
    "#### Think of it like a vacation\n",
    "![image.png](https://gitlab.unimelb.edu.au/rescom-training/python/introduction-to-python-for-researchers/-/raw/master/Imbedded%20Pics/vegas_1.png)\n",
    "\n",
    "What happens in Vegas stays in Vegas, but your bank account is a global variable, and it can still change inside vegas\n",
    "\n",
    "```python\n",
    "\n",
    "def vegas(time, Bank_balance):\n",
    "    fun_times = 10**(2/time)\n",
    "    regret = 10**(time/2)\n",
    "    happiness = fun_times/regret\n",
    "    Bank_balance -= 1000*time + np.randn()*10000\n",
    "```\n",
    "\n",
    "    \n",
    "    "
   ]
  },
  {
   "cell_type": "code",
   "execution_count": null,
   "metadata": {
    "slideshow": {
     "slide_type": "slide"
    }
   },
   "outputs": [],
   "source": [
    "test = [1,2,3] # global variable here\n",
    "\n",
    "def add_2_test(x):\n",
    "    test.append(x)\n",
    "add_2_test(4)\n",
    "test # we changed a global variable within a function"
   ]
  },
  {
   "cell_type": "markdown",
   "metadata": {
    "slideshow": {
     "slide_type": "slide"
    }
   },
   "source": [
    "The local scope created whenever a function is used means that:\n",
    "\n",
    "![image.png](https://gitlab.unimelb.edu.au/rescom-training/python/introduction-to-python-for-researchers/-/raw/master/Imbedded%20Pics/vegas_2.png)\n",
    "\n",
    "**note:** I am not great at photoshop :)"
   ]
  },
  {
   "cell_type": "code",
   "execution_count": null,
   "metadata": {
    "slideshow": {
     "slide_type": "slide"
    }
   },
   "outputs": [],
   "source": [
    "def add2(x,y):\n",
    "    new = x + y\n",
    "    print(new)"
   ]
  },
  {
   "cell_type": "code",
   "execution_count": null,
   "metadata": {
    "slideshow": {
     "slide_type": "fragment"
    }
   },
   "outputs": [],
   "source": [
    "add2(1,2)\n",
    "\n",
    "print(new)"
   ]
  },
  {
   "cell_type": "code",
   "execution_count": null,
   "metadata": {
    "slideshow": {
     "slide_type": "fragment"
    }
   },
   "outputs": [],
   "source": [
    "# But what if we try to assign our added value to a variable?\n",
    "\n",
    "new = add2(1,2)\n",
    "print(new)"
   ]
  },
  {
   "cell_type": "markdown",
   "metadata": {
    "slideshow": {
     "slide_type": "slide"
    }
   },
   "source": [
    "### What went wrong? We need to ask our Pydog to *return* our answer  <a class=\"tocSkip\">\n"
   ]
  },
  {
   "cell_type": "markdown",
   "metadata": {
    "slideshow": {
     "slide_type": "fragment"
    }
   },
   "source": [
    "- So far, add2 is only performing some math inside itself, and we have only told it to ```print``` it out as a string\n",
    "\n",
    "- We need to order our Pydog to keep the data at the end of a function using a `return` statement"
   ]
  },
  {
   "cell_type": "code",
   "execution_count": null,
   "metadata": {
    "slideshow": {
     "slide_type": "slide"
    }
   },
   "outputs": [],
   "source": [
    "def add2(x,y):\n",
    "    z = x + y\n",
    "    return z #This means that our function is now GIVING BACK a value when we run it"
   ]
  },
  {
   "cell_type": "code",
   "execution_count": null,
   "metadata": {
    "slideshow": {
     "slide_type": "slide"
    }
   },
   "outputs": [],
   "source": [
    "temp = add2(1,4)\n",
    "\n",
    "temp"
   ]
  },
  {
   "cell_type": "code",
   "execution_count": null,
   "metadata": {
    "slideshow": {
     "slide_type": "slide"
    }
   },
   "outputs": [],
   "source": [
    "# Can we have multiple outputs?\n",
    "def add3(x,y):\n",
    "    z = x + y\n",
    "    return(z,z+3)\n",
    "\n",
    "add3(5,8)\n",
    "add, add4 = add3(5,8)\n",
    "print(add, add4)"
   ]
  },
  {
   "cell_type": "markdown",
   "metadata": {
    "slideshow": {
     "slide_type": "slide"
    }
   },
   "source": [
    "### Pro tip  <a class=\"tocSkip\">\n",
    "- We can return multiple items using the ```return x, y ,z``` statement instead of ```return(x)```\n",
    "- But wouldn't it be so organized to return it as a list? or even a dictionary?"
   ]
  },
  {
   "cell_type": "code",
   "execution_count": null,
   "metadata": {
    "slideshow": {
     "slide_type": "slide"
    }
   },
   "outputs": [],
   "source": [
    "# a simple example to check if x and y are both numbers\n",
    "def numCheck(x,y):\n",
    "    numList = []\n",
    "    if type(x) is int:\n",
    "        numList.append(x)\n",
    "    if type(y) is int:\n",
    "        numList.append(y)\n",
    "    return(numList)\n",
    "\n",
    "test = numCheck(5,'5')\n",
    "                      \n",
    "print(test)\n",
    "\n"
   ]
  },
  {
   "cell_type": "markdown",
   "metadata": {
    "slideshow": {
     "slide_type": "slide"
    }
   },
   "source": [
    "#### Mini Challenge 12\n",
    "\n",
    "Now let's try to write some functions function that converts temperatures from the right proper American scale (Fahrenheit) to the other from Fahrenheit to Kelvin\n",
    "- **Challenge 12A** Create a function that converts fahrenheit to celsius\n",
    "    - The math involved in this is: `(temperature - 32) * (5/9) + 273.15`\n",
    "- **Challenge 12B** Create a Funciton that converts Kelvin to Celsius\n",
    "- **Challenge 12C (Bonus challenge)** Create a function that converts Fahrenhight to Celsius using the previous two functions\n"
   ]
  },
  {
   "cell_type": "code",
   "execution_count": null,
   "metadata": {},
   "outputs": [],
   "source": []
  },
  {
   "cell_type": "code",
   "execution_count": null,
   "metadata": {},
   "outputs": [],
   "source": []
  },
  {
   "cell_type": "markdown",
   "metadata": {
    "slideshow": {
     "slide_type": "slide"
    }
   },
   "source": [
    "## Function Default arguments\n",
    "\n",
    "- When you are defining your functions, you can actually set your parameters to have default values. \n",
    "\n",
    "- You can do this by making your parameter '=' to something inside your function definition."
   ]
  },
  {
   "cell_type": "markdown",
   "metadata": {
    "collapsed": true,
    "slideshow": {
     "slide_type": "fragment"
    }
   },
   "source": [
    "**Warning** Order is important! What happens if you try to put times (with a default value) before message?"
   ]
  },
  {
   "cell_type": "code",
   "execution_count": null,
   "metadata": {
    "slideshow": {
     "slide_type": "fragment"
    }
   },
   "outputs": [],
   "source": [
    "def HelloWorld(message,times= 1):\n",
    "    print (message * times)"
   ]
  },
  {
   "cell_type": "markdown",
   "metadata": {
    "slideshow": {
     "slide_type": "slide"
    }
   },
   "source": [
    "Python wants the **non-default (compulsory) parameters** defined first, better give it what it wants...."
   ]
  },
  {
   "cell_type": "markdown",
   "metadata": {
    "slideshow": {
     "slide_type": "skip"
    }
   },
   "source": [
    "So, for example, with our HelloWorld function, if we were to define it with the times parameter first, if we tried to run `HelloWorld(\"Hello World \")`, it would assign \"Hello World \" to the `times` parameter, instead of `message`.\n",
    "\n",
    "As message **doesn't** have a default value, this means that our function would fail and give us a nasty error.\n",
    "\n",
    "To protect you from doing that, Python forces you to define functions with your *compulsory* parameters first, and you can put your default values after those. "
   ]
  },
  {
   "cell_type": "code",
   "execution_count": null,
   "metadata": {
    "slideshow": {
     "slide_type": "fragment"
    }
   },
   "outputs": [],
   "source": [
    "# Lets fix it"
   ]
  },
  {
   "cell_type": "code",
   "execution_count": null,
   "metadata": {
    "slideshow": {
     "slide_type": "fragment"
    }
   },
   "outputs": [],
   "source": [
    "HelloWorld(\"Hello World \", 4)"
   ]
  },
  {
   "cell_type": "code",
   "execution_count": null,
   "metadata": {
    "slideshow": {
     "slide_type": "fragment"
    }
   },
   "outputs": [],
   "source": []
  },
  {
   "cell_type": "code",
   "execution_count": null,
   "metadata": {
    "slideshow": {
     "slide_type": "slide"
    }
   },
   "outputs": [],
   "source": [
    "def HelloWorld(message, times = 1):\n",
    "    print (message * times)\n",
    "\n",
    "HelloWorld(message = 5, times = 4)"
   ]
  },
  {
   "cell_type": "markdown",
   "metadata": {
    "slideshow": {
     "slide_type": "slide"
    }
   },
   "source": [
    "In Python however, you just need to type in the values itself, and Python will take the values you put in and assign them to your parameters *in order*."
   ]
  },
  {
   "cell_type": "code",
   "execution_count": null,
   "metadata": {
    "scrolled": true,
    "slideshow": {
     "slide_type": "fragment"
    }
   },
   "outputs": [],
   "source": [
    "HelloWorld(\"Hello World \", 4)"
   ]
  },
  {
   "cell_type": "code",
   "execution_count": null,
   "metadata": {
    "scrolled": true,
    "slideshow": {
     "slide_type": "fragment"
    }
   },
   "outputs": [],
   "source": [
    "#note you may need to be explicit about the data types in your function\n",
    "HelloWorld(4,12)"
   ]
  },
  {
   "cell_type": "code",
   "execution_count": null,
   "metadata": {
    "slideshow": {
     "slide_type": "slide"
    }
   },
   "outputs": [],
   "source": [
    "def HelloWorld(message, times = 1):\n",
    "    print(type(times))\n",
    "    print(type(message))\n",
    "    print (message * times)\n",
    "\n",
    "HelloWorld(4,\"Hello World \")"
   ]
  },
  {
   "cell_type": "markdown",
   "metadata": {
    "collapsed": true,
    "slideshow": {
     "slide_type": "slide"
    }
   },
   "source": [
    "### Challenge 13: Function Challenge: Write a function from something we have already done:\n",
    "\n",
    "**Take this**\n",
    "Challenge 10\n",
    "Write a function using your if statement data for your everyday routine, Basically, take the if statements from if statement challenge, and have the function take in several parameters (i.e. def daily_routine(weekday, season): etc..) and have it return a string listing your morning routines. Give your function at least one default argument (ie. cold == True if you are always cold like me :))\n",
    "\n"
   ]
  },
  {
   "cell_type": "code",
   "execution_count": null,
   "metadata": {
    "slideshow": {
     "slide_type": "slide"
    }
   },
   "outputs": [],
   "source": [
    "\n"
   ]
  },
  {
   "cell_type": "markdown",
   "metadata": {
    "slideshow": {
     "slide_type": "slide"
    }
   },
   "source": [
    "##  User Input\n",
    "\n",
    "You can also program your code so that it can prompt a user for input.\n",
    "\n",
    "Imagine, for example, programming your `HelloWorld` function to ask the user how many times they want to print the message. Or even what the message is.\n",
    "\n",
    "To program a user input, you simply need to do:\n",
    "\n",
    "```python\n",
    "\n",
    "variableName = input()\n",
    "```\n",
    "\n",
    "You can also choose to include a message that displays when prompting the user, like this:\n",
    "\n",
    "```python\n",
    "\n",
    "variableName = input(\"This will display a message:\")\n",
    "```"
   ]
  },
  {
   "cell_type": "code",
   "execution_count": null,
   "metadata": {
    "slideshow": {
     "slide_type": "slide"
    }
   },
   "outputs": [],
   "source": [
    "variable = input('give me a name please!')"
   ]
  },
  {
   "cell_type": "raw",
   "metadata": {
    "slideshow": {
     "slide_type": "slide"
    }
   },
   "source": []
  },
  {
   "cell_type": "code",
   "execution_count": null,
   "metadata": {
    "slideshow": {
     "slide_type": "slide"
    }
   },
   "outputs": [],
   "source": [
    "print(variable)"
   ]
  },
  {
   "attachments": {
    "image.png": {
     "image/png": "[encoded data removed]"
    }
   },
   "cell_type": "markdown",
   "metadata": {
    "slideshow": {
     "slide_type": "slide"
    }
   },
   "source": [
    "HOWEVER! For those using Python 2.x, you should use the raw_input() function, NOT input().\n",
    "\n",
    "In Python 3, input() will automatically convert the user input into a string type. In Python 2, this function will actually evaluate what the user types in. This might not seem like an issue, but it can cause **massive** security holes in your program. Imagine if someone malicious typed in a command to exit python, and then had access to your local machine? Or a database beneath that?\n",
    "\n",
    "By converting the user input into a string, you are \"sanitising\" the user input. Python 2's raw_input, and Python 3's input() do this automatically.\n",
    "\n",
    "\n",
    "![image.png](attachment:image.png)\n",
    "*\"Exploits of a Mom\", XKCD*"
   ]
  },
  {
   "cell_type": "markdown",
   "metadata": {
    "slideshow": {
     "slide_type": "slide"
    }
   },
   "source": [
    "#### Mini Challenge\n",
    "\n",
    "Make another function called HelloWorld, which prints the phrase \"Hello World!\", on separate lines, for as many times as the user tells it to."
   ]
  },
  {
   "cell_type": "code",
   "execution_count": null,
   "metadata": {
    "slideshow": {
     "slide_type": "slide"
    }
   },
   "outputs": [],
   "source": []
  },
  {
   "cell_type": "code",
   "execution_count": null,
   "metadata": {
    "slideshow": {
     "slide_type": "slide"
    }
   },
   "outputs": [],
   "source": []
  },
  {
   "cell_type": "markdown",
   "metadata": {
    "slideshow": {
     "slide_type": "slide"
    }
   },
   "source": [
    "### Challenge 13\n",
    "\n",
    "Create a randomly generated list, with a length between 10 and 100, specified by user input.\n",
    "\n",
    "Then, write a function that takes that list, and returns a new, sorted list that only contains unique values"
   ]
  },
  {
   "cell_type": "code",
   "execution_count": null,
   "metadata": {
    "slideshow": {
     "slide_type": "slide"
    }
   },
   "outputs": [],
   "source": [
    "import numpy\n",
    "\n",
    "\n",
    "# your list\n",
    "listing = []\n",
    "\n",
    "\n",
    "# the length of your list\n",
    "length\n",
    "\n",
    "for i in range(int(length)):\n",
    "    listing.append(numpy.random.randint(0,9))\n",
    "    \n",
    "\n",
    "\n",
    "\n",
    "# Your unique/sorting function\n",
    "def uniqueList(var):\n",
    "\n",
    "\n",
    "\n",
    "    \n",
    "    \n",
    "    \n",
    "    \n",
    "#Running your functions\n",
    "print(\"Sample list:\", listing)\n",
    "print(\"New list:\",uniqueList(listing))"
   ]
  },
  {
   "cell_type": "code",
   "execution_count": null,
   "metadata": {
    "slideshow": {
     "slide_type": "slide"
    }
   },
   "outputs": [],
   "source": []
  }
 ],
 "metadata": {
  "kernelspec": {
   "display_name": "Python 3",
   "language": "python",
   "name": "python3"
  },
  "language_info": {
   "codemirror_mode": {
    "name": "ipython",
    "version": 3
   },
   "file_extension": ".py",
   "mimetype": "text/x-python",
   "name": "python",
   "nbconvert_exporter": "python",
   "pygments_lexer": "ipython3",
   "version": "3.8.2"
  },
  "toc": {
   "base_numbering": "6",
   "nav_menu": {
    "height": "141px",
    "width": "252px"
   },
   "number_sections": true,
   "sideBar": false,
   "skip_h1_title": false,
   "title_cell": "Table of Contents",
   "title_sidebar": "Contents",
   "toc_cell": true,
   "toc_position": {
    "height": "188.984px",
    "left": "1437.4px",
    "right": "20px",
    "top": "120px",
    "width": "227.598px"
   },
   "toc_section_display": true,
   "toc_window_display": true
  },
  "varInspector": {
   "cols": {
    "lenName": 16,
    "lenType": 16,
    "lenVar": 40
   },
   "kernels_config": {
    "python": {
     "delete_cmd_postfix": "",
     "delete_cmd_prefix": "del ",
     "library": "var_list.py",
     "varRefreshCmd": "print(var_dic_list())"
    },
    "r": {
     "delete_cmd_postfix": ") ",
     "delete_cmd_prefix": "rm(",
     "library": "var_list.r",
     "varRefreshCmd": "cat(var_dic_list()) "
    }
   },
   "types_to_exclude": [
    "module",
    "function",
    "builtin_function_or_method",
    "instance",
    "_Feature"
   ],
   "window_display": false
  }
 },
 "nbformat": 4,
 "nbformat_minor": 2
}
