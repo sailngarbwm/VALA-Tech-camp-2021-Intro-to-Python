{
 "cells": [
  {
   "cell_type": "markdown",
   "metadata": {
    "toc": true
   },
   "source": [
    "<h1>Table of Contents<span class=\"tocSkip\"></span></h1>\n",
    "<div class=\"toc\"><ul class=\"toc-item\"><li><span><a href=\"#New-Data-Storage-type:-Dictionaries\" data-toc-modified-id=\"New-Data-Storage-type:-Dictionaries-3\"><span class=\"toc-item-num\">3&nbsp;&nbsp;</span>New Data Storage type: Dictionaries</a></span><ul class=\"toc-item\"><li><ul class=\"toc-item\"><li><span><a href=\"#What-we-already-know\" data-toc-modified-id=\"What-we-already-know-3.0.1\"><span class=\"toc-item-num\">3.0.1&nbsp;&nbsp;</span>What we already know</a></span></li><li><span><a href=\"#Learning-Objectives\" data-toc-modified-id=\"Learning-Objectives-3.0.2\"><span class=\"toc-item-num\">3.0.2&nbsp;&nbsp;</span>Learning Objectives</a></span></li></ul></li><li><span><a href=\"#Dictionaries\" data-toc-modified-id=\"Dictionaries-3.1\"><span class=\"toc-item-num\">3.1&nbsp;&nbsp;</span>Dictionaries</a></span><ul class=\"toc-item\"><li><span><a href=\"#Put-data-into-the-dictionary-like-so:\" data-toc-modified-id=\"Put-data-into-the-dictionary-like-so:-3.1.1\"><span class=\"toc-item-num\">3.1.1&nbsp;&nbsp;</span>Put data into the dictionary like so:</a></span></li><li><span><a href=\"#Getting-your-value-from-your-dictionary\" data-toc-modified-id=\"Getting-your-value-from-your-dictionary-3.1.2\"><span class=\"toc-item-num\">3.1.2&nbsp;&nbsp;</span>Getting your value from your dictionary</a></span></li><li><span><a href=\"#Adding-and-deleting-from-your-dictionary\" data-toc-modified-id=\"Adding-and-deleting-from-your-dictionary-3.1.3\"><span class=\"toc-item-num\">3.1.3&nbsp;&nbsp;</span>Adding and deleting from your dictionary</a></span></li><li><span><a href=\"#What-about-deleting-a-record?\" data-toc-modified-id=\"What-about-deleting-a-record?-3.1.4\"><span class=\"toc-item-num\">3.1.4&nbsp;&nbsp;</span>What about deleting a record?</a></span></li></ul></li></ul></li></ul></div>"
   ]
  },
  {
   "cell_type": "markdown",
   "metadata": {
    "slideshow": {
     "slide_type": "slide"
    }
   },
   "source": [
    "# New Data Storage type: Dictionaries\n",
    "\n",
    "\n",
    "\n"
   ]
  },
  {
   "cell_type": "markdown",
   "metadata": {
    "slideshow": {
     "slide_type": "slide"
    }
   },
   "source": [
    "### What we already know\n",
    "- basic data types (ints, floats, strings)\n",
    "- Some functions and methods to manipulate these data types (i.e. type(), len(), str.upper())\n",
    "- where to put our data\n",
    "    - one piece of data within a variable\n",
    "    - multiple pieces of data within a list\n",
    "- and how to manipulate and build these variables and lists"
   ]
  },
  {
   "cell_type": "markdown",
   "metadata": {
    "slideshow": {
     "slide_type": "slide"
    }
   },
   "source": [
    "### Learning Objectives\n",
    "\n",
    "- Understand the underlying structure of a dictionary\n",
    "- Know how to access dictionary elements\n",
    "- Adding and deleting dictionary elements\n",
    "    - Describe the difference between del & pop()\n",
    "- Be able to describe when a situation is best suited for a dictionary vs. a list\n",
    "- Checking the existence of a key"
   ]
  },
  {
   "attachments": {
    "image.png": {
     "image/png": "[encoded data removed]"
    }
   },
   "cell_type": "markdown",
   "metadata": {
    "slideshow": {
     "slide_type": "slide"
    }
   },
   "source": [
    "## Dictionaries\n",
    "\n",
    "Dictionaries are another kind of data storage structure used by Python.\n",
    "\n",
    "Remember our List:\n",
    "\n",
    "![image.png](attachment:image.png)\n",
    "\n",
    "in which each item in a list is associated with an index.... In a dictionary, we essentially make our own indices, called keys!\n",
    "\n",
    "\n",
    "\n"
   ]
  },
  {
   "attachments": {
    "image.png": {
     "image/png": "[encoded data removed]"
    }
   },
   "cell_type": "markdown",
   "metadata": {
    "slideshow": {
     "slide_type": "slide"
    }
   },
   "source": [
    "\n",
    "A dictionary is an associative array. Each item in our list is associated with a key \n",
    "\n",
    "![image.png](attachment:image.png)\n"
   ]
  },
  {
   "cell_type": "markdown",
   "metadata": {
    "slideshow": {
     "slide_type": "slide"
    }
   },
   "source": [
    "#### Dictionary fun facts\n",
    "- rather than using an index, like a list, a dictionary uses \"keys\", typically strings or numbers, that you define. \n",
    "\n",
    "- Like a list, a dictionary can contain any kind of data type for it's values, even other dictionaries or lists! \n",
    "\n",
    "- Dictionaries consist of key-value-pairs, and as they can only be accessed using the 'key' names, they are unordered. \n",
    "\n",
    "- You can make a dictionary by using `dict()`, or `{}`\n"
   ]
  },
  {
   "cell_type": "code",
   "execution_count": null,
   "metadata": {
    "collapsed": true,
    "slideshow": {
     "slide_type": "slide"
    }
   },
   "outputs": [],
   "source": [
    "# An empty dictionary\n",
    "dict()\n",
    "{}"
   ]
  },
  {
   "cell_type": "markdown",
   "metadata": {
    "slideshow": {
     "slide_type": "slide"
    }
   },
   "source": [
    "### Put data into the dictionary like so:\n",
    "```python\n",
    "dictionary = {'key1':'value1','key2':'value2'......}\n",
    "```"
   ]
  },
  {
   "cell_type": "code",
   "execution_count": null,
   "metadata": {
    "collapsed": true,
    "slideshow": {
     "slide_type": "slide"
    }
   },
   "outputs": [],
   "source": [
    "# Live example add key values pairs as {key1:Val}\n",
    "\n",
    "yum = {'For Slams':['Double coat tim tam','tim tam']\n",
    "              ,'because I love peanuts':'Snickers',\n",
    "              'Because I love caramel':'Mars',\n",
    "              }\n",
    "yum"
   ]
  },
  {
   "cell_type": "code",
   "execution_count": null,
   "metadata": {
    "collapsed": true,
    "slideshow": {
     "slide_type": "slide"
    }
   },
   "outputs": [],
   "source": [
    "# An example of a dictionary with keys and values\n",
    "\n",
    "released = {    \n",
    "    \"iphone\" : 2005,\n",
    "    \"iPhone Pod\": 3010,\n",
    "    \"iphone3G\" : str(2004),    \n",
    "    \"iphone3GS\": str(2009),\n",
    "    \"iPhone Smart\": 2001,\n",
    "    \"iphone4\" : 2010,\n",
    "    \"iphone4S\": '2010',\n",
    "    'iPhone 4SS' : 2015\n",
    "}\n",
    "\n",
    "print(released)"
   ]
  },
  {
   "cell_type": "markdown",
   "metadata": {
    "slideshow": {
     "slide_type": "skip"
    }
   },
   "source": [
    "The great thing about dictionaries is that, like lists, the data stored inside of them can be any kind of data type.\n",
    "\n",
    "You can even store a dictionary inside a dictionary!"
   ]
  },
  {
   "cell_type": "markdown",
   "metadata": {
    "slideshow": {
     "slide_type": "slide"
    }
   },
   "source": [
    "### Getting your value from your dictionary\n",
    "- Very similar to a list\n",
    "- Except that you use a key instead of an index \n",
    "```python\n",
    "dictionary['key1'] #gives you value1\n",
    "```"
   ]
  },
  {
   "cell_type": "code",
   "execution_count": null,
   "metadata": {
    "collapsed": true,
    "slideshow": {
     "slide_type": "fragment"
    }
   },
   "outputs": [],
   "source": [
    "# Accessing your dictionary"
   ]
  },
  {
   "cell_type": "code",
   "execution_count": null,
   "metadata": {
    "collapsed": true,
    "slideshow": {
     "slide_type": "fragment"
    }
   },
   "outputs": [],
   "source": [
    "#get iphone from released"
   ]
  },
  {
   "cell_type": "markdown",
   "metadata": {
    "slideshow": {
     "slide_type": "slide"
    }
   },
   "source": [
    "In addition, just like a list, dictionaries are mutable! **like what if I got new candy?**"
   ]
  },
  {
   "cell_type": "code",
   "execution_count": null,
   "metadata": {
    "collapsed": true,
    "slideshow": {
     "slide_type": "fragment"
    }
   },
   "outputs": [],
   "source": [
    "# Dictionaries are mutable (they can be changed)\n",
    "yum['because I like peanuts even more'] ='picnic'\n",
    "print(yum)\n",
    "\n",
    "yum['because I like peanuts even more'] = 'empty'\n",
    "print(yum)\n",
    "\n"
   ]
  },
  {
   "cell_type": "code",
   "execution_count": null,
   "metadata": {
    "collapsed": true,
    "slideshow": {
     "slide_type": "fragment"
    }
   },
   "outputs": [],
   "source": [
    "#adding two values together\n",
    "yum['because I like peanuts even more'] = yum['because I like peanuts even more'] +yum['because I love peanuts']"
   ]
  },
  {
   "cell_type": "markdown",
   "metadata": {
    "slideshow": {
     "slide_type": "slide"
    }
   },
   "source": [
    "### Adding and deleting from your dictionary\n",
    "\n",
    "Adding to your dictionary is simple - you just \"call\" your dictionary with a new key name, and assign it a value.\n",
    "\n",
    "```python\n",
    "dictionary_name['new key'] = new_value\n",
    "```\n"
   ]
  },
  {
   "cell_type": "code",
   "execution_count": null,
   "metadata": {
    "collapsed": true,
    "slideshow": {
     "slide_type": "fragment"
    }
   },
   "outputs": [],
   "source": [
    "# Adding new elements\n",
    "print('released dict before',released)\n",
    "released['temporary'] = \"Temporary record\"\n",
    "\n",
    "released"
   ]
  },
  {
   "cell_type": "markdown",
   "metadata": {
    "slideshow": {
     "slide_type": "slide"
    }
   },
   "source": [
    "### What about deleting a record?\n",
    "- Similarly to how we delete items from lists\n",
    "- we can delete records from our dictionary using `.pop()` and `del`"
   ]
  },
  {
   "cell_type": "code",
   "execution_count": null,
   "metadata": {
    "collapsed": true,
    "slideshow": {
     "slide_type": "slide"
    }
   },
   "outputs": [],
   "source": [
    "# Deleting elements\n",
    "# same as lists, \"pop\" gives you the deleted element\n",
    "temp_vpair = released.pop(\"temporary\")\n",
    "temp_vpair"
   ]
  },
  {
   "cell_type": "code",
   "execution_count": null,
   "metadata": {
    "collapsed": true,
    "slideshow": {
     "slide_type": "fragment"
    }
   },
   "outputs": [],
   "source": [
    "# While del removes the key and value from the dictionary. \n",
    "del released[\"iphone4S\"]\n",
    "\n",
    "print('released without 4s',released)"
   ]
  },
  {
   "cell_type": "markdown",
   "metadata": {
    "slideshow": {
     "slide_type": "slide"
    }
   },
   "source": [
    "#### Challenge 8\n",
    "\n",
    "Find the correct release dates for the iPhone models (google!), and change the dates currently inside the dictionary. In addition, add the newest iPhone model and release date, and delete any records that don't actually exist on the market (e.g. 'iPhone Smart')"
   ]
  },
  {
   "cell_type": "code",
   "execution_count": null,
   "metadata": {
    "collapsed": true,
    "scrolled": true,
    "slideshow": {
     "slide_type": "slide"
    }
   },
   "outputs": [],
   "source": [
    "released\n",
    "\n",
    "\n"
   ]
  },
  {
   "cell_type": "code",
   "execution_count": null,
   "metadata": {
    "collapsed": true,
    "slideshow": {
     "slide_type": "slide"
    }
   },
   "outputs": [],
   "source": []
  },
  {
   "cell_type": "code",
   "execution_count": null,
   "metadata": {
    "collapsed": true,
    "slideshow": {
     "slide_type": "slide"
    }
   },
   "outputs": [],
   "source": []
  },
  {
   "cell_type": "code",
   "execution_count": null,
   "metadata": {
    "collapsed": true
   },
   "outputs": [],
   "source": []
  },
  {
   "cell_type": "markdown",
   "metadata": {
    "slideshow": {
     "slide_type": "slide"
    }
   },
   "source": [
    "#### What if we want to just see the keys? or just see the values of our  dictionary?\n",
    "\n",
    "##### Our Special dictionary object has special methods to do that\n",
    "\n",
    "```\n",
    "dict.keys()\n",
    "dict.values()\n",
    "\n",
    "``` "
   ]
  },
  {
   "cell_type": "code",
   "execution_count": null,
   "metadata": {
    "collapsed": true,
    "slideshow": {
     "slide_type": "fragment"
    }
   },
   "outputs": [],
   "source": [
    "temp_dict = {}\n",
    "temp_dict[\"temp\"] = \"temporary record\""
   ]
  },
  {
   "cell_type": "code",
   "execution_count": null,
   "metadata": {
    "collapsed": true,
    "slideshow": {
     "slide_type": "fragment"
    }
   },
   "outputs": [],
   "source": [
    "temp_dict.values()\n",
    "list(temp_dict.values())\n",
    "list(temp_dict.keys())"
   ]
  },
  {
   "cell_type": "markdown",
   "metadata": {
    "slideshow": {
     "slide_type": "slide"
    }
   },
   "source": [
    "What this does is give you a list that contains all of the values contained within your dictionary. As this is a list, you can thus use in/not in just as you would with a list!"
   ]
  },
  {
   "cell_type": "code",
   "execution_count": null,
   "metadata": {
    "collapsed": true,
    "slideshow": {
     "slide_type": "fragment"
    }
   },
   "outputs": [],
   "source": [
    "temp_dict.keys()"
   ]
  },
  {
   "cell_type": "markdown",
   "metadata": {
    "collapsed": true,
    "slideshow": {
     "slide_type": "slide"
    }
   },
   "source": [
    "#### Discussion Question\n",
    "Which would you store the following data set as a List or a Dictionary?\n",
    "\n",
    "    1.) output from a single datalogger\n",
    "    2.) Coefficients and p values from a statistical test\n",
    "    3.) metadata for a GIS file\n",
    "    1.) temperature values from a network of data loggers\n",
    "    \n",
    "\n",
    "\n",
    "\n"
   ]
  },
  {
   "cell_type": "code",
   "execution_count": null,
   "metadata": {
    "collapsed": true
   },
   "outputs": [],
   "source": []
  },
  {
   "cell_type": "code",
   "execution_count": null,
   "metadata": {
    "collapsed": true
   },
   "outputs": [],
   "source": []
  },
  {
   "cell_type": "code",
   "execution_count": null,
   "metadata": {
    "collapsed": true
   },
   "outputs": [],
   "source": []
  },
  {
   "cell_type": "code",
   "execution_count": null,
   "metadata": {
    "collapsed": true
   },
   "outputs": [],
   "source": []
  },
  {
   "cell_type": "code",
   "execution_count": null,
   "metadata": {
    "collapsed": true
   },
   "outputs": [],
   "source": []
  }
 ],
 "metadata": {
  "kernelspec": {
   "display_name": "Python 3",
   "language": "python",
   "name": "python3"
  },
  "language_info": {
   "codemirror_mode": {
    "name": "ipython",
    "version": 3
   },
   "file_extension": ".py",
   "mimetype": "text/x-python",
   "name": "python",
   "nbconvert_exporter": "python",
   "pygments_lexer": "ipython3",
   "version": "3.8.2"
  },
  "toc": {
   "base_numbering": "3",
   "nav_menu": {
    "height": "173px",
    "width": "252px"
   },
   "number_sections": true,
   "sideBar": false,
   "skip_h1_title": false,
   "title_cell": "Table of Contents",
   "title_sidebar": "Contents",
   "toc_cell": true,
   "toc_position": {
    "height": "200.977px",
    "left": "1105.76px",
    "right": "20px",
    "top": "225.988px",
    "width": "581.738px"
   },
   "toc_section_display": true,
   "toc_window_display": true
  },
  "varInspector": {
   "cols": {
    "lenName": 16,
    "lenType": 16,
    "lenVar": 40
   },
   "kernels_config": {
    "python": {
     "delete_cmd_postfix": "",
     "delete_cmd_prefix": "del ",
     "library": "var_list.py",
     "varRefreshCmd": "print(var_dic_list())"
    },
    "r": {
     "delete_cmd_postfix": ") ",
     "delete_cmd_prefix": "rm(",
     "library": "var_list.r",
     "varRefreshCmd": "cat(var_dic_list()) "
    }
   },
   "types_to_exclude": [
    "module",
    "function",
    "builtin_function_or_method",
    "instance",
    "_Feature"
   ],
   "window_display": false
  }
 },
 "nbformat": 4,
 "nbformat_minor": 2
}
