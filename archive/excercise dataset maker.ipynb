{
 "cells": [
  {
   "cell_type": "code",
   "execution_count": 1,
   "id": "boring-missouri",
   "metadata": {},
   "outputs": [
    {
     "name": "stdout",
     "output_type": "stream",
     "text": [
      "Requirement already satisfied: openpyxl in /Users/garberj/opt/anaconda3/envs/VALA/lib/python3.9/site-packages (3.0.7)\r\n",
      "Requirement already satisfied: et-xmlfile in /Users/garberj/opt/anaconda3/envs/VALA/lib/python3.9/site-packages (from openpyxl) (1.0.1)\r\n"
     ]
    }
   ],
   "source": [
    "!pip install openpyxl\n",
    "import pandas as pd\n",
    "from jgarber_respitch.workshop_tools import convert_df_row_to_dictionary\n"
   ]
  },
  {
   "cell_type": "code",
   "execution_count": 2,
   "id": "laughing-impression",
   "metadata": {},
   "outputs": [],
   "source": [
    "dataset = pd.read_excel('sample_xlsx_to_transform.xlsx')"
   ]
  },
  {
   "cell_type": "code",
   "execution_count": 3,
   "id": "indie-skill",
   "metadata": {},
   "outputs": [
    {
     "data": {
      "text/plain": [
       "['dc:title',\n",
       " 'dc:description',\n",
       " 'slvterms:fileName',\n",
       " 'dcterms:created',\n",
       " 'dc:format',\n",
       " 'dc:type',\n",
       " 'slvterms:genre',\n",
       " 'dc:rights',\n",
       " 'dcterms:accessrights',\n",
       " 'dc:identifier type = voyagerBibId',\n",
       " 'dc:creator',\n",
       " 'dcterms:isPartOf',\n",
       " 'ignore',\n",
       " 'dc:identifier type = accession number',\n",
       " 'Unnamed: 14',\n",
       " 'Unnamed: 15',\n",
       " 'ignore.1']"
      ]
     },
     "execution_count": 3,
     "metadata": {},
     "output_type": "execute_result"
    }
   ],
   "source": [
    "list(dataset.columns)"
   ]
  },
  {
   "cell_type": "code",
   "execution_count": 4,
   "id": "vulnerable-action",
   "metadata": {},
   "outputs": [
    {
     "data": {
      "text/plain": [
       "0      1980/1989\n",
       "1      1980/1989\n",
       "2      1980/1989\n",
       "3      1970/1989\n",
       "4      1970/1979\n",
       "         ...    \n",
       "152    1960/1969\n",
       "153    1970/1979\n",
       "154    1970/1979\n",
       "155    1970/1979\n",
       "156      1963-05\n",
       "Name: dcterms:created, Length: 157, dtype: object"
      ]
     },
     "execution_count": 4,
     "metadata": {},
     "output_type": "execute_result"
    }
   ],
   "source": [
    "dataset['dcterms:created']"
   ]
  },
  {
   "cell_type": "code",
   "execution_count": 5,
   "id": "southwest-discount",
   "metadata": {},
   "outputs": [],
   "source": [
    "name_converter = {\n",
    "            'dc:title':'titles',\n",
    "            'dc:description':'descriptions',\n",
    "            'dc:creator':'creators',\n",
    "            'dc:type':'types',\n",
    "            'dc:rights':'rights',\n",
    "            'dc:format':'formats',\n",
    "            'dcterms:created':'dates',\n",
    "}"
   ]
  },
  {
   "cell_type": "code",
   "execution_count": 6,
   "id": "emotional-march",
   "metadata": {},
   "outputs": [],
   "source": [
    "ds_mild = dataset.sample(100)"
   ]
  },
  {
   "cell_type": "code",
   "execution_count": 7,
   "id": "measured-threshold",
   "metadata": {},
   "outputs": [],
   "source": [
    "ds_mild = ds_mild.rename(columns=name_converter)"
   ]
  },
  {
   "cell_type": "code",
   "execution_count": 8,
   "id": "christian-feedback",
   "metadata": {},
   "outputs": [],
   "source": [
    "ds_mild = ds_mild[list(name_converter.values())]"
   ]
  },
  {
   "cell_type": "code",
   "execution_count": 26,
   "id": "administrative-attribute",
   "metadata": {},
   "outputs": [],
   "source": [
    "ds_mild.to_csv('exercise_data/mild_DC_dataset.csv', index=False)"
   ]
  },
  {
   "cell_type": "code",
   "execution_count": 10,
   "id": "structured-macro",
   "metadata": {},
   "outputs": [],
   "source": [
    "ds_medium = dataset.sample(100)"
   ]
  },
  {
   "cell_type": "code",
   "execution_count": 11,
   "id": "fifth-liability",
   "metadata": {},
   "outputs": [],
   "source": [
    "ds_medium = ds_medium[list(name_converter.keys())]"
   ]
  },
  {
   "cell_type": "code",
   "execution_count": 25,
   "id": "major-quick",
   "metadata": {},
   "outputs": [],
   "source": [
    "ds_medium.to_csv('exercise_data/medium_DC_dataset.csv', index=False)"
   ]
  },
  {
   "cell_type": "code",
   "execution_count": 13,
   "id": "fleet-links",
   "metadata": {},
   "outputs": [],
   "source": [
    "from dcxml import simpledc"
   ]
  },
  {
   "cell_type": "code",
   "execution_count": 14,
   "id": "precious-landscape",
   "metadata": {},
   "outputs": [
    {
     "ename": "TypeError",
     "evalue": "unsupported type: <class 'str'>",
     "output_type": "error",
     "traceback": [
      "\u001b[0;31m---------------------------------------------------------------------------\u001b[0m",
      "\u001b[0;31mTypeError\u001b[0m                                 Traceback (most recent call last)",
      "\u001b[0;32m<ipython-input-14-c3da1fd14c14>\u001b[0m in \u001b[0;36m<module>\u001b[0;34m\u001b[0m\n\u001b[0;32m----> 1\u001b[0;31m \u001b[0mxml\u001b[0m \u001b[0;34m=\u001b[0m \u001b[0msimpledc\u001b[0m\u001b[0;34m.\u001b[0m\u001b[0mtostring\u001b[0m\u001b[0;34m(\u001b[0m\u001b[0mds_mild\u001b[0m\u001b[0;34m.\u001b[0m\u001b[0miloc\u001b[0m\u001b[0;34m[\u001b[0m\u001b[0;36m1\u001b[0m\u001b[0;34m]\u001b[0m\u001b[0;34m.\u001b[0m\u001b[0mto_dict\u001b[0m\u001b[0;34m(\u001b[0m\u001b[0;34m'list'\u001b[0m\u001b[0;34m)\u001b[0m\u001b[0;34m)\u001b[0m\u001b[0;34m\u001b[0m\u001b[0;34m\u001b[0m\u001b[0m\n\u001b[0m\u001b[1;32m      2\u001b[0m \u001b[0mprint\u001b[0m\u001b[0;34m(\u001b[0m\u001b[0mxml\u001b[0m\u001b[0;34m)\u001b[0m\u001b[0;34m\u001b[0m\u001b[0;34m\u001b[0m\u001b[0m\n",
      "\u001b[0;32m~/opt/anaconda3/envs/VALA/lib/python3.9/site-packages/pandas/core/series.py\u001b[0m in \u001b[0;36mto_dict\u001b[0;34m(self, into)\u001b[0m\n\u001b[1;32m   1555\u001b[0m         \"\"\"\n\u001b[1;32m   1556\u001b[0m         \u001b[0;31m# GH16122\u001b[0m\u001b[0;34m\u001b[0m\u001b[0;34m\u001b[0m\u001b[0;34m\u001b[0m\u001b[0m\n\u001b[0;32m-> 1557\u001b[0;31m         \u001b[0minto_c\u001b[0m \u001b[0;34m=\u001b[0m \u001b[0mcom\u001b[0m\u001b[0;34m.\u001b[0m\u001b[0mstandardize_mapping\u001b[0m\u001b[0;34m(\u001b[0m\u001b[0minto\u001b[0m\u001b[0;34m)\u001b[0m\u001b[0;34m\u001b[0m\u001b[0;34m\u001b[0m\u001b[0m\n\u001b[0m\u001b[1;32m   1558\u001b[0m         \u001b[0;32mreturn\u001b[0m \u001b[0minto_c\u001b[0m\u001b[0;34m(\u001b[0m\u001b[0mself\u001b[0m\u001b[0;34m.\u001b[0m\u001b[0mitems\u001b[0m\u001b[0;34m(\u001b[0m\u001b[0;34m)\u001b[0m\u001b[0;34m)\u001b[0m\u001b[0;34m\u001b[0m\u001b[0;34m\u001b[0m\u001b[0m\n\u001b[1;32m   1559\u001b[0m \u001b[0;34m\u001b[0m\u001b[0m\n",
      "\u001b[0;32m~/opt/anaconda3/envs/VALA/lib/python3.9/site-packages/pandas/core/common.py\u001b[0m in \u001b[0;36mstandardize_mapping\u001b[0;34m(into)\u001b[0m\n\u001b[1;32m    358\u001b[0m         \u001b[0minto\u001b[0m \u001b[0;34m=\u001b[0m \u001b[0mtype\u001b[0m\u001b[0;34m(\u001b[0m\u001b[0minto\u001b[0m\u001b[0;34m)\u001b[0m\u001b[0;34m\u001b[0m\u001b[0;34m\u001b[0m\u001b[0m\n\u001b[1;32m    359\u001b[0m     \u001b[0;32mif\u001b[0m \u001b[0;32mnot\u001b[0m \u001b[0missubclass\u001b[0m\u001b[0;34m(\u001b[0m\u001b[0minto\u001b[0m\u001b[0;34m,\u001b[0m \u001b[0mabc\u001b[0m\u001b[0;34m.\u001b[0m\u001b[0mMapping\u001b[0m\u001b[0;34m)\u001b[0m\u001b[0;34m:\u001b[0m\u001b[0;34m\u001b[0m\u001b[0;34m\u001b[0m\u001b[0m\n\u001b[0;32m--> 360\u001b[0;31m         \u001b[0;32mraise\u001b[0m \u001b[0mTypeError\u001b[0m\u001b[0;34m(\u001b[0m\u001b[0;34mf\"unsupported type: {into}\"\u001b[0m\u001b[0;34m)\u001b[0m\u001b[0;34m\u001b[0m\u001b[0;34m\u001b[0m\u001b[0m\n\u001b[0m\u001b[1;32m    361\u001b[0m     \u001b[0;32melif\u001b[0m \u001b[0minto\u001b[0m \u001b[0;34m==\u001b[0m \u001b[0mdefaultdict\u001b[0m\u001b[0;34m:\u001b[0m\u001b[0;34m\u001b[0m\u001b[0;34m\u001b[0m\u001b[0m\n\u001b[1;32m    362\u001b[0m         \u001b[0;32mraise\u001b[0m \u001b[0mTypeError\u001b[0m\u001b[0;34m(\u001b[0m\u001b[0;34m\"to_dict() only accepts initialized defaultdicts\"\u001b[0m\u001b[0;34m)\u001b[0m\u001b[0;34m\u001b[0m\u001b[0;34m\u001b[0m\u001b[0m\n",
      "\u001b[0;31mTypeError\u001b[0m: unsupported type: <class 'str'>"
     ]
    }
   ],
   "source": [
    "xml = simpledc.tostring(ds_mild.iloc[1].to_dict('list'))\n",
    "print(xml)"
   ]
  },
  {
   "cell_type": "code",
   "execution_count": 15,
   "id": "according-checklist",
   "metadata": {},
   "outputs": [
    {
     "data": {
      "text/plain": [
       "titles          object\n",
       "descriptions    object\n",
       "creators        object\n",
       "types           object\n",
       "rights          object\n",
       "formats         object\n",
       "dates           object\n",
       "dtype: object"
      ]
     },
     "execution_count": 15,
     "metadata": {},
     "output_type": "execute_result"
    }
   ],
   "source": [
    "ds_mild.dtypes"
   ]
  },
  {
   "cell_type": "code",
   "execution_count": 16,
   "id": "julian-distributor",
   "metadata": {},
   "outputs": [],
   "source": [
    "ds_mi_dict = ds_mild.to_dict('list')"
   ]
  },
  {
   "cell_type": "code",
   "execution_count": 17,
   "id": "obvious-bandwidth",
   "metadata": {},
   "outputs": [],
   "source": [
    "for key in ds_mi_dict.keys():\n",
    "    for value in ds_mi_dict[key]:\n",
    "        if (type(value) == float) or (type(value) == int):\n",
    "            print(key, value)"
   ]
  },
  {
   "cell_type": "code",
   "execution_count": 18,
   "id": "academic-conservative",
   "metadata": {},
   "outputs": [
    {
     "name": "stdout",
     "output_type": "stream",
     "text": [
      "<?xml version='1.0' encoding='utf-8'?>\n",
      "<oai_dc:dc xmlns:dc=\"http://purl.org/dc/elements/1.1/\" xmlns:oai_dc=\"http://www.openarchives.org/OAI/2.0/oai_dc/\" xmlns:xsi=\"http://www.w3.org/2001/XMLSchema-instance\" xsi:schemaLocation=\"http://www.openarchives.org/OAI/2.0/oai_dc/ http://www.openarchives.org/OAI/2.0/oai_dc.xsd\"/>\n",
      "\n"
     ]
    }
   ],
   "source": [
    "print(simpledc.tostring(ds_mild.loc[68].to_frame().to_dict('list')))"
   ]
  },
  {
   "cell_type": "code",
   "execution_count": 19,
   "id": "heavy-concentration",
   "metadata": {},
   "outputs": [],
   "source": [
    "tdict = ds_mild.loc[68].to_dict()\n",
    "\n",
    "for key in tdict.keys():\n",
    "    tdict[key] = [tdict[key]]"
   ]
  },
  {
   "cell_type": "code",
   "execution_count": 23,
   "id": "informative-theater",
   "metadata": {},
   "outputs": [
    {
     "name": "stdout",
     "output_type": "stream",
     "text": [
      "<?xml version='1.0' encoding='utf-8'?>\n",
      "<oai_dc:dc xmlns:dc=\"http://purl.org/dc/elements/1.1/\" xmlns:oai_dc=\"http://www.openarchives.org/OAI/2.0/oai_dc/\" xmlns:xsi=\"http://www.w3.org/2001/XMLSchema-instance\" xsi:schemaLocation=\"http://www.openarchives.org/OAI/2.0/oai_dc/ http://www.openarchives.org/OAI/2.0/oai_dc.xsd\">\n",
      "  <dc:creator>Diaz, Maggie,1925-2016, photographer.</dc:creator>\n",
      "  <dc:date>1970/1979</dc:date>\n",
      "  <dc:description>Includes a woman wearing a navy blue scarf, small girl with blue dress, family group walking through gardens.</dc:description>\n",
      "  <dc:format>TIFF</dc:format>\n",
      "  <dc:rights>This work is in copyright.</dc:rights>\n",
      "  <dc:title>Family portraits.</dc:title>\n",
      "  <dc:type>StillImage</dc:type>\n",
      "</oai_dc:dc>\n",
      "\n"
     ]
    }
   ],
   "source": [
    "print(simpledc.tostring(convert_df_row_to_dictionary(ds_mild,36)))"
   ]
  },
  {
   "cell_type": "code",
   "execution_count": 24,
   "id": "opening-statement",
   "metadata": {},
   "outputs": [
    {
     "data": {
      "text/plain": [
       "{'titles': ['Family portraits.'],\n",
       " 'descriptions': ['Includes a woman wearing a navy blue scarf, small girl with blue dress, family group walking through gardens.'],\n",
       " 'creators': ['Diaz, Maggie,1925-2016, photographer.'],\n",
       " 'types': ['StillImage'],\n",
       " 'rights': ['This work is in copyright.'],\n",
       " 'formats': ['TIFF'],\n",
       " 'dates': ['1970/1979']}"
      ]
     },
     "execution_count": 24,
     "metadata": {},
     "output_type": "execute_result"
    }
   ],
   "source": [
    "convert_df_row_to_dictionary(ds_mild,36)"
   ]
  },
  {
   "cell_type": "code",
   "execution_count": 22,
   "id": "communist-complexity",
   "metadata": {},
   "outputs": [
    {
     "data": {
      "text/html": [
       "<div>\n",
       "<style scoped>\n",
       "    .dataframe tbody tr th:only-of-type {\n",
       "        vertical-align: middle;\n",
       "    }\n",
       "\n",
       "    .dataframe tbody tr th {\n",
       "        vertical-align: top;\n",
       "    }\n",
       "\n",
       "    .dataframe thead th {\n",
       "        text-align: right;\n",
       "    }\n",
       "</style>\n",
       "<table border=\"1\" class=\"dataframe\">\n",
       "  <thead>\n",
       "    <tr style=\"text-align: right;\">\n",
       "      <th></th>\n",
       "      <th>titles</th>\n",
       "      <th>descriptions</th>\n",
       "      <th>creators</th>\n",
       "      <th>types</th>\n",
       "      <th>rights</th>\n",
       "      <th>formats</th>\n",
       "      <th>dates</th>\n",
       "    </tr>\n",
       "  </thead>\n",
       "  <tbody>\n",
       "    <tr>\n",
       "      <th>4</th>\n",
       "      <td>Doug Smith and Liz, John Knox Church.</td>\n",
       "      <td>Portraits of Doug and Liz Smith and two boys.</td>\n",
       "      <td>Diaz, Maggie,1925-2016, photographer.</td>\n",
       "      <td>StillImage</td>\n",
       "      <td>This work is in copyright.</td>\n",
       "      <td>TIFF</td>\n",
       "      <td>1970/1979</td>\n",
       "    </tr>\n",
       "    <tr>\n",
       "      <th>79</th>\n",
       "      <td>Charm class, Lower North Centre, Chicago, Unit...</td>\n",
       "      <td>Portrait photographs of young African American...</td>\n",
       "      <td>Diaz, Maggie,1925-2016, photographer.</td>\n",
       "      <td>StillImage</td>\n",
       "      <td>This work is in copyright.</td>\n",
       "      <td>TIFF</td>\n",
       "      <td>1953/1961</td>\n",
       "    </tr>\n",
       "    <tr>\n",
       "      <th>88</th>\n",
       "      <td>Charm class, Lower North Centre, Chicago, Unit...</td>\n",
       "      <td>Portrait photographs of young African American...</td>\n",
       "      <td>Diaz, Maggie,1925-2016, photographer.</td>\n",
       "      <td>StillImage</td>\n",
       "      <td>This work is in copyright.</td>\n",
       "      <td>TIFF</td>\n",
       "      <td>1953/1961</td>\n",
       "    </tr>\n",
       "    <tr>\n",
       "      <th>1</th>\n",
       "      <td>Wedding of Vivian Jarny [or Garny?].</td>\n",
       "      <td>Includes bride and groom, attendants and guest...</td>\n",
       "      <td>Diaz, Maggie,1925-2016, photographer.</td>\n",
       "      <td>StillImage</td>\n",
       "      <td>This work is in copyright.</td>\n",
       "      <td>TIFF</td>\n",
       "      <td>1980/1989</td>\n",
       "    </tr>\n",
       "    <tr>\n",
       "      <th>117</th>\n",
       "      <td>Performance with maritime theme at La Mama, di...</td>\n",
       "      <td>Includes other images of same actors in differ...</td>\n",
       "      <td>Diaz, Maggie,1925-2016, photographer.</td>\n",
       "      <td>StillImage</td>\n",
       "      <td>This work is in copyright.</td>\n",
       "      <td>TIFF</td>\n",
       "      <td>1990/1999</td>\n",
       "    </tr>\n",
       "    <tr>\n",
       "      <th>...</th>\n",
       "      <td>...</td>\n",
       "      <td>...</td>\n",
       "      <td>...</td>\n",
       "      <td>...</td>\n",
       "      <td>...</td>\n",
       "      <td>...</td>\n",
       "      <td>...</td>\n",
       "    </tr>\n",
       "    <tr>\n",
       "      <th>73</th>\n",
       "      <td>Charm class, Lower North Centre, Chicago, Unit...</td>\n",
       "      <td>Portrait photographs of young African American...</td>\n",
       "      <td>Diaz, Maggie,1925-2016, photographer.</td>\n",
       "      <td>StillImage</td>\n",
       "      <td>This work is in copyright.</td>\n",
       "      <td>TIFF</td>\n",
       "      <td>1953/1961</td>\n",
       "    </tr>\n",
       "    <tr>\n",
       "      <th>108</th>\n",
       "      <td>Charm class, Lower North Centre, Chicago, Unit...</td>\n",
       "      <td>Portrait photographs of young African American...</td>\n",
       "      <td>Diaz, Maggie,1925-2016, photographer.</td>\n",
       "      <td>StillImage</td>\n",
       "      <td>This work is in copyright.</td>\n",
       "      <td>TIFF</td>\n",
       "      <td>1953/1961</td>\n",
       "    </tr>\n",
       "    <tr>\n",
       "      <th>104</th>\n",
       "      <td>Charm class, Lower North Centre, Chicago, Unit...</td>\n",
       "      <td>Portrait photographs of young African American...</td>\n",
       "      <td>Diaz, Maggie,1925-2016, photographer.</td>\n",
       "      <td>StillImage</td>\n",
       "      <td>This work is in copyright.</td>\n",
       "      <td>TIFF</td>\n",
       "      <td>1953/1961</td>\n",
       "    </tr>\n",
       "    <tr>\n",
       "      <th>90</th>\n",
       "      <td>Charm class, Lower North Centre, Chicago, Unit...</td>\n",
       "      <td>Portrait photographs of young African American...</td>\n",
       "      <td>Diaz, Maggie,1925-2016, photographer.</td>\n",
       "      <td>StillImage</td>\n",
       "      <td>This work is in copyright.</td>\n",
       "      <td>TIFF</td>\n",
       "      <td>1953/1961</td>\n",
       "    </tr>\n",
       "    <tr>\n",
       "      <th>156</th>\n",
       "      <td>Grants Whisky.</td>\n",
       "      <td>Advertising images for Grants Whisky, includin...</td>\n",
       "      <td>Diaz, Maggie,1925-2016, photographer.</td>\n",
       "      <td>StillImage</td>\n",
       "      <td>This work is in copyright.</td>\n",
       "      <td>TIFF</td>\n",
       "      <td>1963-05</td>\n",
       "    </tr>\n",
       "  </tbody>\n",
       "</table>\n",
       "<p>100 rows × 7 columns</p>\n",
       "</div>"
      ],
      "text/plain": [
       "                                                titles  \\\n",
       "4                Doug Smith and Liz, John Knox Church.   \n",
       "79   Charm class, Lower North Centre, Chicago, Unit...   \n",
       "88   Charm class, Lower North Centre, Chicago, Unit...   \n",
       "1                 Wedding of Vivian Jarny [or Garny?].   \n",
       "117  Performance with maritime theme at La Mama, di...   \n",
       "..                                                 ...   \n",
       "73   Charm class, Lower North Centre, Chicago, Unit...   \n",
       "108  Charm class, Lower North Centre, Chicago, Unit...   \n",
       "104  Charm class, Lower North Centre, Chicago, Unit...   \n",
       "90   Charm class, Lower North Centre, Chicago, Unit...   \n",
       "156                                     Grants Whisky.   \n",
       "\n",
       "                                          descriptions  \\\n",
       "4        Portraits of Doug and Liz Smith and two boys.   \n",
       "79   Portrait photographs of young African American...   \n",
       "88   Portrait photographs of young African American...   \n",
       "1    Includes bride and groom, attendants and guest...   \n",
       "117  Includes other images of same actors in differ...   \n",
       "..                                                 ...   \n",
       "73   Portrait photographs of young African American...   \n",
       "108  Portrait photographs of young African American...   \n",
       "104  Portrait photographs of young African American...   \n",
       "90   Portrait photographs of young African American...   \n",
       "156  Advertising images for Grants Whisky, includin...   \n",
       "\n",
       "                                  creators       types  \\\n",
       "4    Diaz, Maggie,1925-2016, photographer.  StillImage   \n",
       "79   Diaz, Maggie,1925-2016, photographer.  StillImage   \n",
       "88   Diaz, Maggie,1925-2016, photographer.  StillImage   \n",
       "1    Diaz, Maggie,1925-2016, photographer.  StillImage   \n",
       "117  Diaz, Maggie,1925-2016, photographer.  StillImage   \n",
       "..                                     ...         ...   \n",
       "73   Diaz, Maggie,1925-2016, photographer.  StillImage   \n",
       "108  Diaz, Maggie,1925-2016, photographer.  StillImage   \n",
       "104  Diaz, Maggie,1925-2016, photographer.  StillImage   \n",
       "90   Diaz, Maggie,1925-2016, photographer.  StillImage   \n",
       "156  Diaz, Maggie,1925-2016, photographer.  StillImage   \n",
       "\n",
       "                         rights formats      dates  \n",
       "4    This work is in copyright.    TIFF  1970/1979  \n",
       "79   This work is in copyright.    TIFF  1953/1961  \n",
       "88   This work is in copyright.    TIFF  1953/1961  \n",
       "1    This work is in copyright.    TIFF  1980/1989  \n",
       "117  This work is in copyright.    TIFF  1990/1999  \n",
       "..                          ...     ...        ...  \n",
       "73   This work is in copyright.    TIFF  1953/1961  \n",
       "108  This work is in copyright.    TIFF  1953/1961  \n",
       "104  This work is in copyright.    TIFF  1953/1961  \n",
       "90   This work is in copyright.    TIFF  1953/1961  \n",
       "156  This work is in copyright.    TIFF    1963-05  \n",
       "\n",
       "[100 rows x 7 columns]"
      ]
     },
     "execution_count": 22,
     "metadata": {},
     "output_type": "execute_result"
    }
   ],
   "source": [
    "ds_mild"
   ]
  },
  {
   "cell_type": "code",
   "execution_count": null,
   "id": "mature-strength",
   "metadata": {},
   "outputs": [],
   "source": []
  },
  {
   "cell_type": "code",
   "execution_count": null,
   "id": "civic-violin",
   "metadata": {},
   "outputs": [],
   "source": []
  },
  {
   "cell_type": "code",
   "execution_count": null,
   "id": "environmental-academy",
   "metadata": {},
   "outputs": [],
   "source": []
  }
 ],
 "metadata": {
  "kernelspec": {
   "display_name": "Python 3",
   "language": "python",
   "name": "python3"
  },
  "language_info": {
   "codemirror_mode": {
    "name": "ipython",
    "version": 3
   },
   "file_extension": ".py",
   "mimetype": "text/x-python",
   "name": "python",
   "nbconvert_exporter": "python",
   "pygments_lexer": "ipython3",
   "version": "3.9.2"
  }
 },
 "nbformat": 4,
 "nbformat_minor": 5
}
