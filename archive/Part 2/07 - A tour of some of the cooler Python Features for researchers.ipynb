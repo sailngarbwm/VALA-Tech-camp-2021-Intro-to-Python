{
 "cells": [
  {
   "cell_type": "markdown",
   "metadata": {
    "slideshow": {
     "slide_type": "slide"
    }
   },
   "source": [
    "# So What next? A quick tour of some useful libraries for research"
   ]
  },
  {
   "cell_type": "markdown",
   "metadata": {
    "slideshow": {
     "slide_type": "slide"
    }
   },
   "source": [
    "### What we already know\n",
    "- basic data types (ints, floats, strings, booleans)\n",
    "- Some functions and methods to manipulate these data types (i.e. type(), len(), str.upper())\n",
    "- where to put our data (Variables, Lists, Dictionaries\n",
    "- and how to manipulate and build these variables and lists\n",
    "- How to create, store, and use data in a dictionary\n",
    "- Use conditional statements to allow the computer to choose when to execute certain commands\n",
    "- use loops so that the computer can repeat the brilliant code you have written for it\n",
    "- Made your own functions!"
   ]
  },
  {
   "cell_type": "markdown",
   "metadata": {
    "slideshow": {
     "slide_type": "slide"
    }
   },
   "source": [
    "__Learning Objectives__:\n",
    "\n",
    "- Use our first Packages to work with numbers!\n",
    "- Upload some text\n",
    "- Use some more Packages to analyse our text!"
   ]
  },
  {
   "cell_type": "markdown",
   "metadata": {
    "slideshow": {
     "slide_type": "slide"
    }
   },
   "source": [
    "## In summary we have barely scratched the surface of Python's capabilities"
   ]
  },
  {
   "cell_type": "markdown",
   "metadata": {
    "slideshow": {
     "slide_type": "slide"
    }
   },
   "source": [
    "### Thats not to sell us short, we have learned some of the classic concepts in Computer Programming, that are applicable to all computer languages, (Even our best frenemy R) \n",
    "\n",
    "- Its just all about where you put your tabs,commas, colons etc.....\n",
    "\n",
    "- And you can probably still do just about anything with the tools we have now... you would just have to type a lot of code"
   ]
  },
  {
   "cell_type": "markdown",
   "metadata": {
    "slideshow": {
     "slide_type": "slide"
    }
   },
   "source": [
    "### Back to our Kitchen metaphor... We have a very basic kitchen right now for our Pydog to work with, and he could make toast in the oven right?\n",
    "\n",
    "<center><img src=\"https://gitlab.unimelb.edu.au/rescom-training/python/introduction-to-python-for-researchers/-/raw/master/Imbedded%20Pics/toast_in_oven.jpg\" alt=\"dr_evil\" style=\"width:auto;height:40vh\"></center>\n",
    "\n"
   ]
  },
  {
   "cell_type": "markdown",
   "metadata": {
    "slideshow": {
     "slide_type": "slide"
    }
   },
   "source": [
    "### But wouldn't it be easier and more efficient to make it in a toaster?\n",
    "\n",
    "<center><img src=\"https://gitlab.unimelb.edu.au/rescom-training/python/introduction-to-python-for-researchers/-/raw/master/Imbedded%20Pics/happytoast.jpg\" alt=\"dr_evil\" style=\"width:auto;height:70vh\"></center>\n",
    "\n"
   ]
  },
  {
   "cell_type": "markdown",
   "metadata": {
    "slideshow": {
     "slide_type": "slide"
    }
   },
   "source": [
    "## Luckily, heaps of people have crafted the Python Equivalent of Toasters, Garlic Presses, Mandoline Slicers, etc etc....\n",
    "\n",
    "- And we are lucky, When people code up fancier *Packages*, they ***inherit*** their features from our old mates the ***list***, and the ***dictionary***, the ***methods, mutability, iterability, sliceability, etc.*** so you practically already know how to use them!!!\n",
    "\n"
   ]
  },
  {
   "cell_type": "markdown",
   "metadata": {
    "slideshow": {
     "slide_type": "slide"
    }
   },
   "source": [
    "**Example** Since lists are a lot like excel spreadsheet columns, lets do some maths with two lists and see what happens"
   ]
  },
  {
   "cell_type": "code",
   "execution_count": null,
   "metadata": {
    "slideshow": {
     "slide_type": "fragment"
    }
   },
   "outputs": [],
   "source": [
    "# lets just add these two guys together\n",
    "xs = [1,2,3,4,5]\n",
    "ys = [100,200,300,400,500]\n",
    "xs+ys"
   ]
  },
  {
   "cell_type": "markdown",
   "metadata": {
    "slideshow": {
     "slide_type": "fragment"
    }
   },
   "source": [
    "uh oh! looks like + just means append the two lists together in python"
   ]
  },
  {
   "cell_type": "code",
   "execution_count": null,
   "metadata": {
    "slideshow": {
     "slide_type": "fragment"
    }
   },
   "outputs": [],
   "source": [
    "\"kind of \"+\"like\"+\" strings!\""
   ]
  },
  {
   "cell_type": "code",
   "execution_count": null,
   "metadata": {
    "slideshow": {
     "slide_type": "slide"
    }
   },
   "outputs": [],
   "source": [
    "# we could do a one liner list comprehension With a new function callez zip - which literally zips up the items in the list\n",
    "z = [x+y for x, y in zip(xs,ys)]\n",
    "z"
   ]
  },
  {
   "cell_type": "markdown",
   "metadata": {
    "slideshow": {
     "slide_type": "fragment"
    }
   },
   "source": [
    "####  but that thing is bloody annoying if we want to do a lot of maths on lists, luckily, lots of people have agreed with me and have invented Numpy and Scipy, your open source replacement for MATLAB!"
   ]
  },
  {
   "cell_type": "code",
   "execution_count": null,
   "metadata": {
    "collapsed": true,
    "slideshow": {
     "slide_type": "slide"
    }
   },
   "outputs": [],
   "source": [
    "# Finally going to get our PyToaster out!!!!\n",
    "import numpy as np # Note the as np part means I have given this package a nickname"
   ]
  },
  {
   "cell_type": "code",
   "execution_count": null,
   "metadata": {
    "slideshow": {
     "slide_type": "fragment"
    }
   },
   "outputs": [],
   "source": [
    "xar = np.array(xs)\n",
    "yar = np.array(ys)\n",
    "\n",
    "zar = xar+yar\n",
    "\n",
    "zar"
   ]
  },
  {
   "cell_type": "code",
   "execution_count": null,
   "metadata": {
    "slideshow": {
     "slide_type": "slide"
    }
   },
   "outputs": [],
   "source": [
    "# and its pretty much just like a list!!\n",
    "\n",
    "zar[-1]-zar[0:3]"
   ]
  },
  {
   "cell_type": "code",
   "execution_count": null,
   "metadata": {
    "slideshow": {
     "slide_type": "slide"
    }
   },
   "outputs": [],
   "source": [
    "# However, numpy arrays have more rules to live by, i.e. they really need all of the same data type to be useful\n",
    "\n",
    "xs = np.array([1,2,'3'])\n",
    "\n",
    "print('type for item 0', type(xs[0]))\n",
    "print('type for item 2', type(xs[2]))"
   ]
  },
  {
   "cell_type": "markdown",
   "metadata": {
    "slideshow": {
     "slide_type": "slide"
    }
   },
   "source": [
    "### Numpy has piles and piles of other awesome things associated with it but we don't have time to get into them\n",
    "- and the cost is we have to be more careful about what kind of data get put into an array"
   ]
  },
  {
   "cell_type": "code",
   "execution_count": null,
   "metadata": {},
   "outputs": [],
   "source": [
    "# But loading data is as easy as a function\n",
    "\n",
    "# just remember Python is looking for that filename in the same folder as the jupyter notebook\n",
    "data = np.loadtxt('rando_data.csv', delimiter= ',') \n",
    "\n",
    "# numpy arrays can have multiple dimensions\n",
    "print(data.shape)"
   ]
  },
  {
   "cell_type": "code",
   "execution_count": null,
   "metadata": {},
   "outputs": [],
   "source": [
    "# and can easily be plotted with matplotlib\n",
    "\n",
    "%matplotlib inline \n",
    "import matplotlib.pyplot as plt\n",
    "\n",
    "plt.imshow(data)\n"
   ]
  },
  {
   "cell_type": "markdown",
   "metadata": {
    "slideshow": {
     "slide_type": "slide"
    }
   },
   "source": [
    "## But what if we have whole spreadsheets of data? Then make friends with Pandas!\n",
    "\n",
    "While handy for a lot of things, pandas is the gold standard for reading in spreadsheets in Python these days"
   ]
  },
  {
   "cell_type": "code",
   "execution_count": null,
   "metadata": {
    "slideshow": {
     "slide_type": "slide"
    }
   },
   "outputs": [],
   "source": [
    "import pandas as pd\n",
    "\n",
    "# this file is in the same folder as the notebook\n",
    "df = pd.read_csv(\"iris.csv\")\n",
    "\n",
    "df.head()"
   ]
  },
  {
   "cell_type": "markdown",
   "metadata": {
    "slideshow": {
     "slide_type": "slide"
    }
   },
   "source": [
    "And you can really just think of it as a dictionary, full of numpy arrays"
   ]
  },
  {
   "cell_type": "code",
   "execution_count": null,
   "metadata": {
    "slideshow": {
     "slide_type": "fragment"
    }
   },
   "outputs": [],
   "source": [
    "# pull out one of the columns\n",
    "df['sepal_length'][3]"
   ]
  },
  {
   "cell_type": "markdown",
   "metadata": {
    "slideshow": {
     "slide_type": "slide"
    }
   },
   "source": [
    "### Pandas has some awesome one line functionality"
   ]
  },
  {
   "cell_type": "code",
   "execution_count": null,
   "metadata": {
    "slideshow": {
     "slide_type": "fragment"
    }
   },
   "outputs": [],
   "source": [
    "df.describe()"
   ]
  },
  {
   "cell_type": "code",
   "execution_count": null,
   "metadata": {
    "slideshow": {
     "slide_type": "slide"
    }
   },
   "outputs": [],
   "source": [
    "# one line plotting functionality\n",
    "# note need to write this for Jupyter to make plots appear\n",
    "%matplotlib inline \n",
    "\n",
    "# quickly histogram all of your data\n",
    "df.hist()"
   ]
  },
  {
   "cell_type": "code",
   "execution_count": null,
   "metadata": {},
   "outputs": [],
   "source": [
    "# With seaborn we can make even better looking graphs!\n",
    "import seaborn as sns\n",
    "import matplotlib.pyplot as plt\n",
    "\n",
    "g = sns.PairGrid(df, hue=\"species\")\n",
    "g = g.map_diag(plt.hist)\n",
    "g = g.map_offdiag(plt.scatter)\n",
    "g = g.add_legend()"
   ]
  },
  {
   "cell_type": "markdown",
   "metadata": {
    "slideshow": {
     "slide_type": "slide"
    }
   },
   "source": [
    "### Challenge at home: But what if we want just one column to plot using dataFrame.hist()? \n",
    "\n",
    "Let's Google it, Hint, our df is a pandas \"dataframe\" object"
   ]
  },
  {
   "cell_type": "code",
   "execution_count": null,
   "metadata": {
    "collapsed": true,
    "slideshow": {
     "slide_type": "slide"
    }
   },
   "outputs": [],
   "source": [
    "\n"
   ]
  },
  {
   "cell_type": "code",
   "execution_count": null,
   "metadata": {
    "collapsed": true,
    "slideshow": {
     "slide_type": "slide"
    }
   },
   "outputs": [],
   "source": []
  },
  {
   "cell_type": "markdown",
   "metadata": {
    "collapsed": true,
    "slideshow": {
     "slide_type": "slide"
    }
   },
   "source": [
    "### Once again, we have barely scratched the surface of the functionality of these Packages\n",
    "- If you are intrigued, let us know, because we are actually keen on giving short courses on Numpy, Pandas, Scipy, and plotting with Python"
   ]
  },
  {
   "cell_type": "markdown",
   "metadata": {
    "slideshow": {
     "slide_type": "slide"
    }
   },
   "source": [
    "## Working with text files"
   ]
  },
  {
   "cell_type": "markdown",
   "metadata": {
    "slideshow": {
     "slide_type": "slide"
    }
   },
   "source": [
    "## File Input/Output"
   ]
  },
  {
   "cell_type": "markdown",
   "metadata": {
    "slideshow": {
     "slide_type": "fragment"
    }
   },
   "source": [
    "- Reading Files is something Python is a gun at\n",
    "- you use a function called `open()` that brings in a file object.\n",
    "- You can then use a variety of ***Methods*** to process that object\n",
    "- `open()` takes three arguments - the file path/file name you want to open, the \"access mode\" "
   ]
  },
  {
   "cell_type": "markdown",
   "metadata": {
    "collapsed": true,
    "slideshow": {
     "slide_type": "slide"
    }
   },
   "source": [
    "There are 3 general \"access_modes\"\n",
    "\n",
    "- \"r\" = read. \n",
    "    - only lets you _read_ the data from the file.\n",
    "- \"w\" = write\n",
    "    - lets you _write_ data into a file\n",
    "- \"a\" = append\n",
    "    - lets you _add_ data to the end of an existing file. \n",
    "- \"r+\" = special read/write\n",
    "    - lets you both read and write to/from the same file. "
   ]
  },
  {
   "cell_type": "markdown",
   "metadata": {
    "slideshow": {
     "slide_type": "slide"
    }
   },
   "source": [
    "### Be careful using \"w\"/write though! If you open a file using the \"w\" option, anything that used to be inside that file will be erased.  You would only use this when you are making a new files really"
   ]
  },
  {
   "cell_type": "markdown",
   "metadata": {
    "slideshow": {
     "slide_type": "fragment"
    }
   },
   "source": [
    "- Let's test the \"write\" access mode"
   ]
  },
  {
   "cell_type": "code",
   "execution_count": null,
   "metadata": {
    "collapsed": true,
    "slideshow": {
     "slide_type": "fragment"
    }
   },
   "outputs": [],
   "source": [
    "example = open(\"Robin.txt\", \"w\") #THIS WILL DELETE EVERYTHING IN THE FILE!!!\n",
    "example.close()"
   ]
  },
  {
   "cell_type": "code",
   "execution_count": null,
   "metadata": {
    "collapsed": true,
    "slideshow": {
     "slide_type": "slide"
    }
   },
   "outputs": [],
   "source": [
    "# You essentially only use this to write a new file\n",
    "\n",
    "examplew2 = open('new_example.txt','w')\n",
    "\n",
    "'''\n",
    "This is another way to comment, usually you would put some data into our new file\n",
    "'''\n",
    "\n",
    "examplew2.close()"
   ]
  },
  {
   "cell_type": "markdown",
   "metadata": {
    "slideshow": {
     "slide_type": "fragment"
    }
   },
   "source": [
    "Open the file again on your computer. See how the example text has been erased *** Be very wary of this guys!***"
   ]
  },
  {
   "cell_type": "markdown",
   "metadata": {
    "slideshow": {
     "slide_type": "slide"
    }
   },
   "source": [
    "### File Input - read() function"
   ]
  },
  {
   "cell_type": "markdown",
   "metadata": {
    "slideshow": {
     "slide_type": "fragment"
    }
   },
   "source": [
    "Opening your file is pretty useless if you can't actually see what's in it though"
   ]
  },
  {
   "cell_type": "code",
   "execution_count": null,
   "metadata": {
    "collapsed": true,
    "slideshow": {
     "slide_type": "slide"
    }
   },
   "outputs": [],
   "source": [
    "#open(file name , method of opening)\n",
    "file = open(\"Zen_of_Python.txt\",\"r\")\n",
    "\n",
    "type(file)"
   ]
  },
  {
   "cell_type": "code",
   "execution_count": null,
   "metadata": {
    "collapsed": true,
    "slideshow": {
     "slide_type": "fragment"
    }
   },
   "outputs": [],
   "source": [
    "type(file) # What the hell is that?"
   ]
  },
  {
   "cell_type": "code",
   "execution_count": null,
   "metadata": {
    "collapsed": true,
    "scrolled": true,
    "slideshow": {
     "slide_type": "fragment"
    }
   },
   "outputs": [],
   "source": [
    "# This will give me the whole file's contents at once\n",
    "file = open(\"Zen_of_Python.txt\",\"r\")\n",
    "file.read()"
   ]
  },
  {
   "cell_type": "markdown",
   "metadata": {
    "slideshow": {
     "slide_type": "slide"
    }
   },
   "source": [
    "### So there are a few things to examine in here. \n",
    "- where did the line breaks go?\n",
    "- That's because those `\\n` symbols are \"newline\" characters - when the computer is interpreting text, it will use this newline character to tell it to print that text on a new line. \n",
    "- Our`print()` gets it:"
   ]
  },
  {
   "cell_type": "code",
   "execution_count": null,
   "metadata": {
    "collapsed": true,
    "scrolled": false,
    "slideshow": {
     "slide_type": "slide"
    }
   },
   "outputs": [],
   "source": [
    "file = open(\"Zen_of_Python.txt\",\"r\")\n",
    "file_all = file.read()\n",
    "\n",
    "print(file_all)"
   ]
  },
  {
   "cell_type": "markdown",
   "metadata": {
    "slideshow": {
     "slide_type": "slide"
    }
   },
   "source": [
    "The most common non-printable aka **White space** characters you need to know are:\n",
    "\n",
    "- \\n : new line. You may also sometimes see \\r\\n on files written by Windows systems.\n",
    "- \\t : tab\n",
    "\n"
   ]
  },
  {
   "cell_type": "markdown",
   "metadata": {
    "slideshow": {
     "slide_type": "slide"
    }
   },
   "source": [
    "### The annoying thing is, we probably want to ignore these characters to analyse a text meaningfully right? \n",
    "- Introducing the magic doodad method ```replace()```\n",
    "- I am tired of explaining things so lets just google it and figure out how it works"
   ]
  },
  {
   "cell_type": "code",
   "execution_count": null,
   "metadata": {
    "collapsed": true,
    "slideshow": {
     "slide_type": "fragment"
    }
   },
   "outputs": [],
   "source": [
    "# Go back up and grab our text\n",
    "replacers = ['\\n', '.',',','!','-']\n",
    "for replace in replacers:\n",
    "    file_all2 = file_all2.replace(replace, ' ')\n",
    "file_all2\n",
    "file_all2 = file_all2[17:]\n",
    "file_all2"
   ]
  },
  {
   "cell_type": "markdown",
   "metadata": {
    "slideshow": {
     "slide_type": "slide"
    }
   },
   "source": [
    "### Minichallenge - Lets get ride of the title, author, and our punctuation characters commas, periods, '--' thingies, and exclamation ponts \n",
    "\n",
    "Remember: strings can be treated a lot like lists right so you can slice em up!!!"
   ]
  },
  {
   "cell_type": "code",
   "execution_count": null,
   "metadata": {
    "collapsed": true,
    "slideshow": {
     "slide_type": "fragment"
    }
   },
   "outputs": [],
   "source": []
  },
  {
   "cell_type": "code",
   "execution_count": null,
   "metadata": {
    "collapsed": true,
    "slideshow": {
     "slide_type": "slide"
    }
   },
   "outputs": [],
   "source": []
  },
  {
   "cell_type": "markdown",
   "metadata": {
    "slideshow": {
     "slide_type": "slide"
    }
   },
   "source": [
    "# Lets use the Natural Languange Toolkit to take a look at our text:\n",
    "\n",
    "We want to collect the following info from our  poem:\n",
    "\n",
    "- What words were used the most?"
   ]
  },
  {
   "cell_type": "code",
   "execution_count": null,
   "metadata": {
    "collapsed": true,
    "slideshow": {
     "slide_type": "fragment"
    }
   },
   "outputs": [],
   "source": [
    "import nltk #importing the nltk \n",
    "import collections #importing collections which is a sibling package to nltk\n",
    "from nltk.tokenize.casual import casual_tokenize #importing a particular function from nltk"
   ]
  },
  {
   "cell_type": "code",
   "execution_count": null,
   "metadata": {
    "collapsed": true,
    "slideshow": {
     "slide_type": "slide"
    }
   },
   "outputs": [],
   "source": [
    "# Create a variable copy from our text its a string so we dont need to use a copy command\n",
    "\n",
    "text = file_all2"
   ]
  },
  {
   "cell_type": "code",
   "execution_count": null,
   "metadata": {
    "collapsed": true,
    "slideshow": {
     "slide_type": "fragment"
    }
   },
   "outputs": [],
   "source": [
    "text = text.lower()\n",
    "text"
   ]
  },
  {
   "cell_type": "code",
   "execution_count": null,
   "metadata": {
    "collapsed": true,
    "slideshow": {
     "slide_type": "fragment"
    }
   },
   "outputs": [],
   "source": [
    "text_tok = casual_tokenize(text) # use our imported tokenizing function, lets see what it does\n",
    "\n",
    "text_tok"
   ]
  },
  {
   "cell_type": "code",
   "execution_count": null,
   "metadata": {
    "collapsed": true,
    "slideshow": {
     "slide_type": "slide"
    }
   },
   "outputs": [],
   "source": [
    "from collections import Counter\n",
    "\n",
    "#Counter lets you quickly count how many times a word occurs"
   ]
  },
  {
   "cell_type": "code",
   "execution_count": null,
   "metadata": {
    "collapsed": true,
    "slideshow": {
     "slide_type": "fragment"
    }
   },
   "outputs": [],
   "source": [
    "# Used on a string, it just counts the individual letters\n",
    "Counter('')"
   ]
  },
  {
   "cell_type": "code",
   "execution_count": null,
   "metadata": {
    "collapsed": true,
    "slideshow": {
     "slide_type": "fragment"
    }
   },
   "outputs": [],
   "source": [
    "Counter([\"What\",'about','a', 'list','a','list','you','say'])"
   ]
  },
  {
   "cell_type": "code",
   "execution_count": null,
   "metadata": {
    "collapsed": true,
    "slideshow": {
     "slide_type": "slide"
    }
   },
   "outputs": [],
   "source": [
    "text_tok_counted = Counter(text_tok)\n",
    "text_tok_counted"
   ]
  },
  {
   "cell_type": "code",
   "execution_count": null,
   "metadata": {
    "collapsed": true,
    "slideshow": {
     "slide_type": "slide"
    }
   },
   "outputs": [],
   "source": [
    "text_tok_counted.most_common(2)"
   ]
  },
  {
   "cell_type": "markdown",
   "metadata": {
    "slideshow": {
     "slide_type": "slide"
    }
   },
   "source": [
    "# CONGRATULATIONS FOR REACHING THE END"
   ]
  },
  {
   "cell_type": "markdown",
   "metadata": {
    "slideshow": {
     "slide_type": "fragment"
    }
   },
   "source": [
    "And thus begins the start of your journey into the world of Python. The coming weeks and months are going to be frustrating - you know that you *can* do something, but you *just can't quite* remember how it's done. Or maybe you need to keep looking up the simple things. And general syntax is going to be horrendous to remember.\n"
   ]
  },
  {
   "cell_type": "markdown",
   "metadata": {
    "collapsed": true,
    "slideshow": {
     "slide_type": "slide"
    }
   },
   "source": [
    "![image.png](https://gitlab.unimelb.edu.au/rescom-training/python/introduction-to-python-for-researchers/-/raw/master/Imbedded%20Pics/ending_meme.png)"
   ]
  },
  {
   "cell_type": "markdown",
   "metadata": {
    "slideshow": {
     "slide_type": "slide"
    }
   },
   "source": [
    "## Python Class Graduation Speech/ commandments:\n",
    "\n",
    "1.) Remember the 7 steps of error grief BUt....\n",
    "\n",
    "2.) \"Don't cry over spilt milk\" doesn't really even apply because you didn't even spill any milk (as long as you save older versions of your code that work ;p\n",
    "\n",
    "3.) Work a couple lines at a time, and don't be afraid to work on silly little toy data sets to figure out how stuff works\n",
    "\n",
    "4.) the print() command is a great way to \"look under the hood,\" If your code isn't doing what you think it should, print out your variables and see whats going on\n",
    "\n",
    "5.) ```# COMMENT```, do not assume that future you will remember why you put that loop there or what the variable 'a' stands for \n",
    "\n",
    "5.) There are many ways to do the same thing in Python, don't worry too much about which way you choose especially while learning\n",
    "\n",
    "6.) However, you will **Never** stop learning, there will always be new cool packages to use in Python\n",
    "\n"
   ]
  },
  {
   "cell_type": "markdown",
   "metadata": {
    "slideshow": {
     "slide_type": "slide"
    }
   },
   "source": [
    "## So what next?\n",
    "\n",
    "Lots of online resources and modules, here is one designed for grad students mostly: \n",
    "\n",
    "https://software-carpentry.org/\n",
    "\n",
    "***Try to do something really easy***, something that you already know how to do really quickly in excel etc. But try it with Python"
   ]
  },
  {
   "cell_type": "markdown",
   "metadata": {
    "collapsed": true,
    "slideshow": {
     "slide_type": "slide"
    }
   },
   "source": [
    "### But most importantly: Stay connected with our community, we are here to help\n",
    "\n",
    "We have other trainings in nltk and high speed programming with python, possibly some other package training in the future:\n",
    "\n",
    "Follow the python community on twitter to find out about them\n",
    "\n",
    "@GeoGarber ,@ResPlat "
   ]
  },
  {
   "cell_type": "markdown",
   "metadata": {
    "collapsed": true,
    "slideshow": {
     "slide_type": "skip"
    }
   },
   "source": []
  }
 ],
 "metadata": {
  "kernelspec": {
   "display_name": "Python 3",
   "language": "python",
   "name": "python3"
  },
  "language_info": {
   "codemirror_mode": {
    "name": "ipython",
    "version": 3
   },
   "file_extension": ".py",
   "mimetype": "text/x-python",
   "name": "python",
   "nbconvert_exporter": "python",
   "pygments_lexer": "ipython3",
   "version": "3.9.2"
  },
  "toc": {
   "base_numbering": 1,
   "nav_menu": {
    "height": "288px",
    "width": "252px"
   },
   "number_sections": false,
   "sideBar": false,
   "skip_h1_title": false,
   "title_cell": "Table of Contents",
   "title_sidebar": "Contents",
   "toc_cell": false,
   "toc_position": {
    "height": "40px",
    "left": "630.135px",
    "right": "20px",
    "top": "66px",
    "width": "241px"
   },
   "toc_section_display": false,
   "toc_window_display": true
  },
  "varInspector": {
   "cols": {
    "lenName": 16,
    "lenType": 16,
    "lenVar": 40
   },
   "kernels_config": {
    "python": {
     "delete_cmd_postfix": "",
     "delete_cmd_prefix": "del ",
     "library": "var_list.py",
     "varRefreshCmd": "print(var_dic_list())"
    },
    "r": {
     "delete_cmd_postfix": ") ",
     "delete_cmd_prefix": "rm(",
     "library": "var_list.r",
     "varRefreshCmd": "cat(var_dic_list()) "
    }
   },
   "types_to_exclude": [
    "module",
    "function",
    "builtin_function_or_method",
    "instance",
    "_Feature"
   ],
   "window_display": false
  }
 },
 "nbformat": 4,
 "nbformat_minor": 2
}
