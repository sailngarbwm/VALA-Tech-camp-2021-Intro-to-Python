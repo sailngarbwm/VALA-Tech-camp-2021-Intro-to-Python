{
 "cells": [
  {
   "cell_type": "markdown",
   "id": "intensive-given",
   "metadata": {},
   "source": [
    "# Final practical example:\n"
   ]
  },
  {
   "cell_type": "markdown",
   "id": "resistant-front",
   "metadata": {},
   "source": [
    "### What we know so far:\n",
    "- all librarians are data scientists\n",
    "- coding in python isn't that much different from working with a spreadsheet\n",
    "- we know how to create text data and numerical data, and store it in a string, \n",
    "- we know how to store data in lists, as well as access one item in the list, or a *slice* of items\n",
    "- we can recite the 3 pet peeves of python\n",
    "- we know how to store data in dictionaries, and access them via their keys\n",
    "\n",
    "### What we will learn now:\n",
    "- We will learn how to use two really nifty python libraries to help us with turning a csv in to dublin core xml\n",
    "- We will practice planning a coding script\n",
    "- we will use our knowledge to create a jupyter notebook to do this"
   ]
  },
  {
   "cell_type": "markdown",
   "id": "peaceful-jamaica",
   "metadata": {},
   "source": [
    "## The task- Turn a spreadsheet of metadata into dublin core\n",
    "\n",
    "Any good coding project starts out with some pseudo code to think about what to write before you write it, think of it like outlining a paper"
   ]
  },
  {
   "cell_type": "markdown",
   "id": "overhead-coach",
   "metadata": {},
   "source": [
    "### Example pseudo code\n",
    "Write in order the things you need your code to run:\n",
    "\n",
    "**Step 0:** Upload the libraries you need to run your script\n",
    "\n",
    "**Step 1:** Upload data/ metadata\n",
    "\n",
    "**Step 2:** Preprocess data/ metadata... this could be multiple steps\n",
    "\n",
    "**Step 3:** Create the desired output (a csv, a graph, a map, an xml file etc...)"
   ]
  },
  {
   "cell_type": "markdown",
   "id": "stone-orientation",
   "metadata": {},
   "source": [
    "### Group discussion: Write specific pseudocode for our exercise"
   ]
  },
  {
   "cell_type": "markdown",
   "id": "focal-freeze",
   "metadata": {},
   "source": [
    "### Step 1: Some help with opening a csv, introducing the special powers of pandas?:\n",
    "\n",
    "We first need to upload data from a csv into Python, in order to do that we will use one of the most powerful packages used in Python called, **Pandas**, which is the go to package for working with spreadsheet/tabular \"tidy\" data."
   ]
  },
  {
   "cell_type": "code",
   "execution_count": 1,
   "id": "destroyed-bikini",
   "metadata": {},
   "outputs": [
    {
     "data": {
      "text/html": [
       "<div>\n",
       "<style scoped>\n",
       "    .dataframe tbody tr th:only-of-type {\n",
       "        vertical-align: middle;\n",
       "    }\n",
       "\n",
       "    .dataframe tbody tr th {\n",
       "        vertical-align: top;\n",
       "    }\n",
       "\n",
       "    .dataframe thead th {\n",
       "        text-align: right;\n",
       "    }\n",
       "</style>\n",
       "<table border=\"1\" class=\"dataframe\">\n",
       "  <thead>\n",
       "    <tr style=\"text-align: right;\">\n",
       "      <th></th>\n",
       "      <th>sepal_length</th>\n",
       "      <th>sepal_width</th>\n",
       "      <th>petal_length</th>\n",
       "      <th>petal_width</th>\n",
       "      <th>species</th>\n",
       "    </tr>\n",
       "  </thead>\n",
       "  <tbody>\n",
       "    <tr>\n",
       "      <th>0</th>\n",
       "      <td>5.1</td>\n",
       "      <td>3.5</td>\n",
       "      <td>1.4</td>\n",
       "      <td>0.2</td>\n",
       "      <td>setosa</td>\n",
       "    </tr>\n",
       "    <tr>\n",
       "      <th>1</th>\n",
       "      <td>4.9</td>\n",
       "      <td>3.0</td>\n",
       "      <td>1.4</td>\n",
       "      <td>0.2</td>\n",
       "      <td>setosa</td>\n",
       "    </tr>\n",
       "    <tr>\n",
       "      <th>2</th>\n",
       "      <td>4.7</td>\n",
       "      <td>3.2</td>\n",
       "      <td>1.3</td>\n",
       "      <td>0.2</td>\n",
       "      <td>setosa</td>\n",
       "    </tr>\n",
       "    <tr>\n",
       "      <th>3</th>\n",
       "      <td>4.6</td>\n",
       "      <td>3.1</td>\n",
       "      <td>1.5</td>\n",
       "      <td>0.2</td>\n",
       "      <td>setosa</td>\n",
       "    </tr>\n",
       "    <tr>\n",
       "      <th>4</th>\n",
       "      <td>5.0</td>\n",
       "      <td>3.6</td>\n",
       "      <td>1.4</td>\n",
       "      <td>0.2</td>\n",
       "      <td>setosa</td>\n",
       "    </tr>\n",
       "  </tbody>\n",
       "</table>\n",
       "</div>"
      ],
      "text/plain": [
       "   sepal_length  sepal_width  petal_length  petal_width species\n",
       "0           5.1          3.5           1.4          0.2  setosa\n",
       "1           4.9          3.0           1.4          0.2  setosa\n",
       "2           4.7          3.2           1.3          0.2  setosa\n",
       "3           4.6          3.1           1.5          0.2  setosa\n",
       "4           5.0          3.6           1.4          0.2  setosa"
      ]
     },
     "execution_count": 1,
     "metadata": {},
     "output_type": "execute_result"
    }
   ],
   "source": [
    "import pandas as pd\n",
    "\n",
    "\n",
    "# this file is in the same folder as the notebook\n",
    "df = pd.read_csv(\"example_data/iris.csv\")\n",
    "\n",
    "df.head()"
   ]
  },
  {
   "cell_type": "markdown",
   "id": "cooked-steps",
   "metadata": {},
   "source": [
    "**Sidebar:** How does python know where that csv is? Every running python kernel has a a folder in your computer that it is working in (this can be changed using the command os.chdir() but we won't need that here. When you open up and start a jupyter notebook, the kernel starts running in the folder it is working then. In that case, you can open up a csv in the same folder by just using a string of the file name in pd.read_csv, or use a relative path (like the example above)"
   ]
  },
  {
   "cell_type": "markdown",
   "id": "economic-theta",
   "metadata": {},
   "source": [
    "You can really just think of a pandas \"dataframe\" as a dictionary, full of lists (actually numpy arrays but don't worry about that right now!)"
   ]
  },
  {
   "cell_type": "code",
   "execution_count": 3,
   "id": "terminal-xerox",
   "metadata": {},
   "outputs": [
    {
     "data": {
      "text/plain": [
       "4.6"
      ]
     },
     "execution_count": 3,
     "metadata": {},
     "output_type": "execute_result"
    }
   ],
   "source": [
    "# pull out one of the columns\n",
    "type(df) # what did we make here?\n",
    "df['sepal_length'][3]"
   ]
  },
  {
   "cell_type": "code",
   "execution_count": 5,
   "id": "normal-praise",
   "metadata": {},
   "outputs": [
    {
     "data": {
      "text/html": [
       "<div>\n",
       "<style scoped>\n",
       "    .dataframe tbody tr th:only-of-type {\n",
       "        vertical-align: middle;\n",
       "    }\n",
       "\n",
       "    .dataframe tbody tr th {\n",
       "        vertical-align: top;\n",
       "    }\n",
       "\n",
       "    .dataframe thead th {\n",
       "        text-align: right;\n",
       "    }\n",
       "</style>\n",
       "<table border=\"1\" class=\"dataframe\">\n",
       "  <thead>\n",
       "    <tr style=\"text-align: right;\">\n",
       "      <th></th>\n",
       "      <th>sepal_length</th>\n",
       "      <th>sepal_width</th>\n",
       "      <th>petal_length</th>\n",
       "      <th>petal_width</th>\n",
       "    </tr>\n",
       "  </thead>\n",
       "  <tbody>\n",
       "    <tr>\n",
       "      <th>count</th>\n",
       "      <td>150.000000</td>\n",
       "      <td>150.000000</td>\n",
       "      <td>150.000000</td>\n",
       "      <td>150.000000</td>\n",
       "    </tr>\n",
       "    <tr>\n",
       "      <th>mean</th>\n",
       "      <td>5.843333</td>\n",
       "      <td>3.054000</td>\n",
       "      <td>3.758667</td>\n",
       "      <td>1.198667</td>\n",
       "    </tr>\n",
       "    <tr>\n",
       "      <th>std</th>\n",
       "      <td>0.828066</td>\n",
       "      <td>0.433594</td>\n",
       "      <td>1.764420</td>\n",
       "      <td>0.763161</td>\n",
       "    </tr>\n",
       "    <tr>\n",
       "      <th>min</th>\n",
       "      <td>4.300000</td>\n",
       "      <td>2.000000</td>\n",
       "      <td>1.000000</td>\n",
       "      <td>0.100000</td>\n",
       "    </tr>\n",
       "    <tr>\n",
       "      <th>25%</th>\n",
       "      <td>5.100000</td>\n",
       "      <td>2.800000</td>\n",
       "      <td>1.600000</td>\n",
       "      <td>0.300000</td>\n",
       "    </tr>\n",
       "    <tr>\n",
       "      <th>50%</th>\n",
       "      <td>5.800000</td>\n",
       "      <td>3.000000</td>\n",
       "      <td>4.350000</td>\n",
       "      <td>1.300000</td>\n",
       "    </tr>\n",
       "    <tr>\n",
       "      <th>75%</th>\n",
       "      <td>6.400000</td>\n",
       "      <td>3.300000</td>\n",
       "      <td>5.100000</td>\n",
       "      <td>1.800000</td>\n",
       "    </tr>\n",
       "    <tr>\n",
       "      <th>max</th>\n",
       "      <td>7.900000</td>\n",
       "      <td>4.400000</td>\n",
       "      <td>6.900000</td>\n",
       "      <td>2.500000</td>\n",
       "    </tr>\n",
       "  </tbody>\n",
       "</table>\n",
       "</div>"
      ],
      "text/plain": [
       "       sepal_length  sepal_width  petal_length  petal_width\n",
       "count    150.000000   150.000000    150.000000   150.000000\n",
       "mean       5.843333     3.054000      3.758667     1.198667\n",
       "std        0.828066     0.433594      1.764420     0.763161\n",
       "min        4.300000     2.000000      1.000000     0.100000\n",
       "25%        5.100000     2.800000      1.600000     0.300000\n",
       "50%        5.800000     3.000000      4.350000     1.300000\n",
       "75%        6.400000     3.300000      5.100000     1.800000\n",
       "max        7.900000     4.400000      6.900000     2.500000"
      ]
     },
     "execution_count": 5,
     "metadata": {},
     "output_type": "execute_result"
    }
   ],
   "source": [
    "df.describe()"
   ]
  },
  {
   "cell_type": "code",
   "execution_count": 6,
   "id": "fixed-judges",
   "metadata": {},
   "outputs": [
    {
     "data": {
      "text/plain": [
       "<AxesSubplot:>"
      ]
     },
     "execution_count": 6,
     "metadata": {},
     "output_type": "execute_result"
    },
    {
     "data": {
      "image/png": "[encoded data removed]",
      "text/plain": [
       "<Figure size 432x288 with 1 Axes>"
      ]
     },
     "metadata": {
      "needs_background": "light"
     },
     "output_type": "display_data"
    }
   ],
   "source": [
    "df['sepal_length'].hist()"
   ]
  },
  {
   "cell_type": "markdown",
   "id": "settled-battlefield",
   "metadata": {},
   "source": [
    "In fact, you can even turn it into a dictionary full of lists"
   ]
  },
  {
   "cell_type": "code",
   "execution_count": 7,
   "id": "roman-bangkok",
   "metadata": {},
   "outputs": [
    {
     "name": "stdout",
     "output_type": "stream",
     "text": [
      "Help on function convert_df_row_to_dictionary in module jgarber_respitch.workshop_tools:\n",
      "\n",
      "convert_df_row_to_dictionary(df: pandas.core.frame.DataFrame, row_number: int)\n",
      "    converts the row of a dataframe to a dictionary\n",
      "    of lists\n",
      "    \n",
      "    :param df: input dataframe\n",
      "    :type df: pd.DataFrame\n",
      "    :param row_number: row to convert into a dictionary\n",
      "    \n",
      "    :return: dictionary of the values, where keys are the column names, and the values are lists of the values\n",
      "    :rtype: dictionary\n",
      "\n"
     ]
    }
   ],
   "source": [
    "from jgarber_respitch.workshop_tools import convert_df_row_to_dictionary\n",
    "\n",
    "help(convert_df_row_to_dictionary)"
   ]
  },
  {
   "cell_type": "code",
   "execution_count": 8,
   "id": "competitive-proxy",
   "metadata": {},
   "outputs": [
    {
     "data": {
      "text/plain": [
       "{'sepal_length': [4.9],\n",
       " 'sepal_width': [3.0],\n",
       " 'petal_length': [1.4],\n",
       " 'petal_width': [0.2],\n",
       " 'species': ['setosa']}"
      ]
     },
     "execution_count": 8,
     "metadata": {},
     "output_type": "execute_result"
    }
   ],
   "source": [
    "convert_df_row_to_dictionary(df,1)"
   ]
  },
  {
   "cell_type": "markdown",
   "id": "alpha-atmosphere",
   "metadata": {},
   "source": [
    "### Data frames have attributes as well as methods:\n",
    "\n",
    "Attributes are kind of like variables that are stored within the object, and are accessed kind of like a method but without the `()`."
   ]
  },
  {
   "cell_type": "code",
   "execution_count": 9,
   "id": "royal-surfing",
   "metadata": {},
   "outputs": [
    {
     "data": {
      "text/plain": [
       "Index(['sepal_length', 'sepal_width', 'petal_length', 'petal_width',\n",
       "       'species'],\n",
       "      dtype='object')"
      ]
     },
     "execution_count": 9,
     "metadata": {},
     "output_type": "execute_result"
    }
   ],
   "source": [
    "df.columns"
   ]
  },
  {
   "cell_type": "code",
   "execution_count": 10,
   "id": "proof-brooks",
   "metadata": {},
   "outputs": [
    {
     "data": {
      "text/plain": [
       "sepal_length    float64\n",
       "sepal_width     float64\n",
       "petal_length    float64\n",
       "petal_width     float64\n",
       "species          object\n",
       "dtype: object"
      ]
     },
     "execution_count": 10,
     "metadata": {},
     "output_type": "execute_result"
    }
   ],
   "source": [
    "df.dtypes"
   ]
  },
  {
   "cell_type": "code",
   "execution_count": 11,
   "id": "irish-responsibility",
   "metadata": {},
   "outputs": [
    {
     "data": {
      "text/plain": [
       "(150, 5)"
      ]
     },
     "execution_count": 11,
     "metadata": {},
     "output_type": "execute_result"
    }
   ],
   "source": [
    "df.shape"
   ]
  },
  {
   "cell_type": "markdown",
   "id": "dedicated-stuart",
   "metadata": {},
   "source": [
    "### Exercise 5.1 open your first csv:\n",
    "1. open the mild_DC_dataset.csv in the exercise_data folder\n",
    "2. find out what column names the dataset has\n",
    "3. take a look at the top five rows of the dataset (bonus points for looking at the bottom 5 rows)\n",
    "4. find out how big the dataset is"
   ]
  },
  {
   "cell_type": "code",
   "execution_count": 12,
   "id": "adolescent-raising",
   "metadata": {},
   "outputs": [],
   "source": [
    "# upload the dataset in exercise_data/mild_DC_dataset.csv\n",
    "newdf = pd.read_csv(\"exercise_data/mild_DC_dataset.csv\")\n",
    "\n"
   ]
  },
  {
   "cell_type": "code",
   "execution_count": 13,
   "id": "broke-spice",
   "metadata": {},
   "outputs": [
    {
     "data": {
      "text/plain": [
       "Index(['titles', 'descriptions', 'creators', 'types', 'rights', 'formats',\n",
       "       'dates'],\n",
       "      dtype='object')"
      ]
     },
     "execution_count": 13,
     "metadata": {},
     "output_type": "execute_result"
    }
   ],
   "source": [
    "# print out the columns of the dataset\n",
    "newdf.columns"
   ]
  },
  {
   "cell_type": "code",
   "execution_count": 15,
   "id": "internal-nothing",
   "metadata": {},
   "outputs": [
    {
     "data": {
      "text/html": [
       "<div>\n",
       "<style scoped>\n",
       "    .dataframe tbody tr th:only-of-type {\n",
       "        vertical-align: middle;\n",
       "    }\n",
       "\n",
       "    .dataframe tbody tr th {\n",
       "        vertical-align: top;\n",
       "    }\n",
       "\n",
       "    .dataframe thead th {\n",
       "        text-align: right;\n",
       "    }\n",
       "</style>\n",
       "<table border=\"1\" class=\"dataframe\">\n",
       "  <thead>\n",
       "    <tr style=\"text-align: right;\">\n",
       "      <th></th>\n",
       "      <th>titles</th>\n",
       "      <th>descriptions</th>\n",
       "      <th>creators</th>\n",
       "      <th>types</th>\n",
       "      <th>rights</th>\n",
       "      <th>formats</th>\n",
       "      <th>dates</th>\n",
       "    </tr>\n",
       "  </thead>\n",
       "  <tbody>\n",
       "    <tr>\n",
       "      <th>0</th>\n",
       "      <td>Doug Smith and Liz, John Knox Church.</td>\n",
       "      <td>Portraits of Doug and Liz Smith and two boys.</td>\n",
       "      <td>Diaz, Maggie,1925-2016, photographer.</td>\n",
       "      <td>StillImage</td>\n",
       "      <td>This work is in copyright.</td>\n",
       "      <td>TIFF</td>\n",
       "      <td>1970/1979</td>\n",
       "    </tr>\n",
       "    <tr>\n",
       "      <th>1</th>\n",
       "      <td>Charm class, Lower North Centre, Chicago, Unit...</td>\n",
       "      <td>Portrait photographs of young African American...</td>\n",
       "      <td>Diaz, Maggie,1925-2016, photographer.</td>\n",
       "      <td>StillImage</td>\n",
       "      <td>This work is in copyright.</td>\n",
       "      <td>TIFF</td>\n",
       "      <td>1953/1961</td>\n",
       "    </tr>\n",
       "    <tr>\n",
       "      <th>2</th>\n",
       "      <td>Charm class, Lower North Centre, Chicago, Unit...</td>\n",
       "      <td>Portrait photographs of young African American...</td>\n",
       "      <td>Diaz, Maggie,1925-2016, photographer.</td>\n",
       "      <td>StillImage</td>\n",
       "      <td>This work is in copyright.</td>\n",
       "      <td>TIFF</td>\n",
       "      <td>1953/1961</td>\n",
       "    </tr>\n",
       "    <tr>\n",
       "      <th>3</th>\n",
       "      <td>Wedding of Vivian Jarny [or Garny?].</td>\n",
       "      <td>Includes bride and groom, attendants and guest...</td>\n",
       "      <td>Diaz, Maggie,1925-2016, photographer.</td>\n",
       "      <td>StillImage</td>\n",
       "      <td>This work is in copyright.</td>\n",
       "      <td>TIFF</td>\n",
       "      <td>1980/1989</td>\n",
       "    </tr>\n",
       "    <tr>\n",
       "      <th>4</th>\n",
       "      <td>Performance with maritime theme at La Mama, di...</td>\n",
       "      <td>Includes other images of same actors in differ...</td>\n",
       "      <td>Diaz, Maggie,1925-2016, photographer.</td>\n",
       "      <td>StillImage</td>\n",
       "      <td>This work is in copyright.</td>\n",
       "      <td>TIFF</td>\n",
       "      <td>1990/1999</td>\n",
       "    </tr>\n",
       "  </tbody>\n",
       "</table>\n",
       "</div>"
      ],
      "text/plain": [
       "                                              titles  \\\n",
       "0              Doug Smith and Liz, John Knox Church.   \n",
       "1  Charm class, Lower North Centre, Chicago, Unit...   \n",
       "2  Charm class, Lower North Centre, Chicago, Unit...   \n",
       "3               Wedding of Vivian Jarny [or Garny?].   \n",
       "4  Performance with maritime theme at La Mama, di...   \n",
       "\n",
       "                                        descriptions  \\\n",
       "0      Portraits of Doug and Liz Smith and two boys.   \n",
       "1  Portrait photographs of young African American...   \n",
       "2  Portrait photographs of young African American...   \n",
       "3  Includes bride and groom, attendants and guest...   \n",
       "4  Includes other images of same actors in differ...   \n",
       "\n",
       "                                creators       types  \\\n",
       "0  Diaz, Maggie,1925-2016, photographer.  StillImage   \n",
       "1  Diaz, Maggie,1925-2016, photographer.  StillImage   \n",
       "2  Diaz, Maggie,1925-2016, photographer.  StillImage   \n",
       "3  Diaz, Maggie,1925-2016, photographer.  StillImage   \n",
       "4  Diaz, Maggie,1925-2016, photographer.  StillImage   \n",
       "\n",
       "                       rights formats      dates  \n",
       "0  This work is in copyright.    TIFF  1970/1979  \n",
       "1  This work is in copyright.    TIFF  1953/1961  \n",
       "2  This work is in copyright.    TIFF  1953/1961  \n",
       "3  This work is in copyright.    TIFF  1980/1989  \n",
       "4  This work is in copyright.    TIFF  1990/1999  "
      ]
     },
     "execution_count": 15,
     "metadata": {},
     "output_type": "execute_result"
    }
   ],
   "source": [
    "# print out the top five rows of the dataset\n",
    "newdf.head()\n"
   ]
  },
  {
   "cell_type": "code",
   "execution_count": null,
   "id": "vanilla-moldova",
   "metadata": {},
   "outputs": [],
   "source": [
    "# find out how big the dataset is"
   ]
  },
  {
   "cell_type": "markdown",
   "id": "gross-liability",
   "metadata": {},
   "source": [
    "### Step -1: Outputing an xml file:\n",
    "\n",
    "I said at the beginning that usually you have to create your own special powers by writing your own code to do what you want, but this time I am wrong. Luckily some really clever people have already written a package to create Simple Dublin Core xml files called dcxml:"
   ]
  },
  {
   "cell_type": "code",
   "execution_count": 16,
   "id": "quality-medication",
   "metadata": {},
   "outputs": [],
   "source": [
    "from dcxml import simpledc"
   ]
  },
  {
   "cell_type": "markdown",
   "id": "armed-edward",
   "metadata": {},
   "source": [
    "All you need to do is feed it a dictionary with these ***specific*** keys:"
   ]
  },
  {
   "cell_type": "code",
   "execution_count": 18,
   "id": "statutory-register",
   "metadata": {},
   "outputs": [
    {
     "name": "stdout",
     "output_type": "stream",
     "text": [
      "<?xml version='1.0' encoding='utf-8'?>\n",
      "<oai_dc:dc xmlns:dc=\"http://purl.org/dc/elements/1.1/\" xmlns:oai_dc=\"http://www.openarchives.org/OAI/2.0/oai_dc/\" xmlns:xsi=\"http://www.w3.org/2001/XMLSchema-instance\" xsi:schemaLocation=\"http://www.openarchives.org/OAI/2.0/oai_dc/ http://www.openarchives.org/OAI/2.0/oai_dc.xsd\">\n",
      "  <dc:contributor>CERN</dc:contributor>\n",
      "  <dc:coverage>Geneva</dc:coverage>\n",
      "  <dc:creator>CERN</dc:creator>\n",
      "  <dc:date>2002</dc:date>\n",
      "  <dc:description>Simple Dublin Core generation</dc:description>\n",
      "  <dc:format>application/xml</dc:format>\n",
      "  <dc:publisher>CERN</dc:publisher>\n",
      "  <dc:relation>Invenio Software</dc:relation>\n",
      "  <dc:rights>MIT</dc:rights>\n",
      "  <dc:source>Python</dc:source>\n",
      "  <dc:title>Dublin Core XML</dc:title>\n",
      "  <dc:type>Software</dc:type>\n",
      "</oai_dc:dc>\n",
      "\n"
     ]
    }
   ],
   "source": [
    "data = {\n",
    "        'contributors' : ['CERN'],\n",
    "        'coverage' : ['Geneva'],\n",
    "        'creators' : ['CERN'],\n",
    "        'dates' : ['2002'],\n",
    "        'descriptions' : ['Simple Dublin Core generation'],\n",
    "        'formats' : ['application/xml'],\n",
    "#         'identifiers' : ['dublin-core'],\n",
    "#         'languages' : ['en'],\n",
    "        'publishers' : ['CERN'],\n",
    "        'relations' : ['Invenio Software'],\n",
    "        'rights' : ['MIT'],\n",
    "        'sources' : ['Python'],\n",
    "        'subject' : ['XML'],\n",
    "        'titles' : ['Dublin Core XML'],\n",
    "        'types' : ['Software'],\n",
    "         'extra': ['extra']\n",
    "       }\n",
    "\n",
    "xml = simpledc.tostring(data)\n",
    "print(xml)"
   ]
  },
  {
   "cell_type": "markdown",
   "id": "arbitrary-driving",
   "metadata": {},
   "source": [
    "### Exercise: Have a go with this library\n",
    "What happens when you don't have all the metadata fields listed as dictionary keys in data above? will it still create an xml?"
   ]
  },
  {
   "cell_type": "code",
   "execution_count": null,
   "id": "presidential-sacrifice",
   "metadata": {},
   "outputs": [],
   "source": []
  },
  {
   "cell_type": "markdown",
   "id": "danish-password",
   "metadata": {},
   "source": [
    "### Final Project Part one: Turn the easy_DC_dataset , row number 5, into xml:\n",
    "1. Update the pseudocode for this project now that we have our two magic powers, Pandas and dcxml (we will do this together)\n",
    "2. write a script to turn the dataframe into xml formatted string"
   ]
  },
  {
   "cell_type": "code",
   "execution_count": 22,
   "id": "proved-burton",
   "metadata": {},
   "outputs": [
    {
     "data": {
      "text/plain": [
       "{'titles': ['Charm class, Lower North Centre, Chicago, United States.'],\n",
       " 'descriptions': [\"Portrait photographs of young African American women, standing, seated, posed looking out of window, profiles, standing in front of a blackboard, includes young girls, one in a party frock; Also shows them in a group in 'classes'; putting on makeup.\"],\n",
       " 'creators': ['Diaz, Maggie,1925-2016, photographer.'],\n",
       " 'types': ['StillImage'],\n",
       " 'rights': ['This work is in copyright.'],\n",
       " 'formats': ['TIFF'],\n",
       " 'dates': ['1953/1961']}"
      ]
     },
     "execution_count": 22,
     "metadata": {},
     "output_type": "execute_result"
    }
   ],
   "source": [
    "row_as_dictionary = convert_df_row_to_dictionary(newdf,1)\n",
    "row_as_dictionary"
   ]
  },
  {
   "cell_type": "code",
   "execution_count": 24,
   "id": "norwegian-stamp",
   "metadata": {},
   "outputs": [
    {
     "name": "stdout",
     "output_type": "stream",
     "text": [
      "<?xml version='1.0' encoding='utf-8'?>\n",
      "<oai_dc:dc xmlns:dc=\"http://purl.org/dc/elements/1.1/\" xmlns:oai_dc=\"http://www.openarchives.org/OAI/2.0/oai_dc/\" xmlns:xsi=\"http://www.w3.org/2001/XMLSchema-instance\" xsi:schemaLocation=\"http://www.openarchives.org/OAI/2.0/oai_dc/ http://www.openarchives.org/OAI/2.0/oai_dc.xsd\">\n",
      "  <dc:creator>Diaz, Maggie,1925-2016, photographer.</dc:creator>\n",
      "  <dc:date>1953/1961</dc:date>\n",
      "  <dc:description>Portrait photographs of young African American women, standing, seated, posed looking out of window, profiles, standing in front of a blackboard, includes young girls, one in a party frock; Also shows them in a group in 'classes'; putting on makeup.</dc:description>\n",
      "  <dc:format>TIFF</dc:format>\n",
      "  <dc:rights>This work is in copyright.</dc:rights>\n",
      "  <dc:title>Charm class, Lower North Centre, Chicago, United States.</dc:title>\n",
      "  <dc:type>StillImage</dc:type>\n",
      "</oai_dc:dc>\n",
      "\n"
     ]
    }
   ],
   "source": [
    "print(simpledc.tostring(row_as_dictionary))"
   ]
  },
  {
   "cell_type": "code",
   "execution_count": null,
   "id": "frank-manor",
   "metadata": {},
   "outputs": [],
   "source": []
  },
  {
   "cell_type": "code",
   "execution_count": null,
   "id": "alone-breeding",
   "metadata": {},
   "outputs": [],
   "source": []
  },
  {
   "cell_type": "markdown",
   "id": "three-treatment",
   "metadata": {},
   "source": [
    "### Extra Credit Exercises: Turn the medium_DC_dataset.csv, row number 10, into xml\n",
    "\n",
    "This one you may have to double check to see if the column names are right, if they aren't then check out the [dataframe.rename](https://pandas.pydata.org/pandas-docs/stable/reference/api/pandas.DataFrame.rename.html) method, and perhaps check the dictionary we created in part 4 as a help...."
   ]
  },
  {
   "cell_type": "code",
   "execution_count": null,
   "id": "boring-chamber",
   "metadata": {},
   "outputs": [],
   "source": []
  },
  {
   "cell_type": "code",
   "execution_count": null,
   "id": "royal-malawi",
   "metadata": {},
   "outputs": [],
   "source": []
  },
  {
   "cell_type": "markdown",
   "id": "verbal-medline",
   "metadata": {},
   "source": [
    "### Homework, getting Loopy!\n",
    "\n",
    "It's pretty annoying to go through each row one at a time right? We totally agree! Thats why all languages have loops, which allows one to repeat code for a specified or calculated number of times. One can use a `for` loop, to repeat code ***for*** as many times as specified when the loop is created.\n",
    "\n",
    "Please check out my youtube video on the subject:\n",
    "\n",
    "https://youtu.be/-NM7jO_QXa0\n",
    "\n",
    "These things are often done with a range, which is a way to make a python object that gives you all the integers within a given range"
   ]
  },
  {
   "cell_type": "code",
   "execution_count": null,
   "id": "warming-repair",
   "metadata": {},
   "outputs": [],
   "source": [
    "for number in range(1,10):\n",
    "    print(number) # is the number 10 printed?"
   ]
  },
  {
   "cell_type": "markdown",
   "id": "excess-studio",
   "metadata": {},
   "source": [
    "now that we can create a range of integers, what if we also used those integers to go through every row of a our dataframe, and convert it into an xml? give that a go:"
   ]
  },
  {
   "cell_type": "code",
   "execution_count": null,
   "id": "intermediate-attendance",
   "metadata": {},
   "outputs": [],
   "source": []
  },
  {
   "cell_type": "markdown",
   "id": "marked-coupon",
   "metadata": {},
   "source": [
    "# CONGRATULATIONS FOR REACHING THE END"
   ]
  },
  {
   "cell_type": "markdown",
   "id": "responsible-florida",
   "metadata": {},
   "source": [
    "And thus begins the start of your journey into the world of Python. The coming weeks and months are going to be frustrating - you know that you *can* do something, but you *just can't quite* remember how it's done. Or maybe you need to keep looking up the simple things. And general syntax is going to be horrendous to remember."
   ]
  },
  {
   "cell_type": "markdown",
   "id": "valuable-cannon",
   "metadata": {},
   "source": [
    "![image.png](https://github.com/sailngarbwm/VALA-Tech-camp-2021-Intro-to-Python/raw/main/Imbedded%20Pics/end_cartoon.png)"
   ]
  },
  {
   "cell_type": "markdown",
   "id": "manufactured-memorabilia",
   "metadata": {},
   "source": [
    "### What we have learned\n",
    "- All librarians are data scientists\n",
    "- Coding is not that much different than doing things in excel, it is in the end easier to read, and has way way way more capabilities\n",
    "- we learned about the types of data, and using functions and methods\n",
    "- we can recite the 3 pet peeves of python\n",
    "- we can store and use data and other python objects in lists and dictionaries\n",
    "- We can use pandas to bring csv data into python, and manipulate that data\n",
    "- We can use dcxml to create Dublin Core files\n",
    "- we are ready to continue the lifelong learning journey into coding with python"
   ]
  },
  {
   "cell_type": "code",
   "execution_count": null,
   "id": "dimensional-worry",
   "metadata": {},
   "outputs": [],
   "source": []
  }
 ],
 "metadata": {
  "kernelspec": {
   "display_name": "Python 3",
   "language": "python",
   "name": "python3"
  },
  "language_info": {
   "codemirror_mode": {
    "name": "ipython",
    "version": 3
   },
   "file_extension": ".py",
   "mimetype": "text/x-python",
   "name": "python",
   "nbconvert_exporter": "python",
   "pygments_lexer": "ipython3",
   "version": "3.9.2"
  }
 },
 "nbformat": 4,
 "nbformat_minor": 5
}
